{
  "nbformat": 4,
  "nbformat_minor": 0,
  "metadata": {
    "colab": {
      "name": "MiniProjetoFinalPandas.ipynb",
      "provenance": [],
      "authorship_tag": "ABX9TyOfV/S6Ckm17VJW5qoExQnh",
      "include_colab_link": true
    },
    "kernelspec": {
      "name": "python3",
      "display_name": "Python 3"
    },
    "language_info": {
      "name": "python"
    }
  },
  "cells": [
    {
      "cell_type": "markdown",
      "metadata": {
        "id": "view-in-github",
        "colab_type": "text"
      },
      "source": [
        "<a href=\"https://colab.research.google.com/github/lluk4z/MiniprojetoFinal-Bcw6-Soulcode/blob/main/MiniProjetoFinalPandas.ipynb\" target=\"_parent\"><img src=\"https://colab.research.google.com/assets/colab-badge.svg\" alt=\"Open In Colab\"/></a>"
      ]
    },
    {
      "cell_type": "code",
      "metadata": {
        "id": "gcxVxrF0dNz2"
      },
      "source": [
        "pip install apache-beam[gcp]"
      ],
      "execution_count": null,
      "outputs": []
    },
    {
      "cell_type": "code",
      "metadata": {
        "id": "K3auuYasdwvT"
      },
      "source": [
        "pip install fsspec"
      ],
      "execution_count": null,
      "outputs": []
    },
    {
      "cell_type": "code",
      "metadata": {
        "id": "4GZQzLPad6BY"
      },
      "source": [
        "pip install gcsfs"
      ],
      "execution_count": null,
      "outputs": []
    },
    {
      "cell_type": "code",
      "metadata": {
        "id": "yow7EDwrb3t5"
      },
      "source": [
        "import pandas as pd\n",
        "import gcsfs\n",
        "from io import BytesIO, StringIO\n",
        "from google.cloud import storage\n",
        "from google.oauth2 import service_account"
      ],
      "execution_count": 3,
      "outputs": []
    },
    {
      "cell_type": "markdown",
      "metadata": {
        "id": "ai9fni0LCwBO"
      },
      "source": [
        "# Criação do dataframe a partir dos dados armazenados no bucket"
      ]
    },
    {
      "cell_type": "code",
      "metadata": {
        "id": "4ewLiMO_eVQy"
      },
      "source": [
        "fs = gcsfs.GCSFileSystem(project='miniprojetofinal')\n",
        "with fs.open('gs://bucket-mini-projeto-lucas-emanuel/marketing_campaign.csv') as f:\n",
        "    df = pd.read_csv(f, parse_dates=['Dt_Customer'], dayfirst=True)"
      ],
      "execution_count": 4,
      "outputs": []
    },
    {
      "cell_type": "code",
      "metadata": {
        "colab": {
          "base_uri": "https://localhost:8080/",
          "height": 241
        },
        "id": "KPxkB-7UdJPw",
        "outputId": "e77b0439-12a4-4649-b547-13654f6c0417"
      },
      "source": [
        "df.head()"
      ],
      "execution_count": 5,
      "outputs": [
        {
          "output_type": "execute_result",
          "data": {
            "text/html": [
              "<div>\n",
              "<style scoped>\n",
              "    .dataframe tbody tr th:only-of-type {\n",
              "        vertical-align: middle;\n",
              "    }\n",
              "\n",
              "    .dataframe tbody tr th {\n",
              "        vertical-align: top;\n",
              "    }\n",
              "\n",
              "    .dataframe thead th {\n",
              "        text-align: right;\n",
              "    }\n",
              "</style>\n",
              "<table border=\"1\" class=\"dataframe\">\n",
              "  <thead>\n",
              "    <tr style=\"text-align: right;\">\n",
              "      <th></th>\n",
              "      <th>Unnamed: 0</th>\n",
              "      <th>ID</th>\n",
              "      <th>Year_Birth</th>\n",
              "      <th>Education</th>\n",
              "      <th>Marital_Status</th>\n",
              "      <th>Income</th>\n",
              "      <th>Kidhome</th>\n",
              "      <th>Teenhome</th>\n",
              "      <th>Dt_Customer</th>\n",
              "      <th>Recency</th>\n",
              "      <th>MntWines</th>\n",
              "      <th>MntFruits</th>\n",
              "      <th>MntMeatProducts</th>\n",
              "      <th>MntFishProducts</th>\n",
              "      <th>MntSweetProducts</th>\n",
              "      <th>MntGoldProds</th>\n",
              "      <th>NumDealsPurchases</th>\n",
              "      <th>NumWebPurchases</th>\n",
              "      <th>NumCatalogPurchases</th>\n",
              "      <th>NumStorePurchases</th>\n",
              "      <th>NumWebVisitsMonth</th>\n",
              "      <th>AcceptedCmp3</th>\n",
              "      <th>AcceptedCmp4</th>\n",
              "      <th>AcceptedCmp5</th>\n",
              "      <th>AcceptedCmp1</th>\n",
              "      <th>AcceptedCmp2</th>\n",
              "      <th>Complain</th>\n",
              "      <th>Z_CostContact</th>\n",
              "      <th>Z_Revenue</th>\n",
              "      <th>Response</th>\n",
              "    </tr>\n",
              "  </thead>\n",
              "  <tbody>\n",
              "    <tr>\n",
              "      <th>0</th>\n",
              "      <td>0</td>\n",
              "      <td>5524</td>\n",
              "      <td>1957</td>\n",
              "      <td>Graduation</td>\n",
              "      <td>Single</td>\n",
              "      <td>58138.0</td>\n",
              "      <td>0</td>\n",
              "      <td>0</td>\n",
              "      <td>2012-09-04</td>\n",
              "      <td>58</td>\n",
              "      <td>635</td>\n",
              "      <td>88</td>\n",
              "      <td>546</td>\n",
              "      <td>172</td>\n",
              "      <td>88</td>\n",
              "      <td>88</td>\n",
              "      <td>3</td>\n",
              "      <td>8</td>\n",
              "      <td>10</td>\n",
              "      <td>4</td>\n",
              "      <td>7</td>\n",
              "      <td>0</td>\n",
              "      <td>0</td>\n",
              "      <td>0</td>\n",
              "      <td>0</td>\n",
              "      <td>0</td>\n",
              "      <td>0</td>\n",
              "      <td>3</td>\n",
              "      <td>11</td>\n",
              "      <td>1</td>\n",
              "    </tr>\n",
              "    <tr>\n",
              "      <th>1</th>\n",
              "      <td>1</td>\n",
              "      <td>2174</td>\n",
              "      <td>1954</td>\n",
              "      <td>Graduation</td>\n",
              "      <td>Single</td>\n",
              "      <td>46344.0</td>\n",
              "      <td>1</td>\n",
              "      <td>1</td>\n",
              "      <td>2014-03-08</td>\n",
              "      <td>38</td>\n",
              "      <td>11</td>\n",
              "      <td>1</td>\n",
              "      <td>6</td>\n",
              "      <td>2</td>\n",
              "      <td>1</td>\n",
              "      <td>6</td>\n",
              "      <td>2</td>\n",
              "      <td>1</td>\n",
              "      <td>1</td>\n",
              "      <td>2</td>\n",
              "      <td>5</td>\n",
              "      <td>0</td>\n",
              "      <td>0</td>\n",
              "      <td>0</td>\n",
              "      <td>0</td>\n",
              "      <td>0</td>\n",
              "      <td>0</td>\n",
              "      <td>3</td>\n",
              "      <td>11</td>\n",
              "      <td>0</td>\n",
              "    </tr>\n",
              "    <tr>\n",
              "      <th>2</th>\n",
              "      <td>2</td>\n",
              "      <td>4141</td>\n",
              "      <td>1965</td>\n",
              "      <td>Graduation</td>\n",
              "      <td>Together</td>\n",
              "      <td>71613.0</td>\n",
              "      <td>0</td>\n",
              "      <td>0</td>\n",
              "      <td>2013-08-21</td>\n",
              "      <td>26</td>\n",
              "      <td>426</td>\n",
              "      <td>49</td>\n",
              "      <td>127</td>\n",
              "      <td>111</td>\n",
              "      <td>21</td>\n",
              "      <td>42</td>\n",
              "      <td>1</td>\n",
              "      <td>8</td>\n",
              "      <td>2</td>\n",
              "      <td>10</td>\n",
              "      <td>4</td>\n",
              "      <td>0</td>\n",
              "      <td>0</td>\n",
              "      <td>0</td>\n",
              "      <td>0</td>\n",
              "      <td>0</td>\n",
              "      <td>0</td>\n",
              "      <td>3</td>\n",
              "      <td>11</td>\n",
              "      <td>0</td>\n",
              "    </tr>\n",
              "    <tr>\n",
              "      <th>3</th>\n",
              "      <td>3</td>\n",
              "      <td>6182</td>\n",
              "      <td>1984</td>\n",
              "      <td>Graduation</td>\n",
              "      <td>Together</td>\n",
              "      <td>26646.0</td>\n",
              "      <td>1</td>\n",
              "      <td>0</td>\n",
              "      <td>2014-02-10</td>\n",
              "      <td>26</td>\n",
              "      <td>11</td>\n",
              "      <td>4</td>\n",
              "      <td>20</td>\n",
              "      <td>10</td>\n",
              "      <td>3</td>\n",
              "      <td>5</td>\n",
              "      <td>2</td>\n",
              "      <td>2</td>\n",
              "      <td>0</td>\n",
              "      <td>4</td>\n",
              "      <td>6</td>\n",
              "      <td>0</td>\n",
              "      <td>0</td>\n",
              "      <td>0</td>\n",
              "      <td>0</td>\n",
              "      <td>0</td>\n",
              "      <td>0</td>\n",
              "      <td>3</td>\n",
              "      <td>11</td>\n",
              "      <td>0</td>\n",
              "    </tr>\n",
              "    <tr>\n",
              "      <th>4</th>\n",
              "      <td>4</td>\n",
              "      <td>5324</td>\n",
              "      <td>1981</td>\n",
              "      <td>PhD</td>\n",
              "      <td>Married</td>\n",
              "      <td>58293.0</td>\n",
              "      <td>1</td>\n",
              "      <td>0</td>\n",
              "      <td>2014-01-19</td>\n",
              "      <td>94</td>\n",
              "      <td>173</td>\n",
              "      <td>43</td>\n",
              "      <td>118</td>\n",
              "      <td>46</td>\n",
              "      <td>27</td>\n",
              "      <td>15</td>\n",
              "      <td>5</td>\n",
              "      <td>5</td>\n",
              "      <td>3</td>\n",
              "      <td>6</td>\n",
              "      <td>5</td>\n",
              "      <td>0</td>\n",
              "      <td>0</td>\n",
              "      <td>0</td>\n",
              "      <td>0</td>\n",
              "      <td>0</td>\n",
              "      <td>0</td>\n",
              "      <td>3</td>\n",
              "      <td>11</td>\n",
              "      <td>0</td>\n",
              "    </tr>\n",
              "  </tbody>\n",
              "</table>\n",
              "</div>"
            ],
            "text/plain": [
              "   Unnamed: 0    ID  Year_Birth  ... Z_CostContact Z_Revenue  Response\n",
              "0           0  5524        1957  ...             3        11         1\n",
              "1           1  2174        1954  ...             3        11         0\n",
              "2           2  4141        1965  ...             3        11         0\n",
              "3           3  6182        1984  ...             3        11         0\n",
              "4           4  5324        1981  ...             3        11         0\n",
              "\n",
              "[5 rows x 30 columns]"
            ]
          },
          "metadata": {},
          "execution_count": 5
        }
      ]
    },
    {
      "cell_type": "code",
      "metadata": {
        "colab": {
          "base_uri": "https://localhost:8080/",
          "height": 224
        },
        "id": "FTjYKv6dtRN0",
        "outputId": "b8cea3f4-dca2-481c-8f0c-df6bfeec01c5"
      },
      "source": [
        "df = df.drop(columns=['Unnamed: 0'])\n",
        "df.head()"
      ],
      "execution_count": 6,
      "outputs": [
        {
          "output_type": "execute_result",
          "data": {
            "text/html": [
              "<div>\n",
              "<style scoped>\n",
              "    .dataframe tbody tr th:only-of-type {\n",
              "        vertical-align: middle;\n",
              "    }\n",
              "\n",
              "    .dataframe tbody tr th {\n",
              "        vertical-align: top;\n",
              "    }\n",
              "\n",
              "    .dataframe thead th {\n",
              "        text-align: right;\n",
              "    }\n",
              "</style>\n",
              "<table border=\"1\" class=\"dataframe\">\n",
              "  <thead>\n",
              "    <tr style=\"text-align: right;\">\n",
              "      <th></th>\n",
              "      <th>ID</th>\n",
              "      <th>Year_Birth</th>\n",
              "      <th>Education</th>\n",
              "      <th>Marital_Status</th>\n",
              "      <th>Income</th>\n",
              "      <th>Kidhome</th>\n",
              "      <th>Teenhome</th>\n",
              "      <th>Dt_Customer</th>\n",
              "      <th>Recency</th>\n",
              "      <th>MntWines</th>\n",
              "      <th>MntFruits</th>\n",
              "      <th>MntMeatProducts</th>\n",
              "      <th>MntFishProducts</th>\n",
              "      <th>MntSweetProducts</th>\n",
              "      <th>MntGoldProds</th>\n",
              "      <th>NumDealsPurchases</th>\n",
              "      <th>NumWebPurchases</th>\n",
              "      <th>NumCatalogPurchases</th>\n",
              "      <th>NumStorePurchases</th>\n",
              "      <th>NumWebVisitsMonth</th>\n",
              "      <th>AcceptedCmp3</th>\n",
              "      <th>AcceptedCmp4</th>\n",
              "      <th>AcceptedCmp5</th>\n",
              "      <th>AcceptedCmp1</th>\n",
              "      <th>AcceptedCmp2</th>\n",
              "      <th>Complain</th>\n",
              "      <th>Z_CostContact</th>\n",
              "      <th>Z_Revenue</th>\n",
              "      <th>Response</th>\n",
              "    </tr>\n",
              "  </thead>\n",
              "  <tbody>\n",
              "    <tr>\n",
              "      <th>0</th>\n",
              "      <td>5524</td>\n",
              "      <td>1957</td>\n",
              "      <td>Graduation</td>\n",
              "      <td>Single</td>\n",
              "      <td>58138.0</td>\n",
              "      <td>0</td>\n",
              "      <td>0</td>\n",
              "      <td>2012-09-04</td>\n",
              "      <td>58</td>\n",
              "      <td>635</td>\n",
              "      <td>88</td>\n",
              "      <td>546</td>\n",
              "      <td>172</td>\n",
              "      <td>88</td>\n",
              "      <td>88</td>\n",
              "      <td>3</td>\n",
              "      <td>8</td>\n",
              "      <td>10</td>\n",
              "      <td>4</td>\n",
              "      <td>7</td>\n",
              "      <td>0</td>\n",
              "      <td>0</td>\n",
              "      <td>0</td>\n",
              "      <td>0</td>\n",
              "      <td>0</td>\n",
              "      <td>0</td>\n",
              "      <td>3</td>\n",
              "      <td>11</td>\n",
              "      <td>1</td>\n",
              "    </tr>\n",
              "    <tr>\n",
              "      <th>1</th>\n",
              "      <td>2174</td>\n",
              "      <td>1954</td>\n",
              "      <td>Graduation</td>\n",
              "      <td>Single</td>\n",
              "      <td>46344.0</td>\n",
              "      <td>1</td>\n",
              "      <td>1</td>\n",
              "      <td>2014-03-08</td>\n",
              "      <td>38</td>\n",
              "      <td>11</td>\n",
              "      <td>1</td>\n",
              "      <td>6</td>\n",
              "      <td>2</td>\n",
              "      <td>1</td>\n",
              "      <td>6</td>\n",
              "      <td>2</td>\n",
              "      <td>1</td>\n",
              "      <td>1</td>\n",
              "      <td>2</td>\n",
              "      <td>5</td>\n",
              "      <td>0</td>\n",
              "      <td>0</td>\n",
              "      <td>0</td>\n",
              "      <td>0</td>\n",
              "      <td>0</td>\n",
              "      <td>0</td>\n",
              "      <td>3</td>\n",
              "      <td>11</td>\n",
              "      <td>0</td>\n",
              "    </tr>\n",
              "    <tr>\n",
              "      <th>2</th>\n",
              "      <td>4141</td>\n",
              "      <td>1965</td>\n",
              "      <td>Graduation</td>\n",
              "      <td>Together</td>\n",
              "      <td>71613.0</td>\n",
              "      <td>0</td>\n",
              "      <td>0</td>\n",
              "      <td>2013-08-21</td>\n",
              "      <td>26</td>\n",
              "      <td>426</td>\n",
              "      <td>49</td>\n",
              "      <td>127</td>\n",
              "      <td>111</td>\n",
              "      <td>21</td>\n",
              "      <td>42</td>\n",
              "      <td>1</td>\n",
              "      <td>8</td>\n",
              "      <td>2</td>\n",
              "      <td>10</td>\n",
              "      <td>4</td>\n",
              "      <td>0</td>\n",
              "      <td>0</td>\n",
              "      <td>0</td>\n",
              "      <td>0</td>\n",
              "      <td>0</td>\n",
              "      <td>0</td>\n",
              "      <td>3</td>\n",
              "      <td>11</td>\n",
              "      <td>0</td>\n",
              "    </tr>\n",
              "    <tr>\n",
              "      <th>3</th>\n",
              "      <td>6182</td>\n",
              "      <td>1984</td>\n",
              "      <td>Graduation</td>\n",
              "      <td>Together</td>\n",
              "      <td>26646.0</td>\n",
              "      <td>1</td>\n",
              "      <td>0</td>\n",
              "      <td>2014-02-10</td>\n",
              "      <td>26</td>\n",
              "      <td>11</td>\n",
              "      <td>4</td>\n",
              "      <td>20</td>\n",
              "      <td>10</td>\n",
              "      <td>3</td>\n",
              "      <td>5</td>\n",
              "      <td>2</td>\n",
              "      <td>2</td>\n",
              "      <td>0</td>\n",
              "      <td>4</td>\n",
              "      <td>6</td>\n",
              "      <td>0</td>\n",
              "      <td>0</td>\n",
              "      <td>0</td>\n",
              "      <td>0</td>\n",
              "      <td>0</td>\n",
              "      <td>0</td>\n",
              "      <td>3</td>\n",
              "      <td>11</td>\n",
              "      <td>0</td>\n",
              "    </tr>\n",
              "    <tr>\n",
              "      <th>4</th>\n",
              "      <td>5324</td>\n",
              "      <td>1981</td>\n",
              "      <td>PhD</td>\n",
              "      <td>Married</td>\n",
              "      <td>58293.0</td>\n",
              "      <td>1</td>\n",
              "      <td>0</td>\n",
              "      <td>2014-01-19</td>\n",
              "      <td>94</td>\n",
              "      <td>173</td>\n",
              "      <td>43</td>\n",
              "      <td>118</td>\n",
              "      <td>46</td>\n",
              "      <td>27</td>\n",
              "      <td>15</td>\n",
              "      <td>5</td>\n",
              "      <td>5</td>\n",
              "      <td>3</td>\n",
              "      <td>6</td>\n",
              "      <td>5</td>\n",
              "      <td>0</td>\n",
              "      <td>0</td>\n",
              "      <td>0</td>\n",
              "      <td>0</td>\n",
              "      <td>0</td>\n",
              "      <td>0</td>\n",
              "      <td>3</td>\n",
              "      <td>11</td>\n",
              "      <td>0</td>\n",
              "    </tr>\n",
              "  </tbody>\n",
              "</table>\n",
              "</div>"
            ],
            "text/plain": [
              "     ID  Year_Birth   Education  ... Z_CostContact  Z_Revenue  Response\n",
              "0  5524        1957  Graduation  ...             3         11         1\n",
              "1  2174        1954  Graduation  ...             3         11         0\n",
              "2  4141        1965  Graduation  ...             3         11         0\n",
              "3  6182        1984  Graduation  ...             3         11         0\n",
              "4  5324        1981         PhD  ...             3         11         0\n",
              "\n",
              "[5 rows x 29 columns]"
            ]
          },
          "metadata": {},
          "execution_count": 6
        }
      ]
    },
    {
      "cell_type": "code",
      "metadata": {
        "colab": {
          "base_uri": "https://localhost:8080/"
        },
        "id": "khAa3Biqf-IA",
        "outputId": "dcb38a70-7a03-41e3-9fcb-b5adb96bb66f"
      },
      "source": [
        "df.info()"
      ],
      "execution_count": 7,
      "outputs": [
        {
          "output_type": "stream",
          "name": "stdout",
          "text": [
            "<class 'pandas.core.frame.DataFrame'>\n",
            "RangeIndex: 2240 entries, 0 to 2239\n",
            "Data columns (total 29 columns):\n",
            " #   Column               Non-Null Count  Dtype         \n",
            "---  ------               --------------  -----         \n",
            " 0   ID                   2240 non-null   int64         \n",
            " 1   Year_Birth           2240 non-null   int64         \n",
            " 2   Education            2240 non-null   object        \n",
            " 3   Marital_Status       2240 non-null   object        \n",
            " 4   Income               2216 non-null   float64       \n",
            " 5   Kidhome              2240 non-null   int64         \n",
            " 6   Teenhome             2240 non-null   int64         \n",
            " 7   Dt_Customer          2240 non-null   datetime64[ns]\n",
            " 8   Recency              2240 non-null   int64         \n",
            " 9   MntWines             2240 non-null   int64         \n",
            " 10  MntFruits            2240 non-null   int64         \n",
            " 11  MntMeatProducts      2240 non-null   int64         \n",
            " 12  MntFishProducts      2240 non-null   int64         \n",
            " 13  MntSweetProducts     2240 non-null   int64         \n",
            " 14  MntGoldProds         2240 non-null   int64         \n",
            " 15  NumDealsPurchases    2240 non-null   int64         \n",
            " 16  NumWebPurchases      2240 non-null   int64         \n",
            " 17  NumCatalogPurchases  2240 non-null   int64         \n",
            " 18  NumStorePurchases    2240 non-null   int64         \n",
            " 19  NumWebVisitsMonth    2240 non-null   int64         \n",
            " 20  AcceptedCmp3         2240 non-null   int64         \n",
            " 21  AcceptedCmp4         2240 non-null   int64         \n",
            " 22  AcceptedCmp5         2240 non-null   int64         \n",
            " 23  AcceptedCmp1         2240 non-null   int64         \n",
            " 24  AcceptedCmp2         2240 non-null   int64         \n",
            " 25  Complain             2240 non-null   int64         \n",
            " 26  Z_CostContact        2240 non-null   int64         \n",
            " 27  Z_Revenue            2240 non-null   int64         \n",
            " 28  Response             2240 non-null   int64         \n",
            "dtypes: datetime64[ns](1), float64(1), int64(25), object(2)\n",
            "memory usage: 507.6+ KB\n"
          ]
        }
      ]
    },
    {
      "cell_type": "markdown",
      "metadata": {
        "id": "BYFaGX5Drn33"
      },
      "source": [
        "# Tradução do dataframe"
      ]
    },
    {
      "cell_type": "code",
      "metadata": {
        "colab": {
          "base_uri": "https://localhost:8080/"
        },
        "id": "wz8UcjHOr5la",
        "outputId": "6358f7f6-f444-4fce-9bdf-ffc14cc074e7"
      },
      "source": [
        "list(df.columns)\n"
      ],
      "execution_count": 8,
      "outputs": [
        {
          "output_type": "execute_result",
          "data": {
            "text/plain": [
              "['ID',\n",
              " 'Year_Birth',\n",
              " 'Education',\n",
              " 'Marital_Status',\n",
              " 'Income',\n",
              " 'Kidhome',\n",
              " 'Teenhome',\n",
              " 'Dt_Customer',\n",
              " 'Recency',\n",
              " 'MntWines',\n",
              " 'MntFruits',\n",
              " 'MntMeatProducts',\n",
              " 'MntFishProducts',\n",
              " 'MntSweetProducts',\n",
              " 'MntGoldProds',\n",
              " 'NumDealsPurchases',\n",
              " 'NumWebPurchases',\n",
              " 'NumCatalogPurchases',\n",
              " 'NumStorePurchases',\n",
              " 'NumWebVisitsMonth',\n",
              " 'AcceptedCmp3',\n",
              " 'AcceptedCmp4',\n",
              " 'AcceptedCmp5',\n",
              " 'AcceptedCmp1',\n",
              " 'AcceptedCmp2',\n",
              " 'Complain',\n",
              " 'Z_CostContact',\n",
              " 'Z_Revenue',\n",
              " 'Response']"
            ]
          },
          "metadata": {},
          "execution_count": 8
        }
      ]
    },
    {
      "cell_type": "code",
      "metadata": {
        "id": "s1AkZHY7ztPx"
      },
      "source": [
        "columns_name = ['ID',\n",
        " 'Year_Birth',\n",
        " 'Education',\n",
        " 'Marital_Status',\n",
        " 'Income',\n",
        " 'Kidhome',\n",
        " 'Teenhome',\n",
        " 'Dt_Customer',\n",
        " 'Recency',\n",
        " 'MntWines',\n",
        " 'MntFruits',\n",
        " 'MntMeatProducts',\n",
        " 'MntFishProducts',\n",
        " 'MntSweetProducts',\n",
        " 'MntGoldProds',\n",
        " 'NumDealsPurchases',\n",
        " 'NumWebPurchases',\n",
        " 'NumCatalogPurchases',\n",
        " 'NumStorePurchases',\n",
        " 'NumWebVisitsMonth',\n",
        " 'AcceptedCmp3',\n",
        " 'AcceptedCmp4',\n",
        " 'AcceptedCmp5',\n",
        " 'AcceptedCmp1',\n",
        " 'AcceptedCmp2',\n",
        " 'Complain',\n",
        " 'Z_CostContact',\n",
        " 'Z_Revenue',\n",
        " 'Response']"
      ],
      "execution_count": 9,
      "outputs": []
    },
    {
      "cell_type": "code",
      "metadata": {
        "id": "8Us4CbAdtEmV"
      },
      "source": [
        "nome_colunas = ['ID', 'Ano_nascimento', 'Educacao' ,'Estado_civil', 'Renda', 'Crianca_em_casa', 'Adolescente_em_casa', 'Dt_Cliente', 'Recencia', 'QtdVinhos', 'QtdFrutas', 'QtdProdutosCarne', 'QtdProdutosPeixe', 'QtdProdutosDoces', 'QtdProdutosGold', 'NumOfertasDeCompra', 'NumOfertasWeb', 'NumOfertasCatalogo', 'NumComprasNaLoja', 'NumVisitasWebMes', 'Cmp3Aceito', 'Cmp4Aceito', 'Cmp5Aceito', 'Cmp1Aceito', 'Cmp2Aceito', 'Reclamacoes', 'Z_CustoContato', 'Z_Receita', 'Resposta']"
      ],
      "execution_count": 10,
      "outputs": []
    },
    {
      "cell_type": "code",
      "metadata": {
        "id": "u3661W1NzMUk"
      },
      "source": [
        "df.columns = nome_colunas"
      ],
      "execution_count": 11,
      "outputs": []
    },
    {
      "cell_type": "code",
      "metadata": {
        "colab": {
          "base_uri": "https://localhost:8080/",
          "height": 224
        },
        "id": "t7H3C6dn1FVw",
        "outputId": "e72cc178-bd8f-43e3-a771-7159a7449207"
      },
      "source": [
        "df.head()"
      ],
      "execution_count": 12,
      "outputs": [
        {
          "output_type": "execute_result",
          "data": {
            "text/html": [
              "<div>\n",
              "<style scoped>\n",
              "    .dataframe tbody tr th:only-of-type {\n",
              "        vertical-align: middle;\n",
              "    }\n",
              "\n",
              "    .dataframe tbody tr th {\n",
              "        vertical-align: top;\n",
              "    }\n",
              "\n",
              "    .dataframe thead th {\n",
              "        text-align: right;\n",
              "    }\n",
              "</style>\n",
              "<table border=\"1\" class=\"dataframe\">\n",
              "  <thead>\n",
              "    <tr style=\"text-align: right;\">\n",
              "      <th></th>\n",
              "      <th>ID</th>\n",
              "      <th>Ano_nascimento</th>\n",
              "      <th>Educacao</th>\n",
              "      <th>Estado_civil</th>\n",
              "      <th>Renda</th>\n",
              "      <th>Crianca_em_casa</th>\n",
              "      <th>Adolescente_em_casa</th>\n",
              "      <th>Dt_Cliente</th>\n",
              "      <th>Recencia</th>\n",
              "      <th>QtdVinhos</th>\n",
              "      <th>QtdFrutas</th>\n",
              "      <th>QtdProdutosCarne</th>\n",
              "      <th>QtdProdutosPeixe</th>\n",
              "      <th>QtdProdutosDoces</th>\n",
              "      <th>QtdProdutosGold</th>\n",
              "      <th>NumOfertasDeCompra</th>\n",
              "      <th>NumOfertasWeb</th>\n",
              "      <th>NumOfertasCatalogo</th>\n",
              "      <th>NumComprasNaLoja</th>\n",
              "      <th>NumVisitasWebMes</th>\n",
              "      <th>Cmp3Aceito</th>\n",
              "      <th>Cmp4Aceito</th>\n",
              "      <th>Cmp5Aceito</th>\n",
              "      <th>Cmp1Aceito</th>\n",
              "      <th>Cmp2Aceito</th>\n",
              "      <th>Reclamacoes</th>\n",
              "      <th>Z_CustoContato</th>\n",
              "      <th>Z_Receita</th>\n",
              "      <th>Resposta</th>\n",
              "    </tr>\n",
              "  </thead>\n",
              "  <tbody>\n",
              "    <tr>\n",
              "      <th>0</th>\n",
              "      <td>5524</td>\n",
              "      <td>1957</td>\n",
              "      <td>Graduation</td>\n",
              "      <td>Single</td>\n",
              "      <td>58138.0</td>\n",
              "      <td>0</td>\n",
              "      <td>0</td>\n",
              "      <td>2012-09-04</td>\n",
              "      <td>58</td>\n",
              "      <td>635</td>\n",
              "      <td>88</td>\n",
              "      <td>546</td>\n",
              "      <td>172</td>\n",
              "      <td>88</td>\n",
              "      <td>88</td>\n",
              "      <td>3</td>\n",
              "      <td>8</td>\n",
              "      <td>10</td>\n",
              "      <td>4</td>\n",
              "      <td>7</td>\n",
              "      <td>0</td>\n",
              "      <td>0</td>\n",
              "      <td>0</td>\n",
              "      <td>0</td>\n",
              "      <td>0</td>\n",
              "      <td>0</td>\n",
              "      <td>3</td>\n",
              "      <td>11</td>\n",
              "      <td>1</td>\n",
              "    </tr>\n",
              "    <tr>\n",
              "      <th>1</th>\n",
              "      <td>2174</td>\n",
              "      <td>1954</td>\n",
              "      <td>Graduation</td>\n",
              "      <td>Single</td>\n",
              "      <td>46344.0</td>\n",
              "      <td>1</td>\n",
              "      <td>1</td>\n",
              "      <td>2014-03-08</td>\n",
              "      <td>38</td>\n",
              "      <td>11</td>\n",
              "      <td>1</td>\n",
              "      <td>6</td>\n",
              "      <td>2</td>\n",
              "      <td>1</td>\n",
              "      <td>6</td>\n",
              "      <td>2</td>\n",
              "      <td>1</td>\n",
              "      <td>1</td>\n",
              "      <td>2</td>\n",
              "      <td>5</td>\n",
              "      <td>0</td>\n",
              "      <td>0</td>\n",
              "      <td>0</td>\n",
              "      <td>0</td>\n",
              "      <td>0</td>\n",
              "      <td>0</td>\n",
              "      <td>3</td>\n",
              "      <td>11</td>\n",
              "      <td>0</td>\n",
              "    </tr>\n",
              "    <tr>\n",
              "      <th>2</th>\n",
              "      <td>4141</td>\n",
              "      <td>1965</td>\n",
              "      <td>Graduation</td>\n",
              "      <td>Together</td>\n",
              "      <td>71613.0</td>\n",
              "      <td>0</td>\n",
              "      <td>0</td>\n",
              "      <td>2013-08-21</td>\n",
              "      <td>26</td>\n",
              "      <td>426</td>\n",
              "      <td>49</td>\n",
              "      <td>127</td>\n",
              "      <td>111</td>\n",
              "      <td>21</td>\n",
              "      <td>42</td>\n",
              "      <td>1</td>\n",
              "      <td>8</td>\n",
              "      <td>2</td>\n",
              "      <td>10</td>\n",
              "      <td>4</td>\n",
              "      <td>0</td>\n",
              "      <td>0</td>\n",
              "      <td>0</td>\n",
              "      <td>0</td>\n",
              "      <td>0</td>\n",
              "      <td>0</td>\n",
              "      <td>3</td>\n",
              "      <td>11</td>\n",
              "      <td>0</td>\n",
              "    </tr>\n",
              "    <tr>\n",
              "      <th>3</th>\n",
              "      <td>6182</td>\n",
              "      <td>1984</td>\n",
              "      <td>Graduation</td>\n",
              "      <td>Together</td>\n",
              "      <td>26646.0</td>\n",
              "      <td>1</td>\n",
              "      <td>0</td>\n",
              "      <td>2014-02-10</td>\n",
              "      <td>26</td>\n",
              "      <td>11</td>\n",
              "      <td>4</td>\n",
              "      <td>20</td>\n",
              "      <td>10</td>\n",
              "      <td>3</td>\n",
              "      <td>5</td>\n",
              "      <td>2</td>\n",
              "      <td>2</td>\n",
              "      <td>0</td>\n",
              "      <td>4</td>\n",
              "      <td>6</td>\n",
              "      <td>0</td>\n",
              "      <td>0</td>\n",
              "      <td>0</td>\n",
              "      <td>0</td>\n",
              "      <td>0</td>\n",
              "      <td>0</td>\n",
              "      <td>3</td>\n",
              "      <td>11</td>\n",
              "      <td>0</td>\n",
              "    </tr>\n",
              "    <tr>\n",
              "      <th>4</th>\n",
              "      <td>5324</td>\n",
              "      <td>1981</td>\n",
              "      <td>PhD</td>\n",
              "      <td>Married</td>\n",
              "      <td>58293.0</td>\n",
              "      <td>1</td>\n",
              "      <td>0</td>\n",
              "      <td>2014-01-19</td>\n",
              "      <td>94</td>\n",
              "      <td>173</td>\n",
              "      <td>43</td>\n",
              "      <td>118</td>\n",
              "      <td>46</td>\n",
              "      <td>27</td>\n",
              "      <td>15</td>\n",
              "      <td>5</td>\n",
              "      <td>5</td>\n",
              "      <td>3</td>\n",
              "      <td>6</td>\n",
              "      <td>5</td>\n",
              "      <td>0</td>\n",
              "      <td>0</td>\n",
              "      <td>0</td>\n",
              "      <td>0</td>\n",
              "      <td>0</td>\n",
              "      <td>0</td>\n",
              "      <td>3</td>\n",
              "      <td>11</td>\n",
              "      <td>0</td>\n",
              "    </tr>\n",
              "  </tbody>\n",
              "</table>\n",
              "</div>"
            ],
            "text/plain": [
              "     ID  Ano_nascimento    Educacao  ... Z_CustoContato  Z_Receita  Resposta\n",
              "0  5524            1957  Graduation  ...              3         11         1\n",
              "1  2174            1954  Graduation  ...              3         11         0\n",
              "2  4141            1965  Graduation  ...              3         11         0\n",
              "3  6182            1984  Graduation  ...              3         11         0\n",
              "4  5324            1981         PhD  ...              3         11         0\n",
              "\n",
              "[5 rows x 29 columns]"
            ]
          },
          "metadata": {},
          "execution_count": 12
        }
      ]
    },
    {
      "cell_type": "code",
      "metadata": {
        "colab": {
          "base_uri": "https://localhost:8080/"
        },
        "id": "4jil8A_4oXvr",
        "outputId": "ade1f66b-0207-4844-83d7-b794515609b8"
      },
      "source": [
        "df['Ano_nascimento'].unique()"
      ],
      "execution_count": 13,
      "outputs": [
        {
          "output_type": "execute_result",
          "data": {
            "text/plain": [
              "array([1957, 1954, 1965, 1984, 1981, 1967, 1971, 1985, 1974, 1950, 1983,\n",
              "       1976, 1959, 1952, 1987, 1946, 1980, 1949, 1982, 1979, 1951, 1969,\n",
              "       1986, 1989, 1963, 1970, 1973, 1943, 1975, 1996, 1968, 1964, 1977,\n",
              "       1978, 1955, 1966, 1988, 1948, 1958, 1972, 1960, 1945, 1991, 1962,\n",
              "       1953, 1961, 1956, 1992, 1900, 1893, 1990, 1947, 1899, 1993, 1994,\n",
              "       1941, 1944, 1995, 1940])"
            ]
          },
          "metadata": {},
          "execution_count": 13
        }
      ]
    },
    {
      "cell_type": "code",
      "metadata": {
        "id": "qA8ms7teo4Ik"
      },
      "source": [
        "filtro  = df['Ano_nascimento'] > 1900"
      ],
      "execution_count": 14,
      "outputs": []
    },
    {
      "cell_type": "code",
      "metadata": {
        "id": "JvVstbJppDyw"
      },
      "source": [
        "df_new = df[filtro]"
      ],
      "execution_count": null,
      "outputs": []
    },
    {
      "cell_type": "code",
      "metadata": {
        "colab": {
          "base_uri": "https://localhost:8080/",
          "height": 224
        },
        "id": "Xzyn2lCNpLl2",
        "outputId": "07052c14-8885-4d9e-e921-648a05ed5d59"
      },
      "source": [
        "df_new.head()"
      ],
      "execution_count": null,
      "outputs": [
        {
          "output_type": "execute_result",
          "data": {
            "text/html": [
              "<div>\n",
              "<style scoped>\n",
              "    .dataframe tbody tr th:only-of-type {\n",
              "        vertical-align: middle;\n",
              "    }\n",
              "\n",
              "    .dataframe tbody tr th {\n",
              "        vertical-align: top;\n",
              "    }\n",
              "\n",
              "    .dataframe thead th {\n",
              "        text-align: right;\n",
              "    }\n",
              "</style>\n",
              "<table border=\"1\" class=\"dataframe\">\n",
              "  <thead>\n",
              "    <tr style=\"text-align: right;\">\n",
              "      <th></th>\n",
              "      <th>ID</th>\n",
              "      <th>Ano_nascimento</th>\n",
              "      <th>Educacao</th>\n",
              "      <th>Estado_civil</th>\n",
              "      <th>Renda</th>\n",
              "      <th>Crianca_em_casa</th>\n",
              "      <th>Adolescente_em_casa</th>\n",
              "      <th>Dt_Cliente</th>\n",
              "      <th>Recencia</th>\n",
              "      <th>QtdVinhos</th>\n",
              "      <th>QtdFrutas</th>\n",
              "      <th>QtdProdutosCarne</th>\n",
              "      <th>QtdProdutosPeixe</th>\n",
              "      <th>QtdProdutosDoces</th>\n",
              "      <th>QtdProdutosGold</th>\n",
              "      <th>NumOfertasDeCompra</th>\n",
              "      <th>NumOfertasWeb</th>\n",
              "      <th>NumOfertasCatalogo</th>\n",
              "      <th>NumComprasNaLoja</th>\n",
              "      <th>NumVisitasWebMes</th>\n",
              "      <th>Cmp3Aceito</th>\n",
              "      <th>Cmp4Aceito</th>\n",
              "      <th>Cmp5Aceito</th>\n",
              "      <th>Cmp1Aceito</th>\n",
              "      <th>Cmp2Aceito</th>\n",
              "      <th>Reclamacoes</th>\n",
              "      <th>Resposta</th>\n",
              "    </tr>\n",
              "  </thead>\n",
              "  <tbody>\n",
              "    <tr>\n",
              "      <th>0</th>\n",
              "      <td>5524</td>\n",
              "      <td>1957</td>\n",
              "      <td>Graduação</td>\n",
              "      <td>Solteiro</td>\n",
              "      <td>58138.0</td>\n",
              "      <td>0</td>\n",
              "      <td>0</td>\n",
              "      <td>2012-09-04</td>\n",
              "      <td>58</td>\n",
              "      <td>635</td>\n",
              "      <td>88</td>\n",
              "      <td>546</td>\n",
              "      <td>172</td>\n",
              "      <td>88</td>\n",
              "      <td>88</td>\n",
              "      <td>3</td>\n",
              "      <td>8</td>\n",
              "      <td>10</td>\n",
              "      <td>4</td>\n",
              "      <td>7</td>\n",
              "      <td>0</td>\n",
              "      <td>0</td>\n",
              "      <td>0</td>\n",
              "      <td>0</td>\n",
              "      <td>0</td>\n",
              "      <td>0</td>\n",
              "      <td>1</td>\n",
              "    </tr>\n",
              "    <tr>\n",
              "      <th>1</th>\n",
              "      <td>2174</td>\n",
              "      <td>1954</td>\n",
              "      <td>Graduação</td>\n",
              "      <td>Solteiro</td>\n",
              "      <td>46344.0</td>\n",
              "      <td>1</td>\n",
              "      <td>1</td>\n",
              "      <td>2014-03-08</td>\n",
              "      <td>38</td>\n",
              "      <td>11</td>\n",
              "      <td>1</td>\n",
              "      <td>6</td>\n",
              "      <td>2</td>\n",
              "      <td>1</td>\n",
              "      <td>6</td>\n",
              "      <td>2</td>\n",
              "      <td>1</td>\n",
              "      <td>1</td>\n",
              "      <td>2</td>\n",
              "      <td>5</td>\n",
              "      <td>0</td>\n",
              "      <td>0</td>\n",
              "      <td>0</td>\n",
              "      <td>0</td>\n",
              "      <td>0</td>\n",
              "      <td>0</td>\n",
              "      <td>0</td>\n",
              "    </tr>\n",
              "    <tr>\n",
              "      <th>2</th>\n",
              "      <td>4141</td>\n",
              "      <td>1965</td>\n",
              "      <td>Graduação</td>\n",
              "      <td>Junto</td>\n",
              "      <td>71613.0</td>\n",
              "      <td>0</td>\n",
              "      <td>0</td>\n",
              "      <td>2013-08-21</td>\n",
              "      <td>26</td>\n",
              "      <td>426</td>\n",
              "      <td>49</td>\n",
              "      <td>127</td>\n",
              "      <td>111</td>\n",
              "      <td>21</td>\n",
              "      <td>42</td>\n",
              "      <td>1</td>\n",
              "      <td>8</td>\n",
              "      <td>2</td>\n",
              "      <td>10</td>\n",
              "      <td>4</td>\n",
              "      <td>0</td>\n",
              "      <td>0</td>\n",
              "      <td>0</td>\n",
              "      <td>0</td>\n",
              "      <td>0</td>\n",
              "      <td>0</td>\n",
              "      <td>0</td>\n",
              "    </tr>\n",
              "    <tr>\n",
              "      <th>3</th>\n",
              "      <td>6182</td>\n",
              "      <td>1984</td>\n",
              "      <td>Graduação</td>\n",
              "      <td>Junto</td>\n",
              "      <td>26646.0</td>\n",
              "      <td>1</td>\n",
              "      <td>0</td>\n",
              "      <td>2014-02-10</td>\n",
              "      <td>26</td>\n",
              "      <td>11</td>\n",
              "      <td>4</td>\n",
              "      <td>20</td>\n",
              "      <td>10</td>\n",
              "      <td>3</td>\n",
              "      <td>5</td>\n",
              "      <td>2</td>\n",
              "      <td>2</td>\n",
              "      <td>0</td>\n",
              "      <td>4</td>\n",
              "      <td>6</td>\n",
              "      <td>0</td>\n",
              "      <td>0</td>\n",
              "      <td>0</td>\n",
              "      <td>0</td>\n",
              "      <td>0</td>\n",
              "      <td>0</td>\n",
              "      <td>0</td>\n",
              "    </tr>\n",
              "    <tr>\n",
              "      <th>4</th>\n",
              "      <td>5324</td>\n",
              "      <td>1981</td>\n",
              "      <td>PhD</td>\n",
              "      <td>Casado</td>\n",
              "      <td>58293.0</td>\n",
              "      <td>1</td>\n",
              "      <td>0</td>\n",
              "      <td>2014-01-19</td>\n",
              "      <td>94</td>\n",
              "      <td>173</td>\n",
              "      <td>43</td>\n",
              "      <td>118</td>\n",
              "      <td>46</td>\n",
              "      <td>27</td>\n",
              "      <td>15</td>\n",
              "      <td>5</td>\n",
              "      <td>5</td>\n",
              "      <td>3</td>\n",
              "      <td>6</td>\n",
              "      <td>5</td>\n",
              "      <td>0</td>\n",
              "      <td>0</td>\n",
              "      <td>0</td>\n",
              "      <td>0</td>\n",
              "      <td>0</td>\n",
              "      <td>0</td>\n",
              "      <td>0</td>\n",
              "    </tr>\n",
              "  </tbody>\n",
              "</table>\n",
              "</div>"
            ],
            "text/plain": [
              "     ID  Ano_nascimento   Educacao  ... Cmp2Aceito  Reclamacoes  Resposta\n",
              "0  5524            1957  Graduação  ...          0            0         1\n",
              "1  2174            1954  Graduação  ...          0            0         0\n",
              "2  4141            1965  Graduação  ...          0            0         0\n",
              "3  6182            1984  Graduação  ...          0            0         0\n",
              "4  5324            1981        PhD  ...          0            0         0\n",
              "\n",
              "[5 rows x 27 columns]"
            ]
          },
          "metadata": {},
          "execution_count": 73
        }
      ]
    },
    {
      "cell_type": "code",
      "metadata": {
        "colab": {
          "base_uri": "https://localhost:8080/"
        },
        "id": "Ho9E2b8u3C0j",
        "outputId": "259f81e4-0bd5-47ff-a9d0-7b21aae35557"
      },
      "source": [
        "df['Educacao'].unique()"
      ],
      "execution_count": 15,
      "outputs": [
        {
          "output_type": "execute_result",
          "data": {
            "text/plain": [
              "array(['Graduation', 'PhD', 'Master', 'Basic', '2n Cycle'], dtype=object)"
            ]
          },
          "metadata": {},
          "execution_count": 15
        }
      ]
    },
    {
      "cell_type": "code",
      "metadata": {
        "id": "03dn564s4yPT"
      },
      "source": [
        "df.Educacao = df.Educacao.map({ 'Graduation' : 'Graduação', 'PhD' : 'PhD', 'Master' : 'Mestrado', 'Basic' : 'Basico', '2n Cycle' : '2nd Ciclo'})"
      ],
      "execution_count": 16,
      "outputs": []
    },
    {
      "cell_type": "code",
      "metadata": {
        "colab": {
          "base_uri": "https://localhost:8080/"
        },
        "id": "6u0tVfKe9tMH",
        "outputId": "270a3f14-da27-4df0-aa56-571d4e71032a"
      },
      "source": [
        "df['Estado_civil'].unique()"
      ],
      "execution_count": 17,
      "outputs": [
        {
          "output_type": "execute_result",
          "data": {
            "text/plain": [
              "array(['Single', 'Together', 'Married', 'Divorced', 'Widow', 'Alone',\n",
              "       'Absurd', 'YOLO'], dtype=object)"
            ]
          },
          "metadata": {},
          "execution_count": 17
        }
      ]
    },
    {
      "cell_type": "code",
      "metadata": {
        "colab": {
          "base_uri": "https://localhost:8080/"
        },
        "id": "pwpXi4Cd16S9",
        "outputId": "20eca49e-5c54-4cfb-ef05-d7aefc5434ac"
      },
      "source": [
        "df['Recencia'].unique()"
      ],
      "execution_count": 18,
      "outputs": [
        {
          "output_type": "execute_result",
          "data": {
            "text/plain": [
              "array([58, 38, 26, 94, 16, 34, 32, 19, 68, 11, 59, 82, 53, 23, 51, 20, 91,\n",
              "       86, 41, 42, 63,  0, 69, 89,  4, 96, 56, 31,  8, 55, 37, 76, 99,  3,\n",
              "       88, 80, 72, 24, 92, 39, 29,  2, 54, 57, 30, 12, 18, 75, 90,  1, 25,\n",
              "       40,  9, 87,  5, 95, 48, 70, 79, 45, 84, 44, 43, 35, 15, 17, 46, 27,\n",
              "       74, 85, 65, 13, 83, 10, 21, 61, 73, 47, 36, 49, 28, 64, 98, 78, 77,\n",
              "       81, 14, 52, 93, 50, 60, 66, 97, 62,  6, 33, 67, 22, 71,  7])"
            ]
          },
          "metadata": {},
          "execution_count": 18
        }
      ]
    },
    {
      "cell_type": "code",
      "metadata": {
        "id": "C82_8xS6_D0q"
      },
      "source": [
        "df.Estado_civil = df.Estado_civil.map({ 'Single' : 'Solteiro', 'Together' : 'Junto', 'Married' : 'Casado', 'Divorced' : 'Divorciado', 'Widow' : 'Viuva', 'Alone' : 'Só', 'Absurd' : 'Absurdo', 'YOLO' : 'YOLO'})"
      ],
      "execution_count": 19,
      "outputs": []
    },
    {
      "cell_type": "code",
      "metadata": {
        "colab": {
          "base_uri": "https://localhost:8080/",
          "height": 224
        },
        "id": "aw0bBtTzBsDJ",
        "outputId": "41ce8226-e6a1-41c6-c6b9-f0a551963a8d"
      },
      "source": [
        "df.head()"
      ],
      "execution_count": 20,
      "outputs": [
        {
          "output_type": "execute_result",
          "data": {
            "text/html": [
              "<div>\n",
              "<style scoped>\n",
              "    .dataframe tbody tr th:only-of-type {\n",
              "        vertical-align: middle;\n",
              "    }\n",
              "\n",
              "    .dataframe tbody tr th {\n",
              "        vertical-align: top;\n",
              "    }\n",
              "\n",
              "    .dataframe thead th {\n",
              "        text-align: right;\n",
              "    }\n",
              "</style>\n",
              "<table border=\"1\" class=\"dataframe\">\n",
              "  <thead>\n",
              "    <tr style=\"text-align: right;\">\n",
              "      <th></th>\n",
              "      <th>ID</th>\n",
              "      <th>Ano_nascimento</th>\n",
              "      <th>Educacao</th>\n",
              "      <th>Estado_civil</th>\n",
              "      <th>Renda</th>\n",
              "      <th>Crianca_em_casa</th>\n",
              "      <th>Adolescente_em_casa</th>\n",
              "      <th>Dt_Cliente</th>\n",
              "      <th>Recencia</th>\n",
              "      <th>QtdVinhos</th>\n",
              "      <th>QtdFrutas</th>\n",
              "      <th>QtdProdutosCarne</th>\n",
              "      <th>QtdProdutosPeixe</th>\n",
              "      <th>QtdProdutosDoces</th>\n",
              "      <th>QtdProdutosGold</th>\n",
              "      <th>NumOfertasDeCompra</th>\n",
              "      <th>NumOfertasWeb</th>\n",
              "      <th>NumOfertasCatalogo</th>\n",
              "      <th>NumComprasNaLoja</th>\n",
              "      <th>NumVisitasWebMes</th>\n",
              "      <th>Cmp3Aceito</th>\n",
              "      <th>Cmp4Aceito</th>\n",
              "      <th>Cmp5Aceito</th>\n",
              "      <th>Cmp1Aceito</th>\n",
              "      <th>Cmp2Aceito</th>\n",
              "      <th>Reclamacoes</th>\n",
              "      <th>Z_CustoContato</th>\n",
              "      <th>Z_Receita</th>\n",
              "      <th>Resposta</th>\n",
              "    </tr>\n",
              "  </thead>\n",
              "  <tbody>\n",
              "    <tr>\n",
              "      <th>0</th>\n",
              "      <td>5524</td>\n",
              "      <td>1957</td>\n",
              "      <td>Graduação</td>\n",
              "      <td>Solteiro</td>\n",
              "      <td>58138.0</td>\n",
              "      <td>0</td>\n",
              "      <td>0</td>\n",
              "      <td>2012-09-04</td>\n",
              "      <td>58</td>\n",
              "      <td>635</td>\n",
              "      <td>88</td>\n",
              "      <td>546</td>\n",
              "      <td>172</td>\n",
              "      <td>88</td>\n",
              "      <td>88</td>\n",
              "      <td>3</td>\n",
              "      <td>8</td>\n",
              "      <td>10</td>\n",
              "      <td>4</td>\n",
              "      <td>7</td>\n",
              "      <td>0</td>\n",
              "      <td>0</td>\n",
              "      <td>0</td>\n",
              "      <td>0</td>\n",
              "      <td>0</td>\n",
              "      <td>0</td>\n",
              "      <td>3</td>\n",
              "      <td>11</td>\n",
              "      <td>1</td>\n",
              "    </tr>\n",
              "    <tr>\n",
              "      <th>1</th>\n",
              "      <td>2174</td>\n",
              "      <td>1954</td>\n",
              "      <td>Graduação</td>\n",
              "      <td>Solteiro</td>\n",
              "      <td>46344.0</td>\n",
              "      <td>1</td>\n",
              "      <td>1</td>\n",
              "      <td>2014-03-08</td>\n",
              "      <td>38</td>\n",
              "      <td>11</td>\n",
              "      <td>1</td>\n",
              "      <td>6</td>\n",
              "      <td>2</td>\n",
              "      <td>1</td>\n",
              "      <td>6</td>\n",
              "      <td>2</td>\n",
              "      <td>1</td>\n",
              "      <td>1</td>\n",
              "      <td>2</td>\n",
              "      <td>5</td>\n",
              "      <td>0</td>\n",
              "      <td>0</td>\n",
              "      <td>0</td>\n",
              "      <td>0</td>\n",
              "      <td>0</td>\n",
              "      <td>0</td>\n",
              "      <td>3</td>\n",
              "      <td>11</td>\n",
              "      <td>0</td>\n",
              "    </tr>\n",
              "    <tr>\n",
              "      <th>2</th>\n",
              "      <td>4141</td>\n",
              "      <td>1965</td>\n",
              "      <td>Graduação</td>\n",
              "      <td>Junto</td>\n",
              "      <td>71613.0</td>\n",
              "      <td>0</td>\n",
              "      <td>0</td>\n",
              "      <td>2013-08-21</td>\n",
              "      <td>26</td>\n",
              "      <td>426</td>\n",
              "      <td>49</td>\n",
              "      <td>127</td>\n",
              "      <td>111</td>\n",
              "      <td>21</td>\n",
              "      <td>42</td>\n",
              "      <td>1</td>\n",
              "      <td>8</td>\n",
              "      <td>2</td>\n",
              "      <td>10</td>\n",
              "      <td>4</td>\n",
              "      <td>0</td>\n",
              "      <td>0</td>\n",
              "      <td>0</td>\n",
              "      <td>0</td>\n",
              "      <td>0</td>\n",
              "      <td>0</td>\n",
              "      <td>3</td>\n",
              "      <td>11</td>\n",
              "      <td>0</td>\n",
              "    </tr>\n",
              "    <tr>\n",
              "      <th>3</th>\n",
              "      <td>6182</td>\n",
              "      <td>1984</td>\n",
              "      <td>Graduação</td>\n",
              "      <td>Junto</td>\n",
              "      <td>26646.0</td>\n",
              "      <td>1</td>\n",
              "      <td>0</td>\n",
              "      <td>2014-02-10</td>\n",
              "      <td>26</td>\n",
              "      <td>11</td>\n",
              "      <td>4</td>\n",
              "      <td>20</td>\n",
              "      <td>10</td>\n",
              "      <td>3</td>\n",
              "      <td>5</td>\n",
              "      <td>2</td>\n",
              "      <td>2</td>\n",
              "      <td>0</td>\n",
              "      <td>4</td>\n",
              "      <td>6</td>\n",
              "      <td>0</td>\n",
              "      <td>0</td>\n",
              "      <td>0</td>\n",
              "      <td>0</td>\n",
              "      <td>0</td>\n",
              "      <td>0</td>\n",
              "      <td>3</td>\n",
              "      <td>11</td>\n",
              "      <td>0</td>\n",
              "    </tr>\n",
              "    <tr>\n",
              "      <th>4</th>\n",
              "      <td>5324</td>\n",
              "      <td>1981</td>\n",
              "      <td>PhD</td>\n",
              "      <td>Casado</td>\n",
              "      <td>58293.0</td>\n",
              "      <td>1</td>\n",
              "      <td>0</td>\n",
              "      <td>2014-01-19</td>\n",
              "      <td>94</td>\n",
              "      <td>173</td>\n",
              "      <td>43</td>\n",
              "      <td>118</td>\n",
              "      <td>46</td>\n",
              "      <td>27</td>\n",
              "      <td>15</td>\n",
              "      <td>5</td>\n",
              "      <td>5</td>\n",
              "      <td>3</td>\n",
              "      <td>6</td>\n",
              "      <td>5</td>\n",
              "      <td>0</td>\n",
              "      <td>0</td>\n",
              "      <td>0</td>\n",
              "      <td>0</td>\n",
              "      <td>0</td>\n",
              "      <td>0</td>\n",
              "      <td>3</td>\n",
              "      <td>11</td>\n",
              "      <td>0</td>\n",
              "    </tr>\n",
              "  </tbody>\n",
              "</table>\n",
              "</div>"
            ],
            "text/plain": [
              "     ID  Ano_nascimento   Educacao  ... Z_CustoContato  Z_Receita  Resposta\n",
              "0  5524            1957  Graduação  ...              3         11         1\n",
              "1  2174            1954  Graduação  ...              3         11         0\n",
              "2  4141            1965  Graduação  ...              3         11         0\n",
              "3  6182            1984  Graduação  ...              3         11         0\n",
              "4  5324            1981        PhD  ...              3         11         0\n",
              "\n",
              "[5 rows x 29 columns]"
            ]
          },
          "metadata": {},
          "execution_count": 20
        }
      ]
    },
    {
      "cell_type": "markdown",
      "metadata": {
        "id": "9_8Yp0c9DEmm"
      },
      "source": [
        "# Limpando dados inconsistentes"
      ]
    },
    {
      "cell_type": "code",
      "metadata": {
        "colab": {
          "base_uri": "https://localhost:8080/"
        },
        "id": "FYgmLyT3Dtw4",
        "outputId": "4b575881-b46c-4ce8-8bae-b6153bb56878"
      },
      "source": [
        "df['Z_CustoContato'].unique()"
      ],
      "execution_count": 21,
      "outputs": [
        {
          "output_type": "execute_result",
          "data": {
            "text/plain": [
              "array([3])"
            ]
          },
          "metadata": {},
          "execution_count": 21
        }
      ]
    },
    {
      "cell_type": "code",
      "metadata": {
        "colab": {
          "base_uri": "https://localhost:8080/"
        },
        "id": "B5q2D-G0E5Hu",
        "outputId": "ef80cb2e-05a8-4cc8-d84b-511f28bea425"
      },
      "source": [
        "df['Z_Receita'].unique()"
      ],
      "execution_count": 22,
      "outputs": [
        {
          "output_type": "execute_result",
          "data": {
            "text/plain": [
              "array([11])"
            ]
          },
          "metadata": {},
          "execution_count": 22
        }
      ]
    },
    {
      "cell_type": "code",
      "metadata": {
        "id": "h7xmbQ7bFxtM"
      },
      "source": [
        "# Excluir colunas que possuem valores únicos\n",
        "df = df.drop(columns=['Z_CustoContato'])\n",
        "df = df.drop(columns=['Z_Receita'])"
      ],
      "execution_count": 23,
      "outputs": []
    },
    {
      "cell_type": "code",
      "metadata": {
        "colab": {
          "base_uri": "https://localhost:8080/"
        },
        "id": "WXFyiYBBCTTM",
        "outputId": "39fb74e7-ef3d-413d-f6d7-3ecee865b31e"
      },
      "source": [
        "df.isnull().sum()"
      ],
      "execution_count": 24,
      "outputs": [
        {
          "output_type": "execute_result",
          "data": {
            "text/plain": [
              "ID                      0\n",
              "Ano_nascimento          0\n",
              "Educacao                0\n",
              "Estado_civil            0\n",
              "Renda                  24\n",
              "Crianca_em_casa         0\n",
              "Adolescente_em_casa     0\n",
              "Dt_Cliente              0\n",
              "Recencia                0\n",
              "QtdVinhos               0\n",
              "QtdFrutas               0\n",
              "QtdProdutosCarne        0\n",
              "QtdProdutosPeixe        0\n",
              "QtdProdutosDoces        0\n",
              "QtdProdutosGold         0\n",
              "NumOfertasDeCompra      0\n",
              "NumOfertasWeb           0\n",
              "NumOfertasCatalogo      0\n",
              "NumComprasNaLoja        0\n",
              "NumVisitasWebMes        0\n",
              "Cmp3Aceito              0\n",
              "Cmp4Aceito              0\n",
              "Cmp5Aceito              0\n",
              "Cmp1Aceito              0\n",
              "Cmp2Aceito              0\n",
              "Reclamacoes             0\n",
              "Resposta                0\n",
              "dtype: int64"
            ]
          },
          "metadata": {},
          "execution_count": 24
        }
      ]
    },
    {
      "cell_type": "markdown",
      "metadata": {
        "id": "g7s_rRjqN1eM"
      },
      "source": [
        "Nos passos a baixo é realizado um *data inputation* com o objetivo de substituir os dados faltantes da coluna de Renda. É utilizado o algoritmo KNN com número de vizinhos igual a 3. Assim, os dados faltantes são realocados para o valor de maior predominância entres seus vizinhos."
      ]
    },
    {
      "cell_type": "code",
      "metadata": {
        "id": "u0GViw-3Iu_3"
      },
      "source": [
        "pip install fancyimpute"
      ],
      "execution_count": null,
      "outputs": []
    },
    {
      "cell_type": "code",
      "metadata": {
        "id": "4nKIFLHBIXtO"
      },
      "source": [
        "import sklearn\n",
        "from fancyimpute import KNN"
      ],
      "execution_count": 26,
      "outputs": []
    },
    {
      "cell_type": "code",
      "metadata": {
        "colab": {
          "base_uri": "https://localhost:8080/"
        },
        "id": "082XR_8KIkBM",
        "outputId": "cd4f52b8-fca4-415d-baeb-a07c94132646"
      },
      "source": [
        "print(df['Renda'].mean())\n",
        "print(df['Renda'].median())"
      ],
      "execution_count": 27,
      "outputs": [
        {
          "output_type": "stream",
          "name": "stdout",
          "text": [
            "52247.25135379061\n",
            "51381.5\n"
          ]
        }
      ]
    },
    {
      "cell_type": "code",
      "metadata": {
        "colab": {
          "base_uri": "https://localhost:8080/",
          "height": 439
        },
        "id": "w29hmI12I_w-",
        "outputId": "fbc6c83d-6824-451d-fa8f-8c6f69d7aaa2"
      },
      "source": [
        "df_knn = df.drop(columns=[\"Educacao\", \"Estado_civil\", \"Dt_Cliente\"])\n",
        "\n",
        "df_knn"
      ],
      "execution_count": 28,
      "outputs": [
        {
          "output_type": "execute_result",
          "data": {
            "text/html": [
              "<div>\n",
              "<style scoped>\n",
              "    .dataframe tbody tr th:only-of-type {\n",
              "        vertical-align: middle;\n",
              "    }\n",
              "\n",
              "    .dataframe tbody tr th {\n",
              "        vertical-align: top;\n",
              "    }\n",
              "\n",
              "    .dataframe thead th {\n",
              "        text-align: right;\n",
              "    }\n",
              "</style>\n",
              "<table border=\"1\" class=\"dataframe\">\n",
              "  <thead>\n",
              "    <tr style=\"text-align: right;\">\n",
              "      <th></th>\n",
              "      <th>ID</th>\n",
              "      <th>Ano_nascimento</th>\n",
              "      <th>Renda</th>\n",
              "      <th>Crianca_em_casa</th>\n",
              "      <th>Adolescente_em_casa</th>\n",
              "      <th>Recencia</th>\n",
              "      <th>QtdVinhos</th>\n",
              "      <th>QtdFrutas</th>\n",
              "      <th>QtdProdutosCarne</th>\n",
              "      <th>QtdProdutosPeixe</th>\n",
              "      <th>QtdProdutosDoces</th>\n",
              "      <th>QtdProdutosGold</th>\n",
              "      <th>NumOfertasDeCompra</th>\n",
              "      <th>NumOfertasWeb</th>\n",
              "      <th>NumOfertasCatalogo</th>\n",
              "      <th>NumComprasNaLoja</th>\n",
              "      <th>NumVisitasWebMes</th>\n",
              "      <th>Cmp3Aceito</th>\n",
              "      <th>Cmp4Aceito</th>\n",
              "      <th>Cmp5Aceito</th>\n",
              "      <th>Cmp1Aceito</th>\n",
              "      <th>Cmp2Aceito</th>\n",
              "      <th>Reclamacoes</th>\n",
              "      <th>Resposta</th>\n",
              "    </tr>\n",
              "  </thead>\n",
              "  <tbody>\n",
              "    <tr>\n",
              "      <th>0</th>\n",
              "      <td>5524</td>\n",
              "      <td>1957</td>\n",
              "      <td>58138.0</td>\n",
              "      <td>0</td>\n",
              "      <td>0</td>\n",
              "      <td>58</td>\n",
              "      <td>635</td>\n",
              "      <td>88</td>\n",
              "      <td>546</td>\n",
              "      <td>172</td>\n",
              "      <td>88</td>\n",
              "      <td>88</td>\n",
              "      <td>3</td>\n",
              "      <td>8</td>\n",
              "      <td>10</td>\n",
              "      <td>4</td>\n",
              "      <td>7</td>\n",
              "      <td>0</td>\n",
              "      <td>0</td>\n",
              "      <td>0</td>\n",
              "      <td>0</td>\n",
              "      <td>0</td>\n",
              "      <td>0</td>\n",
              "      <td>1</td>\n",
              "    </tr>\n",
              "    <tr>\n",
              "      <th>1</th>\n",
              "      <td>2174</td>\n",
              "      <td>1954</td>\n",
              "      <td>46344.0</td>\n",
              "      <td>1</td>\n",
              "      <td>1</td>\n",
              "      <td>38</td>\n",
              "      <td>11</td>\n",
              "      <td>1</td>\n",
              "      <td>6</td>\n",
              "      <td>2</td>\n",
              "      <td>1</td>\n",
              "      <td>6</td>\n",
              "      <td>2</td>\n",
              "      <td>1</td>\n",
              "      <td>1</td>\n",
              "      <td>2</td>\n",
              "      <td>5</td>\n",
              "      <td>0</td>\n",
              "      <td>0</td>\n",
              "      <td>0</td>\n",
              "      <td>0</td>\n",
              "      <td>0</td>\n",
              "      <td>0</td>\n",
              "      <td>0</td>\n",
              "    </tr>\n",
              "    <tr>\n",
              "      <th>2</th>\n",
              "      <td>4141</td>\n",
              "      <td>1965</td>\n",
              "      <td>71613.0</td>\n",
              "      <td>0</td>\n",
              "      <td>0</td>\n",
              "      <td>26</td>\n",
              "      <td>426</td>\n",
              "      <td>49</td>\n",
              "      <td>127</td>\n",
              "      <td>111</td>\n",
              "      <td>21</td>\n",
              "      <td>42</td>\n",
              "      <td>1</td>\n",
              "      <td>8</td>\n",
              "      <td>2</td>\n",
              "      <td>10</td>\n",
              "      <td>4</td>\n",
              "      <td>0</td>\n",
              "      <td>0</td>\n",
              "      <td>0</td>\n",
              "      <td>0</td>\n",
              "      <td>0</td>\n",
              "      <td>0</td>\n",
              "      <td>0</td>\n",
              "    </tr>\n",
              "    <tr>\n",
              "      <th>3</th>\n",
              "      <td>6182</td>\n",
              "      <td>1984</td>\n",
              "      <td>26646.0</td>\n",
              "      <td>1</td>\n",
              "      <td>0</td>\n",
              "      <td>26</td>\n",
              "      <td>11</td>\n",
              "      <td>4</td>\n",
              "      <td>20</td>\n",
              "      <td>10</td>\n",
              "      <td>3</td>\n",
              "      <td>5</td>\n",
              "      <td>2</td>\n",
              "      <td>2</td>\n",
              "      <td>0</td>\n",
              "      <td>4</td>\n",
              "      <td>6</td>\n",
              "      <td>0</td>\n",
              "      <td>0</td>\n",
              "      <td>0</td>\n",
              "      <td>0</td>\n",
              "      <td>0</td>\n",
              "      <td>0</td>\n",
              "      <td>0</td>\n",
              "    </tr>\n",
              "    <tr>\n",
              "      <th>4</th>\n",
              "      <td>5324</td>\n",
              "      <td>1981</td>\n",
              "      <td>58293.0</td>\n",
              "      <td>1</td>\n",
              "      <td>0</td>\n",
              "      <td>94</td>\n",
              "      <td>173</td>\n",
              "      <td>43</td>\n",
              "      <td>118</td>\n",
              "      <td>46</td>\n",
              "      <td>27</td>\n",
              "      <td>15</td>\n",
              "      <td>5</td>\n",
              "      <td>5</td>\n",
              "      <td>3</td>\n",
              "      <td>6</td>\n",
              "      <td>5</td>\n",
              "      <td>0</td>\n",
              "      <td>0</td>\n",
              "      <td>0</td>\n",
              "      <td>0</td>\n",
              "      <td>0</td>\n",
              "      <td>0</td>\n",
              "      <td>0</td>\n",
              "    </tr>\n",
              "    <tr>\n",
              "      <th>...</th>\n",
              "      <td>...</td>\n",
              "      <td>...</td>\n",
              "      <td>...</td>\n",
              "      <td>...</td>\n",
              "      <td>...</td>\n",
              "      <td>...</td>\n",
              "      <td>...</td>\n",
              "      <td>...</td>\n",
              "      <td>...</td>\n",
              "      <td>...</td>\n",
              "      <td>...</td>\n",
              "      <td>...</td>\n",
              "      <td>...</td>\n",
              "      <td>...</td>\n",
              "      <td>...</td>\n",
              "      <td>...</td>\n",
              "      <td>...</td>\n",
              "      <td>...</td>\n",
              "      <td>...</td>\n",
              "      <td>...</td>\n",
              "      <td>...</td>\n",
              "      <td>...</td>\n",
              "      <td>...</td>\n",
              "      <td>...</td>\n",
              "    </tr>\n",
              "    <tr>\n",
              "      <th>2235</th>\n",
              "      <td>10870</td>\n",
              "      <td>1967</td>\n",
              "      <td>61223.0</td>\n",
              "      <td>0</td>\n",
              "      <td>1</td>\n",
              "      <td>46</td>\n",
              "      <td>709</td>\n",
              "      <td>43</td>\n",
              "      <td>182</td>\n",
              "      <td>42</td>\n",
              "      <td>118</td>\n",
              "      <td>247</td>\n",
              "      <td>2</td>\n",
              "      <td>9</td>\n",
              "      <td>3</td>\n",
              "      <td>4</td>\n",
              "      <td>5</td>\n",
              "      <td>0</td>\n",
              "      <td>0</td>\n",
              "      <td>0</td>\n",
              "      <td>0</td>\n",
              "      <td>0</td>\n",
              "      <td>0</td>\n",
              "      <td>0</td>\n",
              "    </tr>\n",
              "    <tr>\n",
              "      <th>2236</th>\n",
              "      <td>4001</td>\n",
              "      <td>1946</td>\n",
              "      <td>64014.0</td>\n",
              "      <td>2</td>\n",
              "      <td>1</td>\n",
              "      <td>56</td>\n",
              "      <td>406</td>\n",
              "      <td>0</td>\n",
              "      <td>30</td>\n",
              "      <td>0</td>\n",
              "      <td>0</td>\n",
              "      <td>8</td>\n",
              "      <td>7</td>\n",
              "      <td>8</td>\n",
              "      <td>2</td>\n",
              "      <td>5</td>\n",
              "      <td>7</td>\n",
              "      <td>0</td>\n",
              "      <td>0</td>\n",
              "      <td>0</td>\n",
              "      <td>1</td>\n",
              "      <td>0</td>\n",
              "      <td>0</td>\n",
              "      <td>0</td>\n",
              "    </tr>\n",
              "    <tr>\n",
              "      <th>2237</th>\n",
              "      <td>7270</td>\n",
              "      <td>1981</td>\n",
              "      <td>56981.0</td>\n",
              "      <td>0</td>\n",
              "      <td>0</td>\n",
              "      <td>91</td>\n",
              "      <td>908</td>\n",
              "      <td>48</td>\n",
              "      <td>217</td>\n",
              "      <td>32</td>\n",
              "      <td>12</td>\n",
              "      <td>24</td>\n",
              "      <td>1</td>\n",
              "      <td>2</td>\n",
              "      <td>3</td>\n",
              "      <td>13</td>\n",
              "      <td>6</td>\n",
              "      <td>0</td>\n",
              "      <td>1</td>\n",
              "      <td>0</td>\n",
              "      <td>0</td>\n",
              "      <td>0</td>\n",
              "      <td>0</td>\n",
              "      <td>0</td>\n",
              "    </tr>\n",
              "    <tr>\n",
              "      <th>2238</th>\n",
              "      <td>8235</td>\n",
              "      <td>1956</td>\n",
              "      <td>69245.0</td>\n",
              "      <td>0</td>\n",
              "      <td>1</td>\n",
              "      <td>8</td>\n",
              "      <td>428</td>\n",
              "      <td>30</td>\n",
              "      <td>214</td>\n",
              "      <td>80</td>\n",
              "      <td>30</td>\n",
              "      <td>61</td>\n",
              "      <td>2</td>\n",
              "      <td>6</td>\n",
              "      <td>5</td>\n",
              "      <td>10</td>\n",
              "      <td>3</td>\n",
              "      <td>0</td>\n",
              "      <td>0</td>\n",
              "      <td>0</td>\n",
              "      <td>0</td>\n",
              "      <td>0</td>\n",
              "      <td>0</td>\n",
              "      <td>0</td>\n",
              "    </tr>\n",
              "    <tr>\n",
              "      <th>2239</th>\n",
              "      <td>9405</td>\n",
              "      <td>1954</td>\n",
              "      <td>52869.0</td>\n",
              "      <td>1</td>\n",
              "      <td>1</td>\n",
              "      <td>40</td>\n",
              "      <td>84</td>\n",
              "      <td>3</td>\n",
              "      <td>61</td>\n",
              "      <td>2</td>\n",
              "      <td>1</td>\n",
              "      <td>21</td>\n",
              "      <td>3</td>\n",
              "      <td>3</td>\n",
              "      <td>1</td>\n",
              "      <td>4</td>\n",
              "      <td>7</td>\n",
              "      <td>0</td>\n",
              "      <td>0</td>\n",
              "      <td>0</td>\n",
              "      <td>0</td>\n",
              "      <td>0</td>\n",
              "      <td>0</td>\n",
              "      <td>1</td>\n",
              "    </tr>\n",
              "  </tbody>\n",
              "</table>\n",
              "<p>2240 rows × 24 columns</p>\n",
              "</div>"
            ],
            "text/plain": [
              "         ID  Ano_nascimento    Renda  ...  Cmp2Aceito  Reclamacoes  Resposta\n",
              "0      5524            1957  58138.0  ...           0            0         1\n",
              "1      2174            1954  46344.0  ...           0            0         0\n",
              "2      4141            1965  71613.0  ...           0            0         0\n",
              "3      6182            1984  26646.0  ...           0            0         0\n",
              "4      5324            1981  58293.0  ...           0            0         0\n",
              "...     ...             ...      ...  ...         ...          ...       ...\n",
              "2235  10870            1967  61223.0  ...           0            0         0\n",
              "2236   4001            1946  64014.0  ...           0            0         0\n",
              "2237   7270            1981  56981.0  ...           0            0         0\n",
              "2238   8235            1956  69245.0  ...           0            0         0\n",
              "2239   9405            1954  52869.0  ...           0            0         1\n",
              "\n",
              "[2240 rows x 24 columns]"
            ]
          },
          "metadata": {},
          "execution_count": 28
        }
      ]
    },
    {
      "cell_type": "code",
      "metadata": {
        "colab": {
          "base_uri": "https://localhost:8080/"
        },
        "id": "cvxpKjIkJfw1",
        "outputId": "36a7f434-a7d4-4920-c0de-74b1bc4856eb"
      },
      "source": [
        "df_knn = KNN(k=3).fit_transform(df_knn)"
      ],
      "execution_count": 29,
      "outputs": [
        {
          "output_type": "stream",
          "name": "stdout",
          "text": [
            "Imputing row 1/2240 with 0 missing, elapsed time: 1.149\n",
            "Imputing row 101/2240 with 0 missing, elapsed time: 1.150\n",
            "Imputing row 201/2240 with 0 missing, elapsed time: 1.151\n",
            "Imputing row 301/2240 with 0 missing, elapsed time: 1.152\n",
            "Imputing row 401/2240 with 0 missing, elapsed time: 1.153\n",
            "Imputing row 501/2240 with 0 missing, elapsed time: 1.154\n",
            "Imputing row 601/2240 with 0 missing, elapsed time: 1.154\n",
            "Imputing row 701/2240 with 0 missing, elapsed time: 1.155\n",
            "Imputing row 801/2240 with 0 missing, elapsed time: 1.156\n",
            "Imputing row 901/2240 with 0 missing, elapsed time: 1.157\n",
            "Imputing row 1001/2240 with 0 missing, elapsed time: 1.158\n",
            "Imputing row 1101/2240 with 0 missing, elapsed time: 1.158\n",
            "Imputing row 1201/2240 with 0 missing, elapsed time: 1.159\n",
            "Imputing row 1301/2240 with 0 missing, elapsed time: 1.159\n",
            "Imputing row 1401/2240 with 0 missing, elapsed time: 1.160\n",
            "Imputing row 1501/2240 with 0 missing, elapsed time: 1.161\n",
            "Imputing row 1601/2240 with 0 missing, elapsed time: 1.161\n",
            "Imputing row 1701/2240 with 0 missing, elapsed time: 1.162\n",
            "Imputing row 1801/2240 with 0 missing, elapsed time: 1.162\n",
            "Imputing row 1901/2240 with 0 missing, elapsed time: 1.162\n",
            "Imputing row 2001/2240 with 0 missing, elapsed time: 1.163\n",
            "Imputing row 2101/2240 with 0 missing, elapsed time: 1.168\n",
            "Imputing row 2201/2240 with 0 missing, elapsed time: 1.169\n"
          ]
        }
      ]
    },
    {
      "cell_type": "code",
      "metadata": {
        "id": "jksMrh3TJmeX"
      },
      "source": [
        "df2 = df"
      ],
      "execution_count": 30,
      "outputs": []
    },
    {
      "cell_type": "code",
      "metadata": {
        "id": "C0J-o7DlKJJ6"
      },
      "source": [
        "df2 = pd.DataFrame(df2)\n"
      ],
      "execution_count": 31,
      "outputs": []
    },
    {
      "cell_type": "code",
      "metadata": {
        "colab": {
          "base_uri": "https://localhost:8080/"
        },
        "id": "-cHkuiFlKQHh",
        "outputId": "5ff95826-b05e-46a3-dcf4-e8f04a7a721e"
      },
      "source": [
        "list(df2.columns)"
      ],
      "execution_count": 32,
      "outputs": [
        {
          "output_type": "execute_result",
          "data": {
            "text/plain": [
              "['ID',\n",
              " 'Ano_nascimento',\n",
              " 'Educacao',\n",
              " 'Estado_civil',\n",
              " 'Renda',\n",
              " 'Crianca_em_casa',\n",
              " 'Adolescente_em_casa',\n",
              " 'Dt_Cliente',\n",
              " 'Recencia',\n",
              " 'QtdVinhos',\n",
              " 'QtdFrutas',\n",
              " 'QtdProdutosCarne',\n",
              " 'QtdProdutosPeixe',\n",
              " 'QtdProdutosDoces',\n",
              " 'QtdProdutosGold',\n",
              " 'NumOfertasDeCompra',\n",
              " 'NumOfertasWeb',\n",
              " 'NumOfertasCatalogo',\n",
              " 'NumComprasNaLoja',\n",
              " 'NumVisitasWebMes',\n",
              " 'Cmp3Aceito',\n",
              " 'Cmp4Aceito',\n",
              " 'Cmp5Aceito',\n",
              " 'Cmp1Aceito',\n",
              " 'Cmp2Aceito',\n",
              " 'Reclamacoes',\n",
              " 'Resposta']"
            ]
          },
          "metadata": {},
          "execution_count": 32
        }
      ]
    },
    {
      "cell_type": "code",
      "metadata": {
        "id": "lrYZsbxlKguw"
      },
      "source": [
        "df_3 = pd.DataFrame(data=df_knn[0:,0:],columns=['ID',\n",
        " 'Ano_nascimento',\n",
        " 'Renda',\n",
        " 'Crianca_em_casa',\n",
        " 'Adolescente_em_casa',\n",
        " 'Recencia',\n",
        " 'QtdVinhos',\n",
        " 'QtdFrutas',\n",
        " 'QtdProdutosCarne',\n",
        " 'QtdProdutosPeixe',\n",
        " 'QtdProdutosDoces',\n",
        " 'QtdProdutosGold',\n",
        " 'NumOfertasDeCompra',\n",
        " 'NumOfertasWeb',\n",
        " 'NumOfertasCatalogo',\n",
        " 'NumComprasNaLoja',\n",
        " 'NumVisitasWebMes',\n",
        " 'Cmp3Aceito',\n",
        " 'Cmp4Aceito',\n",
        " 'Cmp5Aceito',\n",
        " 'Cmp1Aceito',\n",
        " 'Cmp2Aceito',\n",
        " 'Reclamacoes',\n",
        " 'Resposta'])"
      ],
      "execution_count": 33,
      "outputs": []
    },
    {
      "cell_type": "code",
      "metadata": {
        "colab": {
          "base_uri": "https://localhost:8080/",
          "height": 224
        },
        "id": "o8pmwH2YK7SV",
        "outputId": "4fca8a7e-5ac8-456a-a366-da0391a5bfa3"
      },
      "source": [
        "df_3.head()"
      ],
      "execution_count": 34,
      "outputs": [
        {
          "output_type": "execute_result",
          "data": {
            "text/html": [
              "<div>\n",
              "<style scoped>\n",
              "    .dataframe tbody tr th:only-of-type {\n",
              "        vertical-align: middle;\n",
              "    }\n",
              "\n",
              "    .dataframe tbody tr th {\n",
              "        vertical-align: top;\n",
              "    }\n",
              "\n",
              "    .dataframe thead th {\n",
              "        text-align: right;\n",
              "    }\n",
              "</style>\n",
              "<table border=\"1\" class=\"dataframe\">\n",
              "  <thead>\n",
              "    <tr style=\"text-align: right;\">\n",
              "      <th></th>\n",
              "      <th>ID</th>\n",
              "      <th>Ano_nascimento</th>\n",
              "      <th>Renda</th>\n",
              "      <th>Crianca_em_casa</th>\n",
              "      <th>Adolescente_em_casa</th>\n",
              "      <th>Recencia</th>\n",
              "      <th>QtdVinhos</th>\n",
              "      <th>QtdFrutas</th>\n",
              "      <th>QtdProdutosCarne</th>\n",
              "      <th>QtdProdutosPeixe</th>\n",
              "      <th>QtdProdutosDoces</th>\n",
              "      <th>QtdProdutosGold</th>\n",
              "      <th>NumOfertasDeCompra</th>\n",
              "      <th>NumOfertasWeb</th>\n",
              "      <th>NumOfertasCatalogo</th>\n",
              "      <th>NumComprasNaLoja</th>\n",
              "      <th>NumVisitasWebMes</th>\n",
              "      <th>Cmp3Aceito</th>\n",
              "      <th>Cmp4Aceito</th>\n",
              "      <th>Cmp5Aceito</th>\n",
              "      <th>Cmp1Aceito</th>\n",
              "      <th>Cmp2Aceito</th>\n",
              "      <th>Reclamacoes</th>\n",
              "      <th>Resposta</th>\n",
              "    </tr>\n",
              "  </thead>\n",
              "  <tbody>\n",
              "    <tr>\n",
              "      <th>0</th>\n",
              "      <td>5524.0</td>\n",
              "      <td>1957.0</td>\n",
              "      <td>58138.0</td>\n",
              "      <td>0.0</td>\n",
              "      <td>0.0</td>\n",
              "      <td>58.0</td>\n",
              "      <td>635.0</td>\n",
              "      <td>88.0</td>\n",
              "      <td>546.0</td>\n",
              "      <td>172.0</td>\n",
              "      <td>88.0</td>\n",
              "      <td>88.0</td>\n",
              "      <td>3.0</td>\n",
              "      <td>8.0</td>\n",
              "      <td>10.0</td>\n",
              "      <td>4.0</td>\n",
              "      <td>7.0</td>\n",
              "      <td>0.0</td>\n",
              "      <td>0.0</td>\n",
              "      <td>0.0</td>\n",
              "      <td>0.0</td>\n",
              "      <td>0.0</td>\n",
              "      <td>0.0</td>\n",
              "      <td>1.0</td>\n",
              "    </tr>\n",
              "    <tr>\n",
              "      <th>1</th>\n",
              "      <td>2174.0</td>\n",
              "      <td>1954.0</td>\n",
              "      <td>46344.0</td>\n",
              "      <td>1.0</td>\n",
              "      <td>1.0</td>\n",
              "      <td>38.0</td>\n",
              "      <td>11.0</td>\n",
              "      <td>1.0</td>\n",
              "      <td>6.0</td>\n",
              "      <td>2.0</td>\n",
              "      <td>1.0</td>\n",
              "      <td>6.0</td>\n",
              "      <td>2.0</td>\n",
              "      <td>1.0</td>\n",
              "      <td>1.0</td>\n",
              "      <td>2.0</td>\n",
              "      <td>5.0</td>\n",
              "      <td>0.0</td>\n",
              "      <td>0.0</td>\n",
              "      <td>0.0</td>\n",
              "      <td>0.0</td>\n",
              "      <td>0.0</td>\n",
              "      <td>0.0</td>\n",
              "      <td>0.0</td>\n",
              "    </tr>\n",
              "    <tr>\n",
              "      <th>2</th>\n",
              "      <td>4141.0</td>\n",
              "      <td>1965.0</td>\n",
              "      <td>71613.0</td>\n",
              "      <td>0.0</td>\n",
              "      <td>0.0</td>\n",
              "      <td>26.0</td>\n",
              "      <td>426.0</td>\n",
              "      <td>49.0</td>\n",
              "      <td>127.0</td>\n",
              "      <td>111.0</td>\n",
              "      <td>21.0</td>\n",
              "      <td>42.0</td>\n",
              "      <td>1.0</td>\n",
              "      <td>8.0</td>\n",
              "      <td>2.0</td>\n",
              "      <td>10.0</td>\n",
              "      <td>4.0</td>\n",
              "      <td>0.0</td>\n",
              "      <td>0.0</td>\n",
              "      <td>0.0</td>\n",
              "      <td>0.0</td>\n",
              "      <td>0.0</td>\n",
              "      <td>0.0</td>\n",
              "      <td>0.0</td>\n",
              "    </tr>\n",
              "    <tr>\n",
              "      <th>3</th>\n",
              "      <td>6182.0</td>\n",
              "      <td>1984.0</td>\n",
              "      <td>26646.0</td>\n",
              "      <td>1.0</td>\n",
              "      <td>0.0</td>\n",
              "      <td>26.0</td>\n",
              "      <td>11.0</td>\n",
              "      <td>4.0</td>\n",
              "      <td>20.0</td>\n",
              "      <td>10.0</td>\n",
              "      <td>3.0</td>\n",
              "      <td>5.0</td>\n",
              "      <td>2.0</td>\n",
              "      <td>2.0</td>\n",
              "      <td>0.0</td>\n",
              "      <td>4.0</td>\n",
              "      <td>6.0</td>\n",
              "      <td>0.0</td>\n",
              "      <td>0.0</td>\n",
              "      <td>0.0</td>\n",
              "      <td>0.0</td>\n",
              "      <td>0.0</td>\n",
              "      <td>0.0</td>\n",
              "      <td>0.0</td>\n",
              "    </tr>\n",
              "    <tr>\n",
              "      <th>4</th>\n",
              "      <td>5324.0</td>\n",
              "      <td>1981.0</td>\n",
              "      <td>58293.0</td>\n",
              "      <td>1.0</td>\n",
              "      <td>0.0</td>\n",
              "      <td>94.0</td>\n",
              "      <td>173.0</td>\n",
              "      <td>43.0</td>\n",
              "      <td>118.0</td>\n",
              "      <td>46.0</td>\n",
              "      <td>27.0</td>\n",
              "      <td>15.0</td>\n",
              "      <td>5.0</td>\n",
              "      <td>5.0</td>\n",
              "      <td>3.0</td>\n",
              "      <td>6.0</td>\n",
              "      <td>5.0</td>\n",
              "      <td>0.0</td>\n",
              "      <td>0.0</td>\n",
              "      <td>0.0</td>\n",
              "      <td>0.0</td>\n",
              "      <td>0.0</td>\n",
              "      <td>0.0</td>\n",
              "      <td>0.0</td>\n",
              "    </tr>\n",
              "  </tbody>\n",
              "</table>\n",
              "</div>"
            ],
            "text/plain": [
              "       ID  Ano_nascimento    Renda  ...  Cmp2Aceito  Reclamacoes  Resposta\n",
              "0  5524.0          1957.0  58138.0  ...         0.0          0.0       1.0\n",
              "1  2174.0          1954.0  46344.0  ...         0.0          0.0       0.0\n",
              "2  4141.0          1965.0  71613.0  ...         0.0          0.0       0.0\n",
              "3  6182.0          1984.0  26646.0  ...         0.0          0.0       0.0\n",
              "4  5324.0          1981.0  58293.0  ...         0.0          0.0       0.0\n",
              "\n",
              "[5 rows x 24 columns]"
            ]
          },
          "metadata": {},
          "execution_count": 34
        }
      ]
    },
    {
      "cell_type": "code",
      "metadata": {
        "colab": {
          "base_uri": "https://localhost:8080/"
        },
        "id": "xiaEBfxxMqRo",
        "outputId": "26a614cb-5371-4820-8e17-28dbd68e825b"
      },
      "source": [
        "df_3.info()"
      ],
      "execution_count": 35,
      "outputs": [
        {
          "output_type": "stream",
          "name": "stdout",
          "text": [
            "<class 'pandas.core.frame.DataFrame'>\n",
            "RangeIndex: 2240 entries, 0 to 2239\n",
            "Data columns (total 24 columns):\n",
            " #   Column               Non-Null Count  Dtype  \n",
            "---  ------               --------------  -----  \n",
            " 0   ID                   2240 non-null   float64\n",
            " 1   Ano_nascimento       2240 non-null   float64\n",
            " 2   Renda                2240 non-null   float64\n",
            " 3   Crianca_em_casa      2240 non-null   float64\n",
            " 4   Adolescente_em_casa  2240 non-null   float64\n",
            " 5   Recencia             2240 non-null   float64\n",
            " 6   QtdVinhos            2240 non-null   float64\n",
            " 7   QtdFrutas            2240 non-null   float64\n",
            " 8   QtdProdutosCarne     2240 non-null   float64\n",
            " 9   QtdProdutosPeixe     2240 non-null   float64\n",
            " 10  QtdProdutosDoces     2240 non-null   float64\n",
            " 11  QtdProdutosGold      2240 non-null   float64\n",
            " 12  NumOfertasDeCompra   2240 non-null   float64\n",
            " 13  NumOfertasWeb        2240 non-null   float64\n",
            " 14  NumOfertasCatalogo   2240 non-null   float64\n",
            " 15  NumComprasNaLoja     2240 non-null   float64\n",
            " 16  NumVisitasWebMes     2240 non-null   float64\n",
            " 17  Cmp3Aceito           2240 non-null   float64\n",
            " 18  Cmp4Aceito           2240 non-null   float64\n",
            " 19  Cmp5Aceito           2240 non-null   float64\n",
            " 20  Cmp1Aceito           2240 non-null   float64\n",
            " 21  Cmp2Aceito           2240 non-null   float64\n",
            " 22  Reclamacoes          2240 non-null   float64\n",
            " 23  Resposta             2240 non-null   float64\n",
            "dtypes: float64(24)\n",
            "memory usage: 420.1 KB\n"
          ]
        }
      ]
    },
    {
      "cell_type": "code",
      "metadata": {
        "colab": {
          "base_uri": "https://localhost:8080/"
        },
        "id": "mMr9bZpaMuiT",
        "outputId": "dcb4a723-3647-41c0-ea52-249e0cd5152c"
      },
      "source": [
        "df_3.isnull().sum()"
      ],
      "execution_count": 36,
      "outputs": [
        {
          "output_type": "execute_result",
          "data": {
            "text/plain": [
              "ID                     0\n",
              "Ano_nascimento         0\n",
              "Renda                  0\n",
              "Crianca_em_casa        0\n",
              "Adolescente_em_casa    0\n",
              "Recencia               0\n",
              "QtdVinhos              0\n",
              "QtdFrutas              0\n",
              "QtdProdutosCarne       0\n",
              "QtdProdutosPeixe       0\n",
              "QtdProdutosDoces       0\n",
              "QtdProdutosGold        0\n",
              "NumOfertasDeCompra     0\n",
              "NumOfertasWeb          0\n",
              "NumOfertasCatalogo     0\n",
              "NumComprasNaLoja       0\n",
              "NumVisitasWebMes       0\n",
              "Cmp3Aceito             0\n",
              "Cmp4Aceito             0\n",
              "Cmp5Aceito             0\n",
              "Cmp1Aceito             0\n",
              "Cmp2Aceito             0\n",
              "Reclamacoes            0\n",
              "Resposta               0\n",
              "dtype: int64"
            ]
          },
          "metadata": {},
          "execution_count": 36
        }
      ]
    },
    {
      "cell_type": "code",
      "metadata": {
        "id": "YHFFF2YOM69L"
      },
      "source": [
        "df2['Renda'] = df_3['Renda']"
      ],
      "execution_count": 37,
      "outputs": []
    },
    {
      "cell_type": "code",
      "metadata": {
        "colab": {
          "base_uri": "https://localhost:8080/"
        },
        "id": "_q4aVGGQNHNV",
        "outputId": "5f111a63-bf60-4cd7-c80f-e1e45ca2398d"
      },
      "source": [
        "df2.isnull().sum()"
      ],
      "execution_count": 38,
      "outputs": [
        {
          "output_type": "execute_result",
          "data": {
            "text/plain": [
              "ID                     0\n",
              "Ano_nascimento         0\n",
              "Educacao               0\n",
              "Estado_civil           0\n",
              "Renda                  0\n",
              "Crianca_em_casa        0\n",
              "Adolescente_em_casa    0\n",
              "Dt_Cliente             0\n",
              "Recencia               0\n",
              "QtdVinhos              0\n",
              "QtdFrutas              0\n",
              "QtdProdutosCarne       0\n",
              "QtdProdutosPeixe       0\n",
              "QtdProdutosDoces       0\n",
              "QtdProdutosGold        0\n",
              "NumOfertasDeCompra     0\n",
              "NumOfertasWeb          0\n",
              "NumOfertasCatalogo     0\n",
              "NumComprasNaLoja       0\n",
              "NumVisitasWebMes       0\n",
              "Cmp3Aceito             0\n",
              "Cmp4Aceito             0\n",
              "Cmp5Aceito             0\n",
              "Cmp1Aceito             0\n",
              "Cmp2Aceito             0\n",
              "Reclamacoes            0\n",
              "Resposta               0\n",
              "dtype: int64"
            ]
          },
          "metadata": {},
          "execution_count": 38
        }
      ]
    },
    {
      "cell_type": "code",
      "metadata": {
        "colab": {
          "base_uri": "https://localhost:8080/",
          "height": 224
        },
        "id": "2_ke-mjHNJX5",
        "outputId": "8a2bfa58-d8df-4808-ac57-866f5424bac8"
      },
      "source": [
        "df2.head()"
      ],
      "execution_count": 39,
      "outputs": [
        {
          "output_type": "execute_result",
          "data": {
            "text/html": [
              "<div>\n",
              "<style scoped>\n",
              "    .dataframe tbody tr th:only-of-type {\n",
              "        vertical-align: middle;\n",
              "    }\n",
              "\n",
              "    .dataframe tbody tr th {\n",
              "        vertical-align: top;\n",
              "    }\n",
              "\n",
              "    .dataframe thead th {\n",
              "        text-align: right;\n",
              "    }\n",
              "</style>\n",
              "<table border=\"1\" class=\"dataframe\">\n",
              "  <thead>\n",
              "    <tr style=\"text-align: right;\">\n",
              "      <th></th>\n",
              "      <th>ID</th>\n",
              "      <th>Ano_nascimento</th>\n",
              "      <th>Educacao</th>\n",
              "      <th>Estado_civil</th>\n",
              "      <th>Renda</th>\n",
              "      <th>Crianca_em_casa</th>\n",
              "      <th>Adolescente_em_casa</th>\n",
              "      <th>Dt_Cliente</th>\n",
              "      <th>Recencia</th>\n",
              "      <th>QtdVinhos</th>\n",
              "      <th>QtdFrutas</th>\n",
              "      <th>QtdProdutosCarne</th>\n",
              "      <th>QtdProdutosPeixe</th>\n",
              "      <th>QtdProdutosDoces</th>\n",
              "      <th>QtdProdutosGold</th>\n",
              "      <th>NumOfertasDeCompra</th>\n",
              "      <th>NumOfertasWeb</th>\n",
              "      <th>NumOfertasCatalogo</th>\n",
              "      <th>NumComprasNaLoja</th>\n",
              "      <th>NumVisitasWebMes</th>\n",
              "      <th>Cmp3Aceito</th>\n",
              "      <th>Cmp4Aceito</th>\n",
              "      <th>Cmp5Aceito</th>\n",
              "      <th>Cmp1Aceito</th>\n",
              "      <th>Cmp2Aceito</th>\n",
              "      <th>Reclamacoes</th>\n",
              "      <th>Resposta</th>\n",
              "    </tr>\n",
              "  </thead>\n",
              "  <tbody>\n",
              "    <tr>\n",
              "      <th>0</th>\n",
              "      <td>5524</td>\n",
              "      <td>1957</td>\n",
              "      <td>Graduação</td>\n",
              "      <td>Solteiro</td>\n",
              "      <td>58138.0</td>\n",
              "      <td>0</td>\n",
              "      <td>0</td>\n",
              "      <td>2012-09-04</td>\n",
              "      <td>58</td>\n",
              "      <td>635</td>\n",
              "      <td>88</td>\n",
              "      <td>546</td>\n",
              "      <td>172</td>\n",
              "      <td>88</td>\n",
              "      <td>88</td>\n",
              "      <td>3</td>\n",
              "      <td>8</td>\n",
              "      <td>10</td>\n",
              "      <td>4</td>\n",
              "      <td>7</td>\n",
              "      <td>0</td>\n",
              "      <td>0</td>\n",
              "      <td>0</td>\n",
              "      <td>0</td>\n",
              "      <td>0</td>\n",
              "      <td>0</td>\n",
              "      <td>1</td>\n",
              "    </tr>\n",
              "    <tr>\n",
              "      <th>1</th>\n",
              "      <td>2174</td>\n",
              "      <td>1954</td>\n",
              "      <td>Graduação</td>\n",
              "      <td>Solteiro</td>\n",
              "      <td>46344.0</td>\n",
              "      <td>1</td>\n",
              "      <td>1</td>\n",
              "      <td>2014-03-08</td>\n",
              "      <td>38</td>\n",
              "      <td>11</td>\n",
              "      <td>1</td>\n",
              "      <td>6</td>\n",
              "      <td>2</td>\n",
              "      <td>1</td>\n",
              "      <td>6</td>\n",
              "      <td>2</td>\n",
              "      <td>1</td>\n",
              "      <td>1</td>\n",
              "      <td>2</td>\n",
              "      <td>5</td>\n",
              "      <td>0</td>\n",
              "      <td>0</td>\n",
              "      <td>0</td>\n",
              "      <td>0</td>\n",
              "      <td>0</td>\n",
              "      <td>0</td>\n",
              "      <td>0</td>\n",
              "    </tr>\n",
              "    <tr>\n",
              "      <th>2</th>\n",
              "      <td>4141</td>\n",
              "      <td>1965</td>\n",
              "      <td>Graduação</td>\n",
              "      <td>Junto</td>\n",
              "      <td>71613.0</td>\n",
              "      <td>0</td>\n",
              "      <td>0</td>\n",
              "      <td>2013-08-21</td>\n",
              "      <td>26</td>\n",
              "      <td>426</td>\n",
              "      <td>49</td>\n",
              "      <td>127</td>\n",
              "      <td>111</td>\n",
              "      <td>21</td>\n",
              "      <td>42</td>\n",
              "      <td>1</td>\n",
              "      <td>8</td>\n",
              "      <td>2</td>\n",
              "      <td>10</td>\n",
              "      <td>4</td>\n",
              "      <td>0</td>\n",
              "      <td>0</td>\n",
              "      <td>0</td>\n",
              "      <td>0</td>\n",
              "      <td>0</td>\n",
              "      <td>0</td>\n",
              "      <td>0</td>\n",
              "    </tr>\n",
              "    <tr>\n",
              "      <th>3</th>\n",
              "      <td>6182</td>\n",
              "      <td>1984</td>\n",
              "      <td>Graduação</td>\n",
              "      <td>Junto</td>\n",
              "      <td>26646.0</td>\n",
              "      <td>1</td>\n",
              "      <td>0</td>\n",
              "      <td>2014-02-10</td>\n",
              "      <td>26</td>\n",
              "      <td>11</td>\n",
              "      <td>4</td>\n",
              "      <td>20</td>\n",
              "      <td>10</td>\n",
              "      <td>3</td>\n",
              "      <td>5</td>\n",
              "      <td>2</td>\n",
              "      <td>2</td>\n",
              "      <td>0</td>\n",
              "      <td>4</td>\n",
              "      <td>6</td>\n",
              "      <td>0</td>\n",
              "      <td>0</td>\n",
              "      <td>0</td>\n",
              "      <td>0</td>\n",
              "      <td>0</td>\n",
              "      <td>0</td>\n",
              "      <td>0</td>\n",
              "    </tr>\n",
              "    <tr>\n",
              "      <th>4</th>\n",
              "      <td>5324</td>\n",
              "      <td>1981</td>\n",
              "      <td>PhD</td>\n",
              "      <td>Casado</td>\n",
              "      <td>58293.0</td>\n",
              "      <td>1</td>\n",
              "      <td>0</td>\n",
              "      <td>2014-01-19</td>\n",
              "      <td>94</td>\n",
              "      <td>173</td>\n",
              "      <td>43</td>\n",
              "      <td>118</td>\n",
              "      <td>46</td>\n",
              "      <td>27</td>\n",
              "      <td>15</td>\n",
              "      <td>5</td>\n",
              "      <td>5</td>\n",
              "      <td>3</td>\n",
              "      <td>6</td>\n",
              "      <td>5</td>\n",
              "      <td>0</td>\n",
              "      <td>0</td>\n",
              "      <td>0</td>\n",
              "      <td>0</td>\n",
              "      <td>0</td>\n",
              "      <td>0</td>\n",
              "      <td>0</td>\n",
              "    </tr>\n",
              "  </tbody>\n",
              "</table>\n",
              "</div>"
            ],
            "text/plain": [
              "     ID  Ano_nascimento   Educacao  ... Cmp2Aceito  Reclamacoes  Resposta\n",
              "0  5524            1957  Graduação  ...          0            0         1\n",
              "1  2174            1954  Graduação  ...          0            0         0\n",
              "2  4141            1965  Graduação  ...          0            0         0\n",
              "3  6182            1984  Graduação  ...          0            0         0\n",
              "4  5324            1981        PhD  ...          0            0         0\n",
              "\n",
              "[5 rows x 27 columns]"
            ]
          },
          "metadata": {},
          "execution_count": 39
        }
      ]
    },
    {
      "cell_type": "code",
      "metadata": {
        "colab": {
          "base_uri": "https://localhost:8080/"
        },
        "id": "nudGhdfkNfQD",
        "outputId": "0ed0cb2c-33f9-4a3e-cc13-2f3b3fe4bf78"
      },
      "source": [
        "print(df2['Renda'].mean())\n",
        "print(df2['Renda'].median())"
      ],
      "execution_count": 40,
      "outputs": [
        {
          "output_type": "stream",
          "name": "stdout",
          "text": [
            "52238.74641473112\n",
            "51342.0\n"
          ]
        }
      ]
    },
    {
      "cell_type": "code",
      "metadata": {
        "id": "BT763A6hRuPR"
      },
      "source": [
        "pip install gcloud"
      ],
      "execution_count": null,
      "outputs": []
    },
    {
      "cell_type": "code",
      "metadata": {
        "id": "63GXNHwiQaMU"
      },
      "source": [
        "import os\n",
        "\n",
        "serviceAccount = '/content/miniprojetofinal-85ab556ec3ea.json'\n",
        "os.environ['GOOGLE_APPLICATION_CREDENTIALS'] = serviceAccount"
      ],
      "execution_count": null,
      "outputs": []
    },
    {
      "cell_type": "code",
      "metadata": {
        "id": "4v9Y8QgEQJMS"
      },
      "source": [
        "df2.to_csv('marketing_campaign_tratado.csv')"
      ],
      "execution_count": null,
      "outputs": []
    },
    {
      "cell_type": "markdown",
      "metadata": {
        "id": "6ZXwGjMtgPEE"
      },
      "source": [
        "# Adicionais:\n",
        "## Classificação"
      ]
    },
    {
      "cell_type": "code",
      "metadata": {
        "id": "vRvpePTCgX_w"
      },
      "source": [
        "import sklearn\n",
        "\n",
        "from sklearn.model_selection import train_test_split\n",
        "from sklearn.preprocessing import StandardScaler\n",
        "from sklearn.neural_network import MLPClassifier\n",
        "from sklearn import metrics\n",
        "from sklearn.metrics import accuracy_score\n",
        "from sklearn.metrics import classification_report, confusion_matrix\n",
        "from sklearn.metrics import mean_squared_error\n",
        "from math import sqrt\n",
        "\n",
        "%matplotlib inline\n",
        "\n",
        "import matplotlib.pyplot as plt\n",
        "\n"
      ],
      "execution_count": 64,
      "outputs": []
    },
    {
      "cell_type": "code",
      "metadata": {
        "id": "tWsMOSFAjJGc"
      },
      "source": [
        "X = df2.drop(columns=['Resposta', 'Educacao', 'Estado_civil', 'Dt_Cliente'], axis=1)\n",
        "y = df2['Resposta']\n",
        "#20% dos dados para TESTE\n",
        "X_train, X_test, y_train, y_test = train_test_split(X, y, test_size=0.2, random_state=0)\n"
      ],
      "execution_count": 84,
      "outputs": []
    },
    {
      "cell_type": "code",
      "metadata": {
        "id": "_pmg1XMzjaKW"
      },
      "source": [
        "scaler_RN = StandardScaler()\n",
        "scaler_RN.fit(X_train)\n",
        "\n",
        "dados_train_RN = scaler_RN.transform(X_train)\n",
        "dados_test_RN = scaler_RN.transform(X_test)"
      ],
      "execution_count": 66,
      "outputs": []
    },
    {
      "cell_type": "code",
      "metadata": {
        "id": "G5xpnPYMkARa"
      },
      "source": [
        "MultiLP = MLPClassifier(hidden_layer_sizes = (5, 5), solver = 'sgd', learning_rate_init = 0.1)\n",
        "MultiLP.fit(X_train, y_train)\n",
        "rotulos_pred_RN = MultiLP.predict(X_test)"
      ],
      "execution_count": 67,
      "outputs": []
    },
    {
      "cell_type": "code",
      "metadata": {
        "id": "YrqTHY0_kRCt"
      },
      "source": [
        "def valitation_model (X2, y2, model):\n",
        "  score_model = model.score(X2, y2)\n",
        "\n",
        "  print('Score: ', score_model)\n",
        "\n",
        "  y_pred = model.predict(X2)\n",
        "\n",
        "  conf_matrix = confusion_matrix(y2, y_pred)\n",
        "  conf_matrix = (pd.crosstab(y2, y_pred, rownames=['Real'], colnames=['Predict'], margins=True))\n",
        "  print('')\n",
        "  print('Confusion matrix: ')\n",
        "  print(conf_matrix)\n",
        "\n",
        "  fpr, tpr, thresholds = metrics.roc_curve(y2, y_pred, pos_label=2)\n",
        "  AUC = metrics.auc(fpr, tpr)\n",
        "  print('')\n",
        "  print('AUC: ', AUC)\n",
        "\n",
        "  print('')\n",
        "  plt.title('ROC curve')\n",
        "  plt.plot(fpr, tpr, 'b', label = 'AUC = %0.2f' % AUC)\n",
        "  plt.legend(loc = 'lower right')\n",
        "  plt.plot([0, 1], [0, 1],'r--')\n",
        "  plt.xlim([0, 1])\n",
        "  plt.ylim([0, 1])\n",
        "  plt.ylabel('True Positive Rate')\n",
        "  plt.xlabel('False Positive Rate')\n",
        "  plt.show()\n",
        "  print('')\n",
        "\n",
        "  rmse = sqrt(mean_squared_error(y2, y_pred))\n",
        "  print('Mean square error: ', rmse)"
      ],
      "execution_count": 68,
      "outputs": []
    },
    {
      "cell_type": "code",
      "metadata": {
        "colab": {
          "base_uri": "https://localhost:8080/",
          "height": 570
        },
        "id": "HYRZ_bW6kqQn",
        "outputId": "a038c9c0-8416-4282-e530-053ee5c86218"
      },
      "source": [
        "valitation_model(X_test, y_test, MultiLP)"
      ],
      "execution_count": 69,
      "outputs": [
        {
          "output_type": "stream",
          "name": "stdout",
          "text": [
            "Score:  0.8214285714285714\n",
            "\n",
            "Confusion matrix: \n",
            "Predict    0  All\n",
            "Real             \n",
            "0        368  368\n",
            "1         80   80\n",
            "All      448  448\n",
            "\n",
            "AUC:  nan\n",
            "\n"
          ]
        },
        {
          "output_type": "stream",
          "name": "stderr",
          "text": [
            "/usr/local/lib/python3.7/dist-packages/sklearn/metrics/_ranking.py:1001: UndefinedMetricWarning: No positive samples in y_true, true positive value should be meaningless\n",
            "  UndefinedMetricWarning,\n"
          ]
        },
        {
          "output_type": "display_data",
          "data": {
            "image/png": "[encoded data removed]",
            "text/plain": [
              "<Figure size 432x288 with 1 Axes>"
            ]
          },
          "metadata": {
            "needs_background": "light"
          }
        },
        {
          "output_type": "stream",
          "name": "stdout",
          "text": [
            "\n",
            "Mean square error:  0.4225771273642583\n"
          ]
        }
      ]
    },
    {
      "cell_type": "markdown",
      "metadata": {
        "id": "YAN6tSf0l91A"
      },
      "source": [
        "# KNN"
      ]
    },
    {
      "cell_type": "code",
      "metadata": {
        "id": "r4wXxCuAk6nE"
      },
      "source": [
        "import numpy as np\n",
        "import scipy.spatial\n",
        "import pandas as pd\n",
        "from collections import Counter\n",
        "from scipy.spatial import distance"
      ],
      "execution_count": 70,
      "outputs": []
    },
    {
      "cell_type": "code",
      "metadata": {
        "id": "A_AsZWa2mGAZ"
      },
      "source": [
        "class KNN:\n",
        "    def __init__(self, k):\n",
        "        self.k = k\n",
        "        \n",
        "    def fit(self, X, y):\n",
        "        self.X_train = X\n",
        "        self.y_train = y\n",
        "        \n",
        "    def distanciaEuclidiana(self, X1, X2):\n",
        "        euclides = scipy.spatial.distance.euclidean(X1, X2)\n",
        "    def predict(self, X_test):\n",
        "        saida = []\n",
        "        for i in range(len(X_test)):\n",
        "            d = []\n",
        "            votes = []\n",
        "            for j in range(len(X_train)):\n",
        "                dist = scipy.spatial.distance.euclidean(X_train[j] , X_test[i])\n",
        "                d.append([dist, j])\n",
        "            d.sort()\n",
        "            d = d[0:self.k]\n",
        "            for d, j in d:\n",
        "                votes.append(y_train[j])\n",
        "            ans = Counter(votes).most_common(1)[0][0]\n",
        "            saida.append(ans)\n",
        "            \n",
        "        return saida\n",
        "    \n",
        "    def acuracia(self, X_test, y_test):\n",
        "        predictions = self.predict(X_test)\n",
        "        return (predictions == y_test).sum() / len(y_test)"
      ],
      "execution_count": 71,
      "outputs": []
    },
    {
      "cell_type": "code",
      "metadata": {
        "colab": {
          "base_uri": "https://localhost:8080/",
          "height": 570
        },
        "id": "HWTI-AsPpRMP",
        "outputId": "ed459716-9cbc-4432-b822-48c6ab5439c4"
      },
      "source": [
        "from sklearn.neighbors import KNeighborsClassifier\n",
        "clf_KNN = KNeighborsClassifier(n_neighbors=3)\n",
        "clf_KNN.fit(X_train, y_train)\n",
        "\n",
        "valitation_model(X_test, y_test, clf_KNN)"
      ],
      "execution_count": 87,
      "outputs": [
        {
          "output_type": "stream",
          "name": "stdout",
          "text": [
            "Score:  0.7946428571428571\n",
            "\n",
            "Confusion matrix: \n",
            "Predict    0   1  All\n",
            "Real                 \n",
            "0        344  24  368\n",
            "1         68  12   80\n",
            "All      412  36  448\n",
            "\n",
            "AUC:  nan\n",
            "\n"
          ]
        },
        {
          "output_type": "stream",
          "name": "stderr",
          "text": [
            "/usr/local/lib/python3.7/dist-packages/sklearn/metrics/_ranking.py:1001: UndefinedMetricWarning: No positive samples in y_true, true positive value should be meaningless\n",
            "  UndefinedMetricWarning,\n"
          ]
        },
        {
          "output_type": "display_data",
          "data": {
            "image/png": "[encoded data removed]",
            "text/plain": [
              "<Figure size 432x288 with 1 Axes>"
            ]
          },
          "metadata": {
            "needs_background": "light"
          }
        },
        {
          "output_type": "stream",
          "name": "stdout",
          "text": [
            "\n",
            "Mean square error:  0.4531634835874829\n"
          ]
        }
      ]
    },
    {
      "cell_type": "markdown",
      "metadata": {
        "id": "UjvfmVHMoa-y"
      },
      "source": [
        "# Random Forest"
      ]
    },
    {
      "cell_type": "code",
      "metadata": {
        "colab": {
          "base_uri": "https://localhost:8080/"
        },
        "id": "GU6lvXvfod-y",
        "outputId": "8961873c-d6db-41c3-a1fd-c816eff8f95d"
      },
      "source": [
        "from sklearn.ensemble import RandomForestClassifier\n",
        "from sklearn.datasets import make_classification\n",
        "\n",
        "clf_Rnd_frst = RandomForestClassifier(max_depth=10, random_state=5)\n",
        "clf_Rnd_frst.fit(X_train, y_train)"
      ],
      "execution_count": 85,
      "outputs": [
        {
          "output_type": "execute_result",
          "data": {
            "text/plain": [
              "RandomForestClassifier(max_depth=10, random_state=5)"
            ]
          },
          "metadata": {},
          "execution_count": 85
        }
      ]
    },
    {
      "cell_type": "code",
      "metadata": {
        "colab": {
          "base_uri": "https://localhost:8080/",
          "height": 570
        },
        "id": "MqZR-KBYotpO",
        "outputId": "1020c2dd-f2f3-4abe-c47d-60550b2b15de"
      },
      "source": [
        "valitation_model(X_test, y_test, clf_Rnd_frst)"
      ],
      "execution_count": 86,
      "outputs": [
        {
          "output_type": "stream",
          "name": "stdout",
          "text": [
            "Score:  0.8638392857142857\n",
            "\n",
            "Confusion matrix: \n",
            "Predict    0   1  All\n",
            "Real                 \n",
            "0        363   5  368\n",
            "1         56  24   80\n",
            "All      419  29  448\n",
            "\n",
            "AUC:  nan\n",
            "\n"
          ]
        },
        {
          "output_type": "stream",
          "name": "stderr",
          "text": [
            "/usr/local/lib/python3.7/dist-packages/sklearn/metrics/_ranking.py:1001: UndefinedMetricWarning: No positive samples in y_true, true positive value should be meaningless\n",
            "  UndefinedMetricWarning,\n"
          ]
        },
        {
          "output_type": "display_data",
          "data": {
            "image/png": "[encoded data removed]",
            "text/plain": [
              "<Figure size 432x288 with 1 Axes>"
            ]
          },
          "metadata": {
            "needs_background": "light"
          }
        },
        {
          "output_type": "stream",
          "name": "stdout",
          "text": [
            "\n",
            "Mean square error:  0.36899961285306826\n"
          ]
        }
      ]
    },
    {
      "cell_type": "code",
      "metadata": {
        "id": "wggo7Tn3o2LS"
      },
      "source": [
        ""
      ],
      "execution_count": null,
      "outputs": []
    }
  ]
}