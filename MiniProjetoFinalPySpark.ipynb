{
  "nbformat": 4,
  "nbformat_minor": 0,
  "metadata": {
    "colab": {
      "name": "MiniProjetoFinalPySpark.ipynb",
      "provenance": [],
      "collapsed_sections": [],
      "authorship_tag": "ABX9TyMijJk1FQNsGKj4zL+DGSAS",
      "include_colab_link": true
    },
    "kernelspec": {
      "name": "python3",
      "display_name": "Python 3"
    },
    "language_info": {
      "name": "python"
    }
  },
  "cells": [
    {
      "cell_type": "markdown",
      "metadata": {
        "id": "view-in-github",
        "colab_type": "text"
      },
      "source": [
        "<a href=\"https://colab.research.google.com/github/lluk4z/MiniprojetoFinal-Bcw6-Soulcode/blob/main/MiniProjetoFinalPySpark.ipynb\" target=\"_parent\"><img src=\"https://colab.research.google.com/assets/colab-badge.svg\" alt=\"Open In Colab\"/></a>"
      ]
    },
    {
      "cell_type": "code",
      "metadata": {
        "id": "xl9lGwLiU4kk"
      },
      "source": [
        "!pip install pyspark"
      ],
      "execution_count": null,
      "outputs": []
    },
    {
      "cell_type": "code",
      "metadata": {
        "id": "y3E2p0Q4XBq8"
      },
      "source": [
        "pip install gcsfs"
      ],
      "execution_count": null,
      "outputs": []
    },
    {
      "cell_type": "code",
      "metadata": {
        "colab": {
          "base_uri": "https://localhost:8080/"
        },
        "id": "NfzMix8uXE8N",
        "outputId": "024daa97-dab9-40af-ce70-102742746698"
      },
      "source": [
        "pip install fsspec"
      ],
      "execution_count": null,
      "outputs": [
        {
          "output_type": "stream",
          "name": "stdout",
          "text": [
            "Requirement already satisfied: fsspec in /usr/local/lib/python3.7/dist-packages (2021.11.0)\n"
          ]
        }
      ]
    },
    {
      "cell_type": "code",
      "metadata": {
        "id": "BiMegH0zT395"
      },
      "source": [
        "import gcsfs\n",
        "from io import BytesIO, StringIO\n",
        "from google.cloud import storage\n",
        "from google.oauth2 import service_account\n",
        "\n",
        "from pyspark.sql.types import StructType,StructField, StringType, IntegerType, FloatType, DoubleType\n",
        "\n",
        "import pandas as pd\n",
        "\n",
        "from pyspark.sql import SparkSession\n",
        "import pyspark.sql.functions as F\n",
        "from pyspark.sql.window import Window as W\n",
        "\n",
        "from google.colab import files\n",
        "import io"
      ],
      "execution_count": null,
      "outputs": []
    },
    {
      "cell_type": "code",
      "metadata": {
        "id": "TltSlnqPVVGm"
      },
      "source": [
        "# Configurar a nossa sparksession\n",
        "spark = (SparkSession.builder\n",
        "        .master(\"local\")\n",
        "        .appName(\"MiniProjetoFinal\")\n",
        "        .config('spark.ui.port', '4050')\n",
        "        .getOrCreate())"
      ],
      "execution_count": null,
      "outputs": []
    },
    {
      "cell_type": "code",
      "metadata": {
        "colab": {
          "base_uri": "https://localhost:8080/",
          "height": 216
        },
        "id": "FO0mvwrUVh_-",
        "outputId": "053c8f94-ebc1-4d08-e6e7-8366358d6deb"
      },
      "source": [
        "spark"
      ],
      "execution_count": null,
      "outputs": [
        {
          "output_type": "execute_result",
          "data": {
            "text/html": [
              "\n",
              "            <div>\n",
              "                <p><b>SparkSession - in-memory</b></p>\n",
              "                \n",
              "        <div>\n",
              "            <p><b>SparkContext</b></p>\n",
              "\n",
              "            <p><a href=\"http://433ae37d65de:4050\">Spark UI</a></p>\n",
              "\n",
              "            <dl>\n",
              "              <dt>Version</dt>\n",
              "                <dd><code>v3.2.0</code></dd>\n",
              "              <dt>Master</dt>\n",
              "                <dd><code>local</code></dd>\n",
              "              <dt>AppName</dt>\n",
              "                <dd><code>MiniProjetoFinal</code></dd>\n",
              "            </dl>\n",
              "        </div>\n",
              "        \n",
              "            </div>\n",
              "        "
            ],
            "text/plain": [
              "<pyspark.sql.session.SparkSession at 0x7f1bea84c210>"
            ]
          },
          "metadata": {},
          "execution_count": 7
        }
      ]
    },
    {
      "cell_type": "code",
      "metadata": {
        "colab": {
          "resources": {
            "http://localhost:8080/nbextensions/google.colab/files.js": {
              "data": "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",
              "ok": true,
              "headers": [
                [
                  "content-type",
                  "application/javascript"
                ]
              ],
              "status": 200,
              "status_text": ""
            }
          },
          "base_uri": "https://localhost:8080/",
          "height": 72
        },
        "id": "oYRoMBx5VyuA",
        "outputId": "de3d2eba-82fe-4f8f-9b81-0788e77b271b"
      },
      "source": [
        "uploaded = files.upload()"
      ],
      "execution_count": null,
      "outputs": [
        {
          "output_type": "display_data",
          "data": {
            "text/html": [
              "\n",
              "     <input type=\"file\" id=\"files-efa0a3b8-162a-474d-9255-f366b37e1a2d\" name=\"files[]\" multiple disabled\n",
              "        style=\"border:none\" />\n",
              "     <output id=\"result-efa0a3b8-162a-474d-9255-f366b37e1a2d\">\n",
              "      Upload widget is only available when the cell has been executed in the\n",
              "      current browser session. Please rerun this cell to enable.\n",
              "      </output>\n",
              "      <script src=\"/nbextensions/google.colab/files.js\"></script> "
            ],
            "text/plain": [
              "<IPython.core.display.HTML object>"
            ]
          },
          "metadata": {}
        },
        {
          "output_type": "stream",
          "name": "stdout",
          "text": [
            "Saving marketing_campaign_tratado.csv to marketing_campaign_tratado.csv\n"
          ]
        }
      ]
    },
    {
      "cell_type": "code",
      "metadata": {
        "id": "nRUh0Ez-WBdb"
      },
      "source": [
        "import os\n",
        "\n",
        "serviceAccount = '/content/miniprojetofinal-85ab556ec3ea.json'\n",
        "os.environ['GOOGLE_APPLICATION_CREDENTIALS'] = serviceAccount"
      ],
      "execution_count": null,
      "outputs": []
    },
    {
      "cell_type": "code",
      "metadata": {
        "colab": {
          "base_uri": "https://localhost:8080/"
        },
        "id": "ZyTLM7cFUyiY",
        "outputId": "0f9f8706-0c30-4df9-d4fa-2ab8b7d635f2"
      },
      "source": [
        "df = (\n",
        "    spark.read.format(\"csv\")\n",
        "        .option(\"header\", \"true\")\n",
        "        .option(\"inferSchema\", \"true\")\n",
        "        .option(\"delimiter\", \",\")\n",
        "        .load('/content/marketing_campaign_tratado.csv')\n",
        ")\n",
        "df.show()"
      ],
      "execution_count": null,
      "outputs": [
        {
          "output_type": "stream",
          "name": "stdout",
          "text": [
            "+---+----+--------------+---------+------------+-----------------+---------------+-------------------+----------+--------+---------+---------+----------------+----------------+----------------+---------------+------------------+-------------+------------------+----------------+----------------+----------+----------+----------+----------+----------+-----------+--------+\n",
            "|_c0|  ID|Ano_nascimento| Educacao|Estado_civil|            Renda|Crianca_em_casa|Adolescente_em_casa|Dt_Cliente|Recencia|QtdVinhos|QtdFrutas|QtdProdutosCarne|QtdProdutosPeixe|QtdProdutosDoces|QtdProdutosGold|NumOfertasDeCompra|NumOfertasWeb|NumOfertasCatalogo|NumComprasNaLoja|NumVisitasWebMes|Cmp3Aceito|Cmp4Aceito|Cmp5Aceito|Cmp1Aceito|Cmp2Aceito|Reclamacoes|Resposta|\n",
            "+---+----+--------------+---------+------------+-----------------+---------------+-------------------+----------+--------+---------+---------+----------------+----------------+----------------+---------------+------------------+-------------+------------------+----------------+----------------+----------+----------+----------+----------+----------+-----------+--------+\n",
            "|  0|5524|          1957|Graduação|    Solteiro|          58138.0|              0|                  0|2012-09-04|      58|      635|       88|             546|             172|              88|             88|                 3|            8|                10|               4|               7|         0|         0|         0|         0|         0|          0|       1|\n",
            "|  1|2174|          1954|Graduação|    Solteiro|          46344.0|              1|                  1|2014-03-08|      38|       11|        1|               6|               2|               1|              6|                 2|            1|                 1|               2|               5|         0|         0|         0|         0|         0|          0|       0|\n",
            "|  2|4141|          1965|Graduação|       Junto|          71613.0|              0|                  0|2013-08-21|      26|      426|       49|             127|             111|              21|             42|                 1|            8|                 2|              10|               4|         0|         0|         0|         0|         0|          0|       0|\n",
            "|  3|6182|          1984|Graduação|       Junto|          26646.0|              1|                  0|2014-02-10|      26|       11|        4|              20|              10|               3|              5|                 2|            2|                 0|               4|               6|         0|         0|         0|         0|         0|          0|       0|\n",
            "|  4|5324|          1981|      PhD|      Casado|          58293.0|              1|                  0|2014-01-19|      94|      173|       43|             118|              46|              27|             15|                 5|            5|                 3|               6|               5|         0|         0|         0|         0|         0|          0|       0|\n",
            "|  5|7446|          1967| Mestrado|       Junto|          62513.0|              0|                  1|2013-09-09|      16|      520|       42|              98|               0|              42|             14|                 2|            6|                 4|              10|               6|         0|         0|         0|         0|         0|          0|       0|\n",
            "|  6| 965|          1971|Graduação|  Divorciado|          55635.0|              0|                  1|2012-11-13|      34|      235|       65|             164|              50|              49|             27|                 4|            7|                 3|               7|               6|         0|         0|         0|         0|         0|          0|       0|\n",
            "|  7|6177|          1985|      PhD|      Casado|          33454.0|              1|                  0|2013-05-08|      32|       76|       10|              56|               3|               1|             23|                 2|            4|                 0|               4|               8|         0|         0|         0|         0|         0|          0|       0|\n",
            "|  8|4855|          1974|      PhD|       Junto|          30351.0|              1|                  0|2013-06-06|      19|       14|        0|              24|               3|               3|              2|                 1|            3|                 0|               2|               9|         0|         0|         0|         0|         0|          0|       1|\n",
            "|  9|5899|          1950|      PhD|       Junto|           5648.0|              1|                  1|2014-03-13|      68|       28|        0|               6|               1|               1|             13|                 1|            1|                 0|               0|              20|         1|         0|         0|         0|         0|          0|       0|\n",
            "| 10|1994|          1983|Graduação|      Casado|30399.26555811421|              1|                  0|2013-11-15|      11|        5|        5|               6|               0|               2|              1|                 1|            1|                 0|               2|               7|         0|         0|         0|         0|         0|          0|       0|\n",
            "| 11| 387|          1976|   Basico|      Casado|           7500.0|              0|                  0|2012-11-13|      59|        6|       16|              11|              11|               1|             16|                 1|            2|                 0|               3|               8|         0|         0|         0|         0|         0|          0|       0|\n",
            "| 12|2125|          1959|Graduação|  Divorciado|          63033.0|              0|                  0|2013-11-15|      82|      194|       61|             480|             225|             112|             30|                 1|            3|                 4|               8|               2|         0|         0|         0|         0|         0|          0|       0|\n",
            "| 13|8180|          1952| Mestrado|  Divorciado|          59354.0|              1|                  1|2013-11-15|      53|      233|        2|              53|               3|               5|             14|                 3|            6|                 1|               5|               6|         0|         0|         0|         0|         0|          0|       0|\n",
            "| 14|2569|          1987|Graduação|      Casado|          17323.0|              0|                  0|2012-10-10|      38|        3|       14|              17|               6|               1|              5|                 1|            1|                 0|               3|               8|         0|         0|         0|         0|         0|          0|       0|\n",
            "| 15|2114|          1946|      PhD|    Solteiro|          82800.0|              0|                  0|2012-11-24|      23|     1006|       22|             115|              59|              68|             45|                 1|            7|                 6|              12|               3|         0|         0|         1|         1|         0|          0|       1|\n",
            "| 16|9736|          1980|Graduação|      Casado|          41850.0|              1|                  1|2012-12-24|      51|       53|        5|              19|               2|              13|              4|                 3|            3|                 0|               3|               8|         0|         0|         0|         0|         0|          0|       0|\n",
            "| 17|4939|          1946|Graduação|       Junto|          37760.0|              0|                  0|2012-08-31|      20|       84|        5|              38|             150|              12|             28|                 2|            4|                 1|               6|               7|         0|         0|         0|         0|         0|          0|       0|\n",
            "| 18|6565|          1949| Mestrado|      Casado|          76995.0|              0|                  1|2013-03-28|      91|     1012|       80|             498|               0|              16|            176|                 2|           11|                 4|               9|               5|         0|         0|         0|         1|         0|          0|       0|\n",
            "| 19|2278|          1985|2nd Ciclo|    Solteiro|          33812.0|              1|                  0|2012-11-03|      86|        4|       17|              19|              30|              24|             39|                 2|            2|                 1|               3|               6|         0|         0|         0|         0|         0|          0|       0|\n",
            "+---+----+--------------+---------+------------+-----------------+---------------+-------------------+----------+--------+---------+---------+----------------+----------------+----------------+---------------+------------------+-------------+------------------+----------------+----------------+----------+----------+----------+----------+----------+-----------+--------+\n",
            "only showing top 20 rows\n",
            "\n"
          ]
        }
      ]
    },
    {
      "cell_type": "code",
      "metadata": {
        "colab": {
          "base_uri": "https://localhost:8080/"
        },
        "id": "cAPtUZ0oaJ7l",
        "outputId": "b50e5088-4776-4a93-ce7f-6d7133e6b523"
      },
      "source": [
        "df.printSchema()"
      ],
      "execution_count": null,
      "outputs": [
        {
          "output_type": "stream",
          "name": "stdout",
          "text": [
            "root\n",
            " |-- _c0: integer (nullable = true)\n",
            " |-- ID: integer (nullable = true)\n",
            " |-- Ano_nascimento: integer (nullable = true)\n",
            " |-- Educacao: string (nullable = true)\n",
            " |-- Estado_civil: string (nullable = true)\n",
            " |-- Renda: double (nullable = true)\n",
            " |-- Crianca_em_casa: integer (nullable = true)\n",
            " |-- Adolescente_em_casa: integer (nullable = true)\n",
            " |-- Dt_Cliente: string (nullable = true)\n",
            " |-- Recencia: integer (nullable = true)\n",
            " |-- QtdVinhos: integer (nullable = true)\n",
            " |-- QtdFrutas: integer (nullable = true)\n",
            " |-- QtdProdutosCarne: integer (nullable = true)\n",
            " |-- QtdProdutosPeixe: integer (nullable = true)\n",
            " |-- QtdProdutosDoces: integer (nullable = true)\n",
            " |-- QtdProdutosGold: integer (nullable = true)\n",
            " |-- NumOfertasDeCompra: integer (nullable = true)\n",
            " |-- NumOfertasWeb: integer (nullable = true)\n",
            " |-- NumOfertasCatalogo: integer (nullable = true)\n",
            " |-- NumComprasNaLoja: integer (nullable = true)\n",
            " |-- NumVisitasWebMes: integer (nullable = true)\n",
            " |-- Cmp3Aceito: integer (nullable = true)\n",
            " |-- Cmp4Aceito: integer (nullable = true)\n",
            " |-- Cmp5Aceito: integer (nullable = true)\n",
            " |-- Cmp1Aceito: integer (nullable = true)\n",
            " |-- Cmp2Aceito: integer (nullable = true)\n",
            " |-- Reclamacoes: integer (nullable = true)\n",
            " |-- Resposta: integer (nullable = true)\n",
            "\n"
          ]
        }
      ]
    },
    {
      "cell_type": "markdown",
      "metadata": {
        "id": "MC2X7p0YZtd5"
      },
      "source": [
        "# StructType"
      ]
    },
    {
      "cell_type": "code",
      "metadata": {
        "id": "WfhRSCIlVqWT"
      },
      "source": [
        "schema = StructType() \\\n",
        "      .add(\"_c0\",IntegerType(),True) \\\n",
        "      .add(\"ID\",IntegerType(),True) \\\n",
        "      .add(\"Ano_nascimento\",IntegerType(),True) \\\n",
        "      .add(\"Educacao\",StringType(),True) \\\n",
        "      .add(\"Estado_civil\",StringType(),True) \\\n",
        "      .add(\"Renda\",FloatType(),True) \\\n",
        "      .add(\"Crianca_em_casa\",IntegerType(),True) \\\n",
        "      .add(\"Adolescente_em_casa\",IntegerType(),True) \\\n",
        "      .add(\"Dt_Cliente\",StringType(),True) \\\n",
        "      .add(\"Recencia\",IntegerType(),True) \\\n",
        "      .add(\"QtdVinhos\",IntegerType(),True) \\\n",
        "      .add(\"QtdFrutas\",IntegerType(),True) \\\n",
        "      .add(\"QtdProdutosCarne\",IntegerType(),True) \\\n",
        "      .add(\"QtdProdutosPeixe\",IntegerType(),True) \\\n",
        "      .add(\"QtdProdutosDoces\",IntegerType(),True) \\\n",
        "      .add(\"QtdProdutosGold\",IntegerType(),True) \\\n",
        "      .add(\"NumOfertasDeCompra\",IntegerType(),True) \\\n",
        "      .add(\"NumOfertasWeb\",IntegerType(),True) \\\n",
        "      .add(\"NumOfertasCatalogo\",IntegerType(),True) \\\n",
        "      .add(\"NumComprasNaLoja\",IntegerType(),True) \\\n",
        "      .add(\"NumVisitasWebMes\",IntegerType(),True) \\\n",
        "      .add(\"Cmp3Aceito\",IntegerType(),True) \\\n",
        "      .add(\"Cmp4Aceito\",IntegerType(),True) \\\n",
        "      .add(\"Cmp5Aceito\",IntegerType(),True) \\\n",
        "      .add(\"Cmp1Aceito\",IntegerType(),True) \\\n",
        "      .add(\"Cmp2Aceito\",IntegerType(),True) \\\n",
        "      .add(\"Reclamacoes\",IntegerType(),True) \\\n",
        "      .add(\"Resposta\",IntegerType(),True)\n",
        "\n",
        "df_with_schema = spark.read.format(\"csv\") \\\n",
        "      .option(\"header\", True) \\\n",
        "      .schema(schema) \\\n",
        "      .load(\"/content/marketing_campaign_tratado.csv\")"
      ],
      "execution_count": 69,
      "outputs": []
    },
    {
      "cell_type": "code",
      "metadata": {
        "colab": {
          "base_uri": "https://localhost:8080/"
        },
        "id": "mUXBZAYba2zl",
        "outputId": "5ecc1e2e-8fa2-4fb8-b85f-83ee39688a18"
      },
      "source": [
        "df_with_schema.show()"
      ],
      "execution_count": 70,
      "outputs": [
        {
          "output_type": "stream",
          "name": "stdout",
          "text": [
            "+---+----+--------------+---------+------------+---------+---------------+-------------------+----------+--------+---------+---------+----------------+----------------+----------------+---------------+------------------+-------------+------------------+----------------+----------------+----------+----------+----------+----------+----------+-----------+--------+\n",
            "|_c0|  ID|Ano_nascimento| Educacao|Estado_civil|    Renda|Crianca_em_casa|Adolescente_em_casa|Dt_Cliente|Recencia|QtdVinhos|QtdFrutas|QtdProdutosCarne|QtdProdutosPeixe|QtdProdutosDoces|QtdProdutosGold|NumOfertasDeCompra|NumOfertasWeb|NumOfertasCatalogo|NumComprasNaLoja|NumVisitasWebMes|Cmp3Aceito|Cmp4Aceito|Cmp5Aceito|Cmp1Aceito|Cmp2Aceito|Reclamacoes|Resposta|\n",
            "+---+----+--------------+---------+------------+---------+---------------+-------------------+----------+--------+---------+---------+----------------+----------------+----------------+---------------+------------------+-------------+------------------+----------------+----------------+----------+----------+----------+----------+----------+-----------+--------+\n",
            "|  0|5524|          1957|Graduação|    Solteiro|  58138.0|              0|                  0|2012-09-04|      58|      635|       88|             546|             172|              88|             88|                 3|            8|                10|               4|               7|         0|         0|         0|         0|         0|          0|       1|\n",
            "|  1|2174|          1954|Graduação|    Solteiro|  46344.0|              1|                  1|2014-03-08|      38|       11|        1|               6|               2|               1|              6|                 2|            1|                 1|               2|               5|         0|         0|         0|         0|         0|          0|       0|\n",
            "|  2|4141|          1965|Graduação|       Junto|  71613.0|              0|                  0|2013-08-21|      26|      426|       49|             127|             111|              21|             42|                 1|            8|                 2|              10|               4|         0|         0|         0|         0|         0|          0|       0|\n",
            "|  3|6182|          1984|Graduação|       Junto|  26646.0|              1|                  0|2014-02-10|      26|       11|        4|              20|              10|               3|              5|                 2|            2|                 0|               4|               6|         0|         0|         0|         0|         0|          0|       0|\n",
            "|  4|5324|          1981|      PhD|      Casado|  58293.0|              1|                  0|2014-01-19|      94|      173|       43|             118|              46|              27|             15|                 5|            5|                 3|               6|               5|         0|         0|         0|         0|         0|          0|       0|\n",
            "|  5|7446|          1967| Mestrado|       Junto|  62513.0|              0|                  1|2013-09-09|      16|      520|       42|              98|               0|              42|             14|                 2|            6|                 4|              10|               6|         0|         0|         0|         0|         0|          0|       0|\n",
            "|  6| 965|          1971|Graduação|  Divorciado|  55635.0|              0|                  1|2012-11-13|      34|      235|       65|             164|              50|              49|             27|                 4|            7|                 3|               7|               6|         0|         0|         0|         0|         0|          0|       0|\n",
            "|  7|6177|          1985|      PhD|      Casado|  33454.0|              1|                  0|2013-05-08|      32|       76|       10|              56|               3|               1|             23|                 2|            4|                 0|               4|               8|         0|         0|         0|         0|         0|          0|       0|\n",
            "|  8|4855|          1974|      PhD|       Junto|  30351.0|              1|                  0|2013-06-06|      19|       14|        0|              24|               3|               3|              2|                 1|            3|                 0|               2|               9|         0|         0|         0|         0|         0|          0|       1|\n",
            "|  9|5899|          1950|      PhD|       Junto|   5648.0|              1|                  1|2014-03-13|      68|       28|        0|               6|               1|               1|             13|                 1|            1|                 0|               0|              20|         1|         0|         0|         0|         0|          0|       0|\n",
            "| 10|1994|          1983|Graduação|      Casado|30399.266|              1|                  0|2013-11-15|      11|        5|        5|               6|               0|               2|              1|                 1|            1|                 0|               2|               7|         0|         0|         0|         0|         0|          0|       0|\n",
            "| 11| 387|          1976|   Basico|      Casado|   7500.0|              0|                  0|2012-11-13|      59|        6|       16|              11|              11|               1|             16|                 1|            2|                 0|               3|               8|         0|         0|         0|         0|         0|          0|       0|\n",
            "| 12|2125|          1959|Graduação|  Divorciado|  63033.0|              0|                  0|2013-11-15|      82|      194|       61|             480|             225|             112|             30|                 1|            3|                 4|               8|               2|         0|         0|         0|         0|         0|          0|       0|\n",
            "| 13|8180|          1952| Mestrado|  Divorciado|  59354.0|              1|                  1|2013-11-15|      53|      233|        2|              53|               3|               5|             14|                 3|            6|                 1|               5|               6|         0|         0|         0|         0|         0|          0|       0|\n",
            "| 14|2569|          1987|Graduação|      Casado|  17323.0|              0|                  0|2012-10-10|      38|        3|       14|              17|               6|               1|              5|                 1|            1|                 0|               3|               8|         0|         0|         0|         0|         0|          0|       0|\n",
            "| 15|2114|          1946|      PhD|    Solteiro|  82800.0|              0|                  0|2012-11-24|      23|     1006|       22|             115|              59|              68|             45|                 1|            7|                 6|              12|               3|         0|         0|         1|         1|         0|          0|       1|\n",
            "| 16|9736|          1980|Graduação|      Casado|  41850.0|              1|                  1|2012-12-24|      51|       53|        5|              19|               2|              13|              4|                 3|            3|                 0|               3|               8|         0|         0|         0|         0|         0|          0|       0|\n",
            "| 17|4939|          1946|Graduação|       Junto|  37760.0|              0|                  0|2012-08-31|      20|       84|        5|              38|             150|              12|             28|                 2|            4|                 1|               6|               7|         0|         0|         0|         0|         0|          0|       0|\n",
            "| 18|6565|          1949| Mestrado|      Casado|  76995.0|              0|                  1|2013-03-28|      91|     1012|       80|             498|               0|              16|            176|                 2|           11|                 4|               9|               5|         0|         0|         0|         1|         0|          0|       0|\n",
            "| 19|2278|          1985|2nd Ciclo|    Solteiro|  33812.0|              1|                  0|2012-11-03|      86|        4|       17|              19|              30|              24|             39|                 2|            2|                 1|               3|               6|         0|         0|         0|         0|         0|          0|       0|\n",
            "+---+----+--------------+---------+------------+---------+---------------+-------------------+----------+--------+---------+---------+----------------+----------------+----------------+---------------+------------------+-------------+------------------+----------------+----------------+----------+----------+----------+----------+----------+-----------+--------+\n",
            "only showing top 20 rows\n",
            "\n"
          ]
        }
      ]
    },
    {
      "cell_type": "code",
      "metadata": {
        "colab": {
          "base_uri": "https://localhost:8080/"
        },
        "id": "OPvHjGw7a5wH",
        "outputId": "21149ef7-f19e-475b-8371-a5e411645d23"
      },
      "source": [
        "df_with_schema.printSchema()"
      ],
      "execution_count": 71,
      "outputs": [
        {
          "output_type": "stream",
          "name": "stdout",
          "text": [
            "root\n",
            " |-- _c0: integer (nullable = true)\n",
            " |-- ID: integer (nullable = true)\n",
            " |-- Ano_nascimento: integer (nullable = true)\n",
            " |-- Educacao: string (nullable = true)\n",
            " |-- Estado_civil: string (nullable = true)\n",
            " |-- Renda: float (nullable = true)\n",
            " |-- Crianca_em_casa: integer (nullable = true)\n",
            " |-- Adolescente_em_casa: integer (nullable = true)\n",
            " |-- Dt_Cliente: string (nullable = true)\n",
            " |-- Recencia: integer (nullable = true)\n",
            " |-- QtdVinhos: integer (nullable = true)\n",
            " |-- QtdFrutas: integer (nullable = true)\n",
            " |-- QtdProdutosCarne: integer (nullable = true)\n",
            " |-- QtdProdutosPeixe: integer (nullable = true)\n",
            " |-- QtdProdutosDoces: integer (nullable = true)\n",
            " |-- QtdProdutosGold: integer (nullable = true)\n",
            " |-- NumOfertasDeCompra: integer (nullable = true)\n",
            " |-- NumOfertasWeb: integer (nullable = true)\n",
            " |-- NumOfertasCatalogo: integer (nullable = true)\n",
            " |-- NumComprasNaLoja: integer (nullable = true)\n",
            " |-- NumVisitasWebMes: integer (nullable = true)\n",
            " |-- Cmp3Aceito: integer (nullable = true)\n",
            " |-- Cmp4Aceito: integer (nullable = true)\n",
            " |-- Cmp5Aceito: integer (nullable = true)\n",
            " |-- Cmp1Aceito: integer (nullable = true)\n",
            " |-- Cmp2Aceito: integer (nullable = true)\n",
            " |-- Reclamacoes: integer (nullable = true)\n",
            " |-- Resposta: integer (nullable = true)\n",
            "\n"
          ]
        }
      ]
    },
    {
      "cell_type": "markdown",
      "metadata": {
        "id": "CRTsnUlpv1AN"
      },
      "source": [
        "# Renomeando colunas"
      ]
    },
    {
      "cell_type": "code",
      "metadata": {
        "colab": {
          "base_uri": "https://localhost:8080/"
        },
        "id": "2ren_OiGvKey",
        "outputId": "fe633ef1-bd66-4d28-9502-65524092b665"
      },
      "source": [
        "df_with_schema = df_with_schema.withColumnRenamed('Educacao', 'Escolaridade').withColumnRenamed('Dt_Cliente', 'Data_Cliente')\n",
        "df_with_schema.printSchema()"
      ],
      "execution_count": 72,
      "outputs": [
        {
          "output_type": "stream",
          "name": "stdout",
          "text": [
            "root\n",
            " |-- _c0: integer (nullable = true)\n",
            " |-- ID: integer (nullable = true)\n",
            " |-- Ano_nascimento: integer (nullable = true)\n",
            " |-- Escolaridade: string (nullable = true)\n",
            " |-- Estado_civil: string (nullable = true)\n",
            " |-- Renda: float (nullable = true)\n",
            " |-- Crianca_em_casa: integer (nullable = true)\n",
            " |-- Adolescente_em_casa: integer (nullable = true)\n",
            " |-- Data_Cliente: string (nullable = true)\n",
            " |-- Recencia: integer (nullable = true)\n",
            " |-- QtdVinhos: integer (nullable = true)\n",
            " |-- QtdFrutas: integer (nullable = true)\n",
            " |-- QtdProdutosCarne: integer (nullable = true)\n",
            " |-- QtdProdutosPeixe: integer (nullable = true)\n",
            " |-- QtdProdutosDoces: integer (nullable = true)\n",
            " |-- QtdProdutosGold: integer (nullable = true)\n",
            " |-- NumOfertasDeCompra: integer (nullable = true)\n",
            " |-- NumOfertasWeb: integer (nullable = true)\n",
            " |-- NumOfertasCatalogo: integer (nullable = true)\n",
            " |-- NumComprasNaLoja: integer (nullable = true)\n",
            " |-- NumVisitasWebMes: integer (nullable = true)\n",
            " |-- Cmp3Aceito: integer (nullable = true)\n",
            " |-- Cmp4Aceito: integer (nullable = true)\n",
            " |-- Cmp5Aceito: integer (nullable = true)\n",
            " |-- Cmp1Aceito: integer (nullable = true)\n",
            " |-- Cmp2Aceito: integer (nullable = true)\n",
            " |-- Reclamacoes: integer (nullable = true)\n",
            " |-- Resposta: integer (nullable = true)\n",
            "\n"
          ]
        }
      ]
    },
    {
      "cell_type": "code",
      "metadata": {
        "colab": {
          "base_uri": "https://localhost:8080/"
        },
        "id": "PAizO5BAwzY8",
        "outputId": "e5b8a25d-ab1f-40dc-f36a-f4be9403b457"
      },
      "source": [
        "df_with_schema.show()"
      ],
      "execution_count": 73,
      "outputs": [
        {
          "output_type": "stream",
          "name": "stdout",
          "text": [
            "+---+----+--------------+------------+------------+---------+---------------+-------------------+------------+--------+---------+---------+----------------+----------------+----------------+---------------+------------------+-------------+------------------+----------------+----------------+----------+----------+----------+----------+----------+-----------+--------+\n",
            "|_c0|  ID|Ano_nascimento|Escolaridade|Estado_civil|    Renda|Crianca_em_casa|Adolescente_em_casa|Data_Cliente|Recencia|QtdVinhos|QtdFrutas|QtdProdutosCarne|QtdProdutosPeixe|QtdProdutosDoces|QtdProdutosGold|NumOfertasDeCompra|NumOfertasWeb|NumOfertasCatalogo|NumComprasNaLoja|NumVisitasWebMes|Cmp3Aceito|Cmp4Aceito|Cmp5Aceito|Cmp1Aceito|Cmp2Aceito|Reclamacoes|Resposta|\n",
            "+---+----+--------------+------------+------------+---------+---------------+-------------------+------------+--------+---------+---------+----------------+----------------+----------------+---------------+------------------+-------------+------------------+----------------+----------------+----------+----------+----------+----------+----------+-----------+--------+\n",
            "|  0|5524|          1957|   Graduação|    Solteiro|  58138.0|              0|                  0|  2012-09-04|      58|      635|       88|             546|             172|              88|             88|                 3|            8|                10|               4|               7|         0|         0|         0|         0|         0|          0|       1|\n",
            "|  1|2174|          1954|   Graduação|    Solteiro|  46344.0|              1|                  1|  2014-03-08|      38|       11|        1|               6|               2|               1|              6|                 2|            1|                 1|               2|               5|         0|         0|         0|         0|         0|          0|       0|\n",
            "|  2|4141|          1965|   Graduação|       Junto|  71613.0|              0|                  0|  2013-08-21|      26|      426|       49|             127|             111|              21|             42|                 1|            8|                 2|              10|               4|         0|         0|         0|         0|         0|          0|       0|\n",
            "|  3|6182|          1984|   Graduação|       Junto|  26646.0|              1|                  0|  2014-02-10|      26|       11|        4|              20|              10|               3|              5|                 2|            2|                 0|               4|               6|         0|         0|         0|         0|         0|          0|       0|\n",
            "|  4|5324|          1981|         PhD|      Casado|  58293.0|              1|                  0|  2014-01-19|      94|      173|       43|             118|              46|              27|             15|                 5|            5|                 3|               6|               5|         0|         0|         0|         0|         0|          0|       0|\n",
            "|  5|7446|          1967|    Mestrado|       Junto|  62513.0|              0|                  1|  2013-09-09|      16|      520|       42|              98|               0|              42|             14|                 2|            6|                 4|              10|               6|         0|         0|         0|         0|         0|          0|       0|\n",
            "|  6| 965|          1971|   Graduação|  Divorciado|  55635.0|              0|                  1|  2012-11-13|      34|      235|       65|             164|              50|              49|             27|                 4|            7|                 3|               7|               6|         0|         0|         0|         0|         0|          0|       0|\n",
            "|  7|6177|          1985|         PhD|      Casado|  33454.0|              1|                  0|  2013-05-08|      32|       76|       10|              56|               3|               1|             23|                 2|            4|                 0|               4|               8|         0|         0|         0|         0|         0|          0|       0|\n",
            "|  8|4855|          1974|         PhD|       Junto|  30351.0|              1|                  0|  2013-06-06|      19|       14|        0|              24|               3|               3|              2|                 1|            3|                 0|               2|               9|         0|         0|         0|         0|         0|          0|       1|\n",
            "|  9|5899|          1950|         PhD|       Junto|   5648.0|              1|                  1|  2014-03-13|      68|       28|        0|               6|               1|               1|             13|                 1|            1|                 0|               0|              20|         1|         0|         0|         0|         0|          0|       0|\n",
            "| 10|1994|          1983|   Graduação|      Casado|30399.266|              1|                  0|  2013-11-15|      11|        5|        5|               6|               0|               2|              1|                 1|            1|                 0|               2|               7|         0|         0|         0|         0|         0|          0|       0|\n",
            "| 11| 387|          1976|      Basico|      Casado|   7500.0|              0|                  0|  2012-11-13|      59|        6|       16|              11|              11|               1|             16|                 1|            2|                 0|               3|               8|         0|         0|         0|         0|         0|          0|       0|\n",
            "| 12|2125|          1959|   Graduação|  Divorciado|  63033.0|              0|                  0|  2013-11-15|      82|      194|       61|             480|             225|             112|             30|                 1|            3|                 4|               8|               2|         0|         0|         0|         0|         0|          0|       0|\n",
            "| 13|8180|          1952|    Mestrado|  Divorciado|  59354.0|              1|                  1|  2013-11-15|      53|      233|        2|              53|               3|               5|             14|                 3|            6|                 1|               5|               6|         0|         0|         0|         0|         0|          0|       0|\n",
            "| 14|2569|          1987|   Graduação|      Casado|  17323.0|              0|                  0|  2012-10-10|      38|        3|       14|              17|               6|               1|              5|                 1|            1|                 0|               3|               8|         0|         0|         0|         0|         0|          0|       0|\n",
            "| 15|2114|          1946|         PhD|    Solteiro|  82800.0|              0|                  0|  2012-11-24|      23|     1006|       22|             115|              59|              68|             45|                 1|            7|                 6|              12|               3|         0|         0|         1|         1|         0|          0|       1|\n",
            "| 16|9736|          1980|   Graduação|      Casado|  41850.0|              1|                  1|  2012-12-24|      51|       53|        5|              19|               2|              13|              4|                 3|            3|                 0|               3|               8|         0|         0|         0|         0|         0|          0|       0|\n",
            "| 17|4939|          1946|   Graduação|       Junto|  37760.0|              0|                  0|  2012-08-31|      20|       84|        5|              38|             150|              12|             28|                 2|            4|                 1|               6|               7|         0|         0|         0|         0|         0|          0|       0|\n",
            "| 18|6565|          1949|    Mestrado|      Casado|  76995.0|              0|                  1|  2013-03-28|      91|     1012|       80|             498|               0|              16|            176|                 2|           11|                 4|               9|               5|         0|         0|         0|         1|         0|          0|       0|\n",
            "| 19|2278|          1985|   2nd Ciclo|    Solteiro|  33812.0|              1|                  0|  2012-11-03|      86|        4|       17|              19|              30|              24|             39|                 2|            2|                 1|               3|               6|         0|         0|         0|         0|         0|          0|       0|\n",
            "+---+----+--------------+------------+------------+---------+---------------+-------------------+------------+--------+---------+---------+----------------+----------------+----------------+---------------+------------------+-------------+------------------+----------------+----------------+----------+----------+----------+----------+----------+-----------+--------+\n",
            "only showing top 20 rows\n",
            "\n"
          ]
        }
      ]
    },
    {
      "cell_type": "markdown",
      "metadata": {
        "id": "4BAh_QwBxe-W"
      },
      "source": [
        "# Criando novas colunas"
      ]
    },
    {
      "cell_type": "code",
      "metadata": {
        "id": "ROgTfu5pFfur"
      },
      "source": [
        "Ano_atual = 2021"
      ],
      "execution_count": 100,
      "outputs": []
    },
    {
      "cell_type": "code",
      "metadata": {
        "id": "ZT9AQ3uTw2Wz",
        "colab": {
          "base_uri": "https://localhost:8080/"
        },
        "outputId": "f13f5733-4dbb-40c3-982e-98c32d4f3985"
      },
      "source": [
        "df_with_schema_2 = df_with_schema.withColumn(\"Tem_Crianca\", F.when(F.col('Crianca_em_casa') == 1, \"Possui criança em casa\").otherwise(\"Não possui criança em casa\")).show()"
      ],
      "execution_count": 74,
      "outputs": [
        {
          "output_type": "stream",
          "name": "stdout",
          "text": [
            "+---+----+--------------+------------+------------+---------+---------------+-------------------+------------+--------+---------+---------+----------------+----------------+----------------+---------------+------------------+-------------+------------------+----------------+----------------+----------+----------+----------+----------+----------+-----------+--------+--------------------+\n",
            "|_c0|  ID|Ano_nascimento|Escolaridade|Estado_civil|    Renda|Crianca_em_casa|Adolescente_em_casa|Data_Cliente|Recencia|QtdVinhos|QtdFrutas|QtdProdutosCarne|QtdProdutosPeixe|QtdProdutosDoces|QtdProdutosGold|NumOfertasDeCompra|NumOfertasWeb|NumOfertasCatalogo|NumComprasNaLoja|NumVisitasWebMes|Cmp3Aceito|Cmp4Aceito|Cmp5Aceito|Cmp1Aceito|Cmp2Aceito|Reclamacoes|Resposta|         Tem_Crianca|\n",
            "+---+----+--------------+------------+------------+---------+---------------+-------------------+------------+--------+---------+---------+----------------+----------------+----------------+---------------+------------------+-------------+------------------+----------------+----------------+----------+----------+----------+----------+----------+-----------+--------+--------------------+\n",
            "|  0|5524|          1957|   Graduação|    Solteiro|  58138.0|              0|                  0|  2012-09-04|      58|      635|       88|             546|             172|              88|             88|                 3|            8|                10|               4|               7|         0|         0|         0|         0|         0|          0|       1|Não possui crianç...|\n",
            "|  1|2174|          1954|   Graduação|    Solteiro|  46344.0|              1|                  1|  2014-03-08|      38|       11|        1|               6|               2|               1|              6|                 2|            1|                 1|               2|               5|         0|         0|         0|         0|         0|          0|       0|Possui criança em...|\n",
            "|  2|4141|          1965|   Graduação|       Junto|  71613.0|              0|                  0|  2013-08-21|      26|      426|       49|             127|             111|              21|             42|                 1|            8|                 2|              10|               4|         0|         0|         0|         0|         0|          0|       0|Não possui crianç...|\n",
            "|  3|6182|          1984|   Graduação|       Junto|  26646.0|              1|                  0|  2014-02-10|      26|       11|        4|              20|              10|               3|              5|                 2|            2|                 0|               4|               6|         0|         0|         0|         0|         0|          0|       0|Possui criança em...|\n",
            "|  4|5324|          1981|         PhD|      Casado|  58293.0|              1|                  0|  2014-01-19|      94|      173|       43|             118|              46|              27|             15|                 5|            5|                 3|               6|               5|         0|         0|         0|         0|         0|          0|       0|Possui criança em...|\n",
            "|  5|7446|          1967|    Mestrado|       Junto|  62513.0|              0|                  1|  2013-09-09|      16|      520|       42|              98|               0|              42|             14|                 2|            6|                 4|              10|               6|         0|         0|         0|         0|         0|          0|       0|Não possui crianç...|\n",
            "|  6| 965|          1971|   Graduação|  Divorciado|  55635.0|              0|                  1|  2012-11-13|      34|      235|       65|             164|              50|              49|             27|                 4|            7|                 3|               7|               6|         0|         0|         0|         0|         0|          0|       0|Não possui crianç...|\n",
            "|  7|6177|          1985|         PhD|      Casado|  33454.0|              1|                  0|  2013-05-08|      32|       76|       10|              56|               3|               1|             23|                 2|            4|                 0|               4|               8|         0|         0|         0|         0|         0|          0|       0|Possui criança em...|\n",
            "|  8|4855|          1974|         PhD|       Junto|  30351.0|              1|                  0|  2013-06-06|      19|       14|        0|              24|               3|               3|              2|                 1|            3|                 0|               2|               9|         0|         0|         0|         0|         0|          0|       1|Possui criança em...|\n",
            "|  9|5899|          1950|         PhD|       Junto|   5648.0|              1|                  1|  2014-03-13|      68|       28|        0|               6|               1|               1|             13|                 1|            1|                 0|               0|              20|         1|         0|         0|         0|         0|          0|       0|Possui criança em...|\n",
            "| 10|1994|          1983|   Graduação|      Casado|30399.266|              1|                  0|  2013-11-15|      11|        5|        5|               6|               0|               2|              1|                 1|            1|                 0|               2|               7|         0|         0|         0|         0|         0|          0|       0|Possui criança em...|\n",
            "| 11| 387|          1976|      Basico|      Casado|   7500.0|              0|                  0|  2012-11-13|      59|        6|       16|              11|              11|               1|             16|                 1|            2|                 0|               3|               8|         0|         0|         0|         0|         0|          0|       0|Não possui crianç...|\n",
            "| 12|2125|          1959|   Graduação|  Divorciado|  63033.0|              0|                  0|  2013-11-15|      82|      194|       61|             480|             225|             112|             30|                 1|            3|                 4|               8|               2|         0|         0|         0|         0|         0|          0|       0|Não possui crianç...|\n",
            "| 13|8180|          1952|    Mestrado|  Divorciado|  59354.0|              1|                  1|  2013-11-15|      53|      233|        2|              53|               3|               5|             14|                 3|            6|                 1|               5|               6|         0|         0|         0|         0|         0|          0|       0|Possui criança em...|\n",
            "| 14|2569|          1987|   Graduação|      Casado|  17323.0|              0|                  0|  2012-10-10|      38|        3|       14|              17|               6|               1|              5|                 1|            1|                 0|               3|               8|         0|         0|         0|         0|         0|          0|       0|Não possui crianç...|\n",
            "| 15|2114|          1946|         PhD|    Solteiro|  82800.0|              0|                  0|  2012-11-24|      23|     1006|       22|             115|              59|              68|             45|                 1|            7|                 6|              12|               3|         0|         0|         1|         1|         0|          0|       1|Não possui crianç...|\n",
            "| 16|9736|          1980|   Graduação|      Casado|  41850.0|              1|                  1|  2012-12-24|      51|       53|        5|              19|               2|              13|              4|                 3|            3|                 0|               3|               8|         0|         0|         0|         0|         0|          0|       0|Possui criança em...|\n",
            "| 17|4939|          1946|   Graduação|       Junto|  37760.0|              0|                  0|  2012-08-31|      20|       84|        5|              38|             150|              12|             28|                 2|            4|                 1|               6|               7|         0|         0|         0|         0|         0|          0|       0|Não possui crianç...|\n",
            "| 18|6565|          1949|    Mestrado|      Casado|  76995.0|              0|                  1|  2013-03-28|      91|     1012|       80|             498|               0|              16|            176|                 2|           11|                 4|               9|               5|         0|         0|         0|         1|         0|          0|       0|Não possui crianç...|\n",
            "| 19|2278|          1985|   2nd Ciclo|    Solteiro|  33812.0|              1|                  0|  2012-11-03|      86|        4|       17|              19|              30|              24|             39|                 2|            2|                 1|               3|               6|         0|         0|         0|         0|         0|          0|       0|Possui criança em...|\n",
            "+---+----+--------------+------------+------------+---------+---------------+-------------------+------------+--------+---------+---------+----------------+----------------+----------------+---------------+------------------+-------------+------------------+----------------+----------------+----------+----------+----------+----------+----------+-----------+--------+--------------------+\n",
            "only showing top 20 rows\n",
            "\n"
          ]
        }
      ]
    },
    {
      "cell_type": "code",
      "metadata": {
        "colab": {
          "base_uri": "https://localhost:8080/"
        },
        "id": "CHA2jzMW0elq",
        "outputId": "e83e73ad-3dd5-43a4-fb4a-604fe54bf2a0"
      },
      "source": [
        "from pyspark.sql.functions import when\n",
        "df_with_schema_3 = (df_with_schema.withColumn(\"Recencia_medida\", when(df_with_schema.Recencia <= 30, 5)\n",
        "                                                    .when(df_with_schema.Recencia <= 31, 4)\n",
        "                                                    .when(df_with_schema.Recencia >= 60, 4)\n",
        "                                                    .when(df_with_schema.Recencia <= 61, 3)\n",
        "                                                    .when(df_with_schema.Recencia >= 120, 3)\n",
        "                                                    .when(df_with_schema.Recencia <= 121, 2)\n",
        "                                                    .when(df_with_schema.Recencia >= 180, 2)\n",
        "                                                    .when(df_with_schema.Recencia <= 181, 1)\n",
        "                                                    .when(df_with_schema.Recencia >= 160, 1) ))\n",
        "df_with_schema_3.show()"
      ],
      "execution_count": 89,
      "outputs": [
        {
          "output_type": "stream",
          "name": "stdout",
          "text": [
            "+---+----+--------------+------------+------------+---------+---------------+-------------------+------------+--------+---------+---------+----------------+----------------+----------------+---------------+------------------+-------------+------------------+----------------+----------------+----------+----------+----------+----------+----------+-----------+--------+---------------+\n",
            "|_c0|  ID|Ano_nascimento|Escolaridade|Estado_civil|    Renda|Crianca_em_casa|Adolescente_em_casa|Data_Cliente|Recencia|QtdVinhos|QtdFrutas|QtdProdutosCarne|QtdProdutosPeixe|QtdProdutosDoces|QtdProdutosGold|NumOfertasDeCompra|NumOfertasWeb|NumOfertasCatalogo|NumComprasNaLoja|NumVisitasWebMes|Cmp3Aceito|Cmp4Aceito|Cmp5Aceito|Cmp1Aceito|Cmp2Aceito|Reclamacoes|Resposta|Recencia_medida|\n",
            "+---+----+--------------+------------+------------+---------+---------------+-------------------+------------+--------+---------+---------+----------------+----------------+----------------+---------------+------------------+-------------+------------------+----------------+----------------+----------+----------+----------+----------+----------+-----------+--------+---------------+\n",
            "|  0|5524|          1957|   Graduação|    Solteiro|  58138.0|              0|                  0|  2012-09-04|      58|      635|       88|             546|             172|              88|             88|                 3|            8|                10|               4|               7|         0|         0|         0|         0|         0|          0|       1|              3|\n",
            "|  1|2174|          1954|   Graduação|    Solteiro|  46344.0|              1|                  1|  2014-03-08|      38|       11|        1|               6|               2|               1|              6|                 2|            1|                 1|               2|               5|         0|         0|         0|         0|         0|          0|       0|              3|\n",
            "|  2|4141|          1965|   Graduação|       Junto|  71613.0|              0|                  0|  2013-08-21|      26|      426|       49|             127|             111|              21|             42|                 1|            8|                 2|              10|               4|         0|         0|         0|         0|         0|          0|       0|              5|\n",
            "|  3|6182|          1984|   Graduação|       Junto|  26646.0|              1|                  0|  2014-02-10|      26|       11|        4|              20|              10|               3|              5|                 2|            2|                 0|               4|               6|         0|         0|         0|         0|         0|          0|       0|              5|\n",
            "|  4|5324|          1981|         PhD|      Casado|  58293.0|              1|                  0|  2014-01-19|      94|      173|       43|             118|              46|              27|             15|                 5|            5|                 3|               6|               5|         0|         0|         0|         0|         0|          0|       0|              4|\n",
            "|  5|7446|          1967|    Mestrado|       Junto|  62513.0|              0|                  1|  2013-09-09|      16|      520|       42|              98|               0|              42|             14|                 2|            6|                 4|              10|               6|         0|         0|         0|         0|         0|          0|       0|              5|\n",
            "|  6| 965|          1971|   Graduação|  Divorciado|  55635.0|              0|                  1|  2012-11-13|      34|      235|       65|             164|              50|              49|             27|                 4|            7|                 3|               7|               6|         0|         0|         0|         0|         0|          0|       0|              3|\n",
            "|  7|6177|          1985|         PhD|      Casado|  33454.0|              1|                  0|  2013-05-08|      32|       76|       10|              56|               3|               1|             23|                 2|            4|                 0|               4|               8|         0|         0|         0|         0|         0|          0|       0|              3|\n",
            "|  8|4855|          1974|         PhD|       Junto|  30351.0|              1|                  0|  2013-06-06|      19|       14|        0|              24|               3|               3|              2|                 1|            3|                 0|               2|               9|         0|         0|         0|         0|         0|          0|       1|              5|\n",
            "|  9|5899|          1950|         PhD|       Junto|   5648.0|              1|                  1|  2014-03-13|      68|       28|        0|               6|               1|               1|             13|                 1|            1|                 0|               0|              20|         1|         0|         0|         0|         0|          0|       0|              4|\n",
            "| 10|1994|          1983|   Graduação|      Casado|30399.266|              1|                  0|  2013-11-15|      11|        5|        5|               6|               0|               2|              1|                 1|            1|                 0|               2|               7|         0|         0|         0|         0|         0|          0|       0|              5|\n",
            "| 11| 387|          1976|      Basico|      Casado|   7500.0|              0|                  0|  2012-11-13|      59|        6|       16|              11|              11|               1|             16|                 1|            2|                 0|               3|               8|         0|         0|         0|         0|         0|          0|       0|              3|\n",
            "| 12|2125|          1959|   Graduação|  Divorciado|  63033.0|              0|                  0|  2013-11-15|      82|      194|       61|             480|             225|             112|             30|                 1|            3|                 4|               8|               2|         0|         0|         0|         0|         0|          0|       0|              4|\n",
            "| 13|8180|          1952|    Mestrado|  Divorciado|  59354.0|              1|                  1|  2013-11-15|      53|      233|        2|              53|               3|               5|             14|                 3|            6|                 1|               5|               6|         0|         0|         0|         0|         0|          0|       0|              3|\n",
            "| 14|2569|          1987|   Graduação|      Casado|  17323.0|              0|                  0|  2012-10-10|      38|        3|       14|              17|               6|               1|              5|                 1|            1|                 0|               3|               8|         0|         0|         0|         0|         0|          0|       0|              3|\n",
            "| 15|2114|          1946|         PhD|    Solteiro|  82800.0|              0|                  0|  2012-11-24|      23|     1006|       22|             115|              59|              68|             45|                 1|            7|                 6|              12|               3|         0|         0|         1|         1|         0|          0|       1|              5|\n",
            "| 16|9736|          1980|   Graduação|      Casado|  41850.0|              1|                  1|  2012-12-24|      51|       53|        5|              19|               2|              13|              4|                 3|            3|                 0|               3|               8|         0|         0|         0|         0|         0|          0|       0|              3|\n",
            "| 17|4939|          1946|   Graduação|       Junto|  37760.0|              0|                  0|  2012-08-31|      20|       84|        5|              38|             150|              12|             28|                 2|            4|                 1|               6|               7|         0|         0|         0|         0|         0|          0|       0|              5|\n",
            "| 18|6565|          1949|    Mestrado|      Casado|  76995.0|              0|                  1|  2013-03-28|      91|     1012|       80|             498|               0|              16|            176|                 2|           11|                 4|               9|               5|         0|         0|         0|         1|         0|          0|       0|              4|\n",
            "| 19|2278|          1985|   2nd Ciclo|    Solteiro|  33812.0|              1|                  0|  2012-11-03|      86|        4|       17|              19|              30|              24|             39|                 2|            2|                 1|               3|               6|         0|         0|         0|         0|         0|          0|       0|              4|\n",
            "+---+----+--------------+------------+------------+---------+---------------+-------------------+------------+--------+---------+---------+----------------+----------------+----------------+---------------+------------------+-------------+------------------+----------------+----------------+----------+----------+----------+----------+----------+-----------+--------+---------------+\n",
            "only showing top 20 rows\n",
            "\n"
          ]
        }
      ]
    },
    {
      "cell_type": "code",
      "metadata": {
        "colab": {
          "base_uri": "https://localhost:8080/"
        },
        "id": "Tkr948QXFpjK",
        "outputId": "b4fd5179-8158-4276-f18d-3f5d8c1bba12"
      },
      "source": [
        "df_with_schema_4 = df_with_schema.withColumn(\"Idade\", Ano_atual - F.col(\"Ano_nascimento\"))\n",
        "\n",
        "df_with_schema_4.show()"
      ],
      "execution_count": 101,
      "outputs": [
        {
          "output_type": "stream",
          "name": "stdout",
          "text": [
            "+---+----+--------------+------------+------------+---------+---------------+-------------------+------------+--------+---------+---------+----------------+----------------+----------------+---------------+------------------+-------------+------------------+----------------+----------------+----------+----------+----------+----------+----------+-----------+--------+---------------+--------------------+-----+\n",
            "|_c0|  ID|Ano_nascimento|Escolaridade|Estado_civil|    Renda|Crianca_em_casa|Adolescente_em_casa|Data_Cliente|Recencia|QtdVinhos|QtdFrutas|QtdProdutosCarne|QtdProdutosPeixe|QtdProdutosDoces|QtdProdutosGold|NumOfertasDeCompra|NumOfertasWeb|NumOfertasCatalogo|NumComprasNaLoja|NumVisitasWebMes|Cmp3Aceito|Cmp4Aceito|Cmp5Aceito|Cmp1Aceito|Cmp2Aceito|Reclamacoes|Resposta|Recencia_medida|         Tem_Crianca|Idade|\n",
            "+---+----+--------------+------------+------------+---------+---------------+-------------------+------------+--------+---------+---------+----------------+----------------+----------------+---------------+------------------+-------------+------------------+----------------+----------------+----------+----------+----------+----------+----------+-----------+--------+---------------+--------------------+-----+\n",
            "|  0|5524|          1957|   Graduação|    Solteiro|  58138.0|              0|                  0|  2012-09-04|      58|      635|       88|             546|             172|              88|             88|                 3|            8|                10|               4|               7|         0|         0|         0|         0|         0|          0|       1|              3|Não possui crianç...|   64|\n",
            "|  1|2174|          1954|   Graduação|    Solteiro|  46344.0|              1|                  1|  2014-03-08|      38|       11|        1|               6|               2|               1|              6|                 2|            1|                 1|               2|               5|         0|         0|         0|         0|         0|          0|       0|              3|Possui criança em...|   67|\n",
            "|  2|4141|          1965|   Graduação|       Junto|  71613.0|              0|                  0|  2013-08-21|      26|      426|       49|             127|             111|              21|             42|                 1|            8|                 2|              10|               4|         0|         0|         0|         0|         0|          0|       0|              5|Não possui crianç...|   56|\n",
            "|  3|6182|          1984|   Graduação|       Junto|  26646.0|              1|                  0|  2014-02-10|      26|       11|        4|              20|              10|               3|              5|                 2|            2|                 0|               4|               6|         0|         0|         0|         0|         0|          0|       0|              5|Possui criança em...|   37|\n",
            "|  4|5324|          1981|         PhD|      Casado|  58293.0|              1|                  0|  2014-01-19|      94|      173|       43|             118|              46|              27|             15|                 5|            5|                 3|               6|               5|         0|         0|         0|         0|         0|          0|       0|              4|Possui criança em...|   40|\n",
            "|  5|7446|          1967|    Mestrado|       Junto|  62513.0|              0|                  1|  2013-09-09|      16|      520|       42|              98|               0|              42|             14|                 2|            6|                 4|              10|               6|         0|         0|         0|         0|         0|          0|       0|              5|Não possui crianç...|   54|\n",
            "|  6| 965|          1971|   Graduação|  Divorciado|  55635.0|              0|                  1|  2012-11-13|      34|      235|       65|             164|              50|              49|             27|                 4|            7|                 3|               7|               6|         0|         0|         0|         0|         0|          0|       0|              3|Não possui crianç...|   50|\n",
            "|  7|6177|          1985|         PhD|      Casado|  33454.0|              1|                  0|  2013-05-08|      32|       76|       10|              56|               3|               1|             23|                 2|            4|                 0|               4|               8|         0|         0|         0|         0|         0|          0|       0|              3|Possui criança em...|   36|\n",
            "|  8|4855|          1974|         PhD|       Junto|  30351.0|              1|                  0|  2013-06-06|      19|       14|        0|              24|               3|               3|              2|                 1|            3|                 0|               2|               9|         0|         0|         0|         0|         0|          0|       1|              5|Possui criança em...|   47|\n",
            "|  9|5899|          1950|         PhD|       Junto|   5648.0|              1|                  1|  2014-03-13|      68|       28|        0|               6|               1|               1|             13|                 1|            1|                 0|               0|              20|         1|         0|         0|         0|         0|          0|       0|              4|Possui criança em...|   71|\n",
            "| 10|1994|          1983|   Graduação|      Casado|30399.266|              1|                  0|  2013-11-15|      11|        5|        5|               6|               0|               2|              1|                 1|            1|                 0|               2|               7|         0|         0|         0|         0|         0|          0|       0|              5|Possui criança em...|   38|\n",
            "| 11| 387|          1976|      Basico|      Casado|   7500.0|              0|                  0|  2012-11-13|      59|        6|       16|              11|              11|               1|             16|                 1|            2|                 0|               3|               8|         0|         0|         0|         0|         0|          0|       0|              3|Não possui crianç...|   45|\n",
            "| 12|2125|          1959|   Graduação|  Divorciado|  63033.0|              0|                  0|  2013-11-15|      82|      194|       61|             480|             225|             112|             30|                 1|            3|                 4|               8|               2|         0|         0|         0|         0|         0|          0|       0|              4|Não possui crianç...|   62|\n",
            "| 13|8180|          1952|    Mestrado|  Divorciado|  59354.0|              1|                  1|  2013-11-15|      53|      233|        2|              53|               3|               5|             14|                 3|            6|                 1|               5|               6|         0|         0|         0|         0|         0|          0|       0|              3|Possui criança em...|   69|\n",
            "| 14|2569|          1987|   Graduação|      Casado|  17323.0|              0|                  0|  2012-10-10|      38|        3|       14|              17|               6|               1|              5|                 1|            1|                 0|               3|               8|         0|         0|         0|         0|         0|          0|       0|              3|Não possui crianç...|   34|\n",
            "| 15|2114|          1946|         PhD|    Solteiro|  82800.0|              0|                  0|  2012-11-24|      23|     1006|       22|             115|              59|              68|             45|                 1|            7|                 6|              12|               3|         0|         0|         1|         1|         0|          0|       1|              5|Não possui crianç...|   75|\n",
            "| 16|9736|          1980|   Graduação|      Casado|  41850.0|              1|                  1|  2012-12-24|      51|       53|        5|              19|               2|              13|              4|                 3|            3|                 0|               3|               8|         0|         0|         0|         0|         0|          0|       0|              3|Possui criança em...|   41|\n",
            "| 17|4939|          1946|   Graduação|       Junto|  37760.0|              0|                  0|  2012-08-31|      20|       84|        5|              38|             150|              12|             28|                 2|            4|                 1|               6|               7|         0|         0|         0|         0|         0|          0|       0|              5|Não possui crianç...|   75|\n",
            "| 18|6565|          1949|    Mestrado|      Casado|  76995.0|              0|                  1|  2013-03-28|      91|     1012|       80|             498|               0|              16|            176|                 2|           11|                 4|               9|               5|         0|         0|         0|         1|         0|          0|       0|              4|Não possui crianç...|   72|\n",
            "| 19|2278|          1985|   2nd Ciclo|    Solteiro|  33812.0|              1|                  0|  2012-11-03|      86|        4|       17|              19|              30|              24|             39|                 2|            2|                 1|               3|               6|         0|         0|         0|         0|         0|          0|       0|              4|Possui criança em...|   36|\n",
            "+---+----+--------------+------------+------------+---------+---------------+-------------------+------------+--------+---------+---------+----------------+----------------+----------------+---------------+------------------+-------------+------------------+----------------+----------------+----------+----------+----------+----------+----------+-----------+--------+---------------+--------------------+-----+\n",
            "only showing top 20 rows\n",
            "\n"
          ]
        }
      ]
    },
    {
      "cell_type": "code",
      "metadata": {
        "id": "pAbKT6qDDLCy"
      },
      "source": [
        "df_with_schema = (df_with_schema.withColumn(\"Recencia_medida\", when(df_with_schema.Recencia <= 30, 5)\n",
        "                                                    .when(df_with_schema.Recencia <= 31, 4)\n",
        "                                                    .when(df_with_schema.Recencia >= 60, 4)\n",
        "                                                    .when(df_with_schema.Recencia <= 61, 3)\n",
        "                                                    .when(df_with_schema.Recencia >= 120, 3)\n",
        "                                                    .when(df_with_schema.Recencia <= 121, 2)\n",
        "                                                    .when(df_with_schema.Recencia >= 180, 2)\n",
        "                                                    .when(df_with_schema.Recencia <= 181, 1)\n",
        "                                                    .when(df_with_schema.Recencia >= 160, 1) ))"
      ],
      "execution_count": 90,
      "outputs": []
    },
    {
      "cell_type": "code",
      "metadata": {
        "id": "W2X1Yp1MDVz0"
      },
      "source": [
        "df_with_schema = df_with_schema.withColumn(\"Tem_Crianca\", F.when(F.col('Crianca_em_casa') == 1, \"Possui criança em casa\").otherwise(\"Não possui criança em casa\"))"
      ],
      "execution_count": 92,
      "outputs": []
    },
    {
      "cell_type": "code",
      "metadata": {
        "colab": {
          "base_uri": "https://localhost:8080/"
        },
        "id": "DwXnkXKUDN74",
        "outputId": "9e0e8d74-e742-4341-b51f-4aaab5da8cf6"
      },
      "source": [
        "df_with_schema.show()"
      ],
      "execution_count": 93,
      "outputs": [
        {
          "output_type": "stream",
          "name": "stdout",
          "text": [
            "+---+----+--------------+------------+------------+---------+---------------+-------------------+------------+--------+---------+---------+----------------+----------------+----------------+---------------+------------------+-------------+------------------+----------------+----------------+----------+----------+----------+----------+----------+-----------+--------+---------------+--------------------+\n",
            "|_c0|  ID|Ano_nascimento|Escolaridade|Estado_civil|    Renda|Crianca_em_casa|Adolescente_em_casa|Data_Cliente|Recencia|QtdVinhos|QtdFrutas|QtdProdutosCarne|QtdProdutosPeixe|QtdProdutosDoces|QtdProdutosGold|NumOfertasDeCompra|NumOfertasWeb|NumOfertasCatalogo|NumComprasNaLoja|NumVisitasWebMes|Cmp3Aceito|Cmp4Aceito|Cmp5Aceito|Cmp1Aceito|Cmp2Aceito|Reclamacoes|Resposta|Recencia_medida|         Tem_Crianca|\n",
            "+---+----+--------------+------------+------------+---------+---------------+-------------------+------------+--------+---------+---------+----------------+----------------+----------------+---------------+------------------+-------------+------------------+----------------+----------------+----------+----------+----------+----------+----------+-----------+--------+---------------+--------------------+\n",
            "|  0|5524|          1957|   Graduação|    Solteiro|  58138.0|              0|                  0|  2012-09-04|      58|      635|       88|             546|             172|              88|             88|                 3|            8|                10|               4|               7|         0|         0|         0|         0|         0|          0|       1|              3|Não possui crianç...|\n",
            "|  1|2174|          1954|   Graduação|    Solteiro|  46344.0|              1|                  1|  2014-03-08|      38|       11|        1|               6|               2|               1|              6|                 2|            1|                 1|               2|               5|         0|         0|         0|         0|         0|          0|       0|              3|Possui criança em...|\n",
            "|  2|4141|          1965|   Graduação|       Junto|  71613.0|              0|                  0|  2013-08-21|      26|      426|       49|             127|             111|              21|             42|                 1|            8|                 2|              10|               4|         0|         0|         0|         0|         0|          0|       0|              5|Não possui crianç...|\n",
            "|  3|6182|          1984|   Graduação|       Junto|  26646.0|              1|                  0|  2014-02-10|      26|       11|        4|              20|              10|               3|              5|                 2|            2|                 0|               4|               6|         0|         0|         0|         0|         0|          0|       0|              5|Possui criança em...|\n",
            "|  4|5324|          1981|         PhD|      Casado|  58293.0|              1|                  0|  2014-01-19|      94|      173|       43|             118|              46|              27|             15|                 5|            5|                 3|               6|               5|         0|         0|         0|         0|         0|          0|       0|              4|Possui criança em...|\n",
            "|  5|7446|          1967|    Mestrado|       Junto|  62513.0|              0|                  1|  2013-09-09|      16|      520|       42|              98|               0|              42|             14|                 2|            6|                 4|              10|               6|         0|         0|         0|         0|         0|          0|       0|              5|Não possui crianç...|\n",
            "|  6| 965|          1971|   Graduação|  Divorciado|  55635.0|              0|                  1|  2012-11-13|      34|      235|       65|             164|              50|              49|             27|                 4|            7|                 3|               7|               6|         0|         0|         0|         0|         0|          0|       0|              3|Não possui crianç...|\n",
            "|  7|6177|          1985|         PhD|      Casado|  33454.0|              1|                  0|  2013-05-08|      32|       76|       10|              56|               3|               1|             23|                 2|            4|                 0|               4|               8|         0|         0|         0|         0|         0|          0|       0|              3|Possui criança em...|\n",
            "|  8|4855|          1974|         PhD|       Junto|  30351.0|              1|                  0|  2013-06-06|      19|       14|        0|              24|               3|               3|              2|                 1|            3|                 0|               2|               9|         0|         0|         0|         0|         0|          0|       1|              5|Possui criança em...|\n",
            "|  9|5899|          1950|         PhD|       Junto|   5648.0|              1|                  1|  2014-03-13|      68|       28|        0|               6|               1|               1|             13|                 1|            1|                 0|               0|              20|         1|         0|         0|         0|         0|          0|       0|              4|Possui criança em...|\n",
            "| 10|1994|          1983|   Graduação|      Casado|30399.266|              1|                  0|  2013-11-15|      11|        5|        5|               6|               0|               2|              1|                 1|            1|                 0|               2|               7|         0|         0|         0|         0|         0|          0|       0|              5|Possui criança em...|\n",
            "| 11| 387|          1976|      Basico|      Casado|   7500.0|              0|                  0|  2012-11-13|      59|        6|       16|              11|              11|               1|             16|                 1|            2|                 0|               3|               8|         0|         0|         0|         0|         0|          0|       0|              3|Não possui crianç...|\n",
            "| 12|2125|          1959|   Graduação|  Divorciado|  63033.0|              0|                  0|  2013-11-15|      82|      194|       61|             480|             225|             112|             30|                 1|            3|                 4|               8|               2|         0|         0|         0|         0|         0|          0|       0|              4|Não possui crianç...|\n",
            "| 13|8180|          1952|    Mestrado|  Divorciado|  59354.0|              1|                  1|  2013-11-15|      53|      233|        2|              53|               3|               5|             14|                 3|            6|                 1|               5|               6|         0|         0|         0|         0|         0|          0|       0|              3|Possui criança em...|\n",
            "| 14|2569|          1987|   Graduação|      Casado|  17323.0|              0|                  0|  2012-10-10|      38|        3|       14|              17|               6|               1|              5|                 1|            1|                 0|               3|               8|         0|         0|         0|         0|         0|          0|       0|              3|Não possui crianç...|\n",
            "| 15|2114|          1946|         PhD|    Solteiro|  82800.0|              0|                  0|  2012-11-24|      23|     1006|       22|             115|              59|              68|             45|                 1|            7|                 6|              12|               3|         0|         0|         1|         1|         0|          0|       1|              5|Não possui crianç...|\n",
            "| 16|9736|          1980|   Graduação|      Casado|  41850.0|              1|                  1|  2012-12-24|      51|       53|        5|              19|               2|              13|              4|                 3|            3|                 0|               3|               8|         0|         0|         0|         0|         0|          0|       0|              3|Possui criança em...|\n",
            "| 17|4939|          1946|   Graduação|       Junto|  37760.0|              0|                  0|  2012-08-31|      20|       84|        5|              38|             150|              12|             28|                 2|            4|                 1|               6|               7|         0|         0|         0|         0|         0|          0|       0|              5|Não possui crianç...|\n",
            "| 18|6565|          1949|    Mestrado|      Casado|  76995.0|              0|                  1|  2013-03-28|      91|     1012|       80|             498|               0|              16|            176|                 2|           11|                 4|               9|               5|         0|         0|         0|         1|         0|          0|       0|              4|Não possui crianç...|\n",
            "| 19|2278|          1985|   2nd Ciclo|    Solteiro|  33812.0|              1|                  0|  2012-11-03|      86|        4|       17|              19|              30|              24|             39|                 2|            2|                 1|               3|               6|         0|         0|         0|         0|         0|          0|       0|              4|Possui criança em...|\n",
            "+---+----+--------------+------------+------------+---------+---------------+-------------------+------------+--------+---------+---------+----------------+----------------+----------------+---------------+------------------+-------------+------------------+----------------+----------------+----------+----------+----------+----------+----------+-----------+--------+---------------+--------------------+\n",
            "only showing top 20 rows\n",
            "\n"
          ]
        }
      ]
    },
    {
      "cell_type": "code",
      "metadata": {
        "colab": {
          "base_uri": "https://localhost:8080/"
        },
        "id": "5qd3ozXhF-3z",
        "outputId": "dbd31fb5-9345-4d2f-b6ee-30318c3e2b75"
      },
      "source": [
        "df_with_schema = df_with_schema.withColumn(\"Idade\", Ano_atual - F.col(\"Ano_nascimento\"))\n",
        "\n",
        "df_with_schema.show()"
      ],
      "execution_count": 102,
      "outputs": [
        {
          "output_type": "stream",
          "name": "stdout",
          "text": [
            "+---+----+--------------+------------+------------+---------+---------------+-------------------+------------+--------+---------+---------+----------------+----------------+----------------+---------------+------------------+-------------+------------------+----------------+----------------+----------+----------+----------+----------+----------+-----------+--------+---------------+--------------------+-----+\n",
            "|_c0|  ID|Ano_nascimento|Escolaridade|Estado_civil|    Renda|Crianca_em_casa|Adolescente_em_casa|Data_Cliente|Recencia|QtdVinhos|QtdFrutas|QtdProdutosCarne|QtdProdutosPeixe|QtdProdutosDoces|QtdProdutosGold|NumOfertasDeCompra|NumOfertasWeb|NumOfertasCatalogo|NumComprasNaLoja|NumVisitasWebMes|Cmp3Aceito|Cmp4Aceito|Cmp5Aceito|Cmp1Aceito|Cmp2Aceito|Reclamacoes|Resposta|Recencia_medida|         Tem_Crianca|Idade|\n",
            "+---+----+--------------+------------+------------+---------+---------------+-------------------+------------+--------+---------+---------+----------------+----------------+----------------+---------------+------------------+-------------+------------------+----------------+----------------+----------+----------+----------+----------+----------+-----------+--------+---------------+--------------------+-----+\n",
            "|  0|5524|          1957|   Graduação|    Solteiro|  58138.0|              0|                  0|  2012-09-04|      58|      635|       88|             546|             172|              88|             88|                 3|            8|                10|               4|               7|         0|         0|         0|         0|         0|          0|       1|              3|Não possui crianç...|   64|\n",
            "|  1|2174|          1954|   Graduação|    Solteiro|  46344.0|              1|                  1|  2014-03-08|      38|       11|        1|               6|               2|               1|              6|                 2|            1|                 1|               2|               5|         0|         0|         0|         0|         0|          0|       0|              3|Possui criança em...|   67|\n",
            "|  2|4141|          1965|   Graduação|       Junto|  71613.0|              0|                  0|  2013-08-21|      26|      426|       49|             127|             111|              21|             42|                 1|            8|                 2|              10|               4|         0|         0|         0|         0|         0|          0|       0|              5|Não possui crianç...|   56|\n",
            "|  3|6182|          1984|   Graduação|       Junto|  26646.0|              1|                  0|  2014-02-10|      26|       11|        4|              20|              10|               3|              5|                 2|            2|                 0|               4|               6|         0|         0|         0|         0|         0|          0|       0|              5|Possui criança em...|   37|\n",
            "|  4|5324|          1981|         PhD|      Casado|  58293.0|              1|                  0|  2014-01-19|      94|      173|       43|             118|              46|              27|             15|                 5|            5|                 3|               6|               5|         0|         0|         0|         0|         0|          0|       0|              4|Possui criança em...|   40|\n",
            "|  5|7446|          1967|    Mestrado|       Junto|  62513.0|              0|                  1|  2013-09-09|      16|      520|       42|              98|               0|              42|             14|                 2|            6|                 4|              10|               6|         0|         0|         0|         0|         0|          0|       0|              5|Não possui crianç...|   54|\n",
            "|  6| 965|          1971|   Graduação|  Divorciado|  55635.0|              0|                  1|  2012-11-13|      34|      235|       65|             164|              50|              49|             27|                 4|            7|                 3|               7|               6|         0|         0|         0|         0|         0|          0|       0|              3|Não possui crianç...|   50|\n",
            "|  7|6177|          1985|         PhD|      Casado|  33454.0|              1|                  0|  2013-05-08|      32|       76|       10|              56|               3|               1|             23|                 2|            4|                 0|               4|               8|         0|         0|         0|         0|         0|          0|       0|              3|Possui criança em...|   36|\n",
            "|  8|4855|          1974|         PhD|       Junto|  30351.0|              1|                  0|  2013-06-06|      19|       14|        0|              24|               3|               3|              2|                 1|            3|                 0|               2|               9|         0|         0|         0|         0|         0|          0|       1|              5|Possui criança em...|   47|\n",
            "|  9|5899|          1950|         PhD|       Junto|   5648.0|              1|                  1|  2014-03-13|      68|       28|        0|               6|               1|               1|             13|                 1|            1|                 0|               0|              20|         1|         0|         0|         0|         0|          0|       0|              4|Possui criança em...|   71|\n",
            "| 10|1994|          1983|   Graduação|      Casado|30399.266|              1|                  0|  2013-11-15|      11|        5|        5|               6|               0|               2|              1|                 1|            1|                 0|               2|               7|         0|         0|         0|         0|         0|          0|       0|              5|Possui criança em...|   38|\n",
            "| 11| 387|          1976|      Basico|      Casado|   7500.0|              0|                  0|  2012-11-13|      59|        6|       16|              11|              11|               1|             16|                 1|            2|                 0|               3|               8|         0|         0|         0|         0|         0|          0|       0|              3|Não possui crianç...|   45|\n",
            "| 12|2125|          1959|   Graduação|  Divorciado|  63033.0|              0|                  0|  2013-11-15|      82|      194|       61|             480|             225|             112|             30|                 1|            3|                 4|               8|               2|         0|         0|         0|         0|         0|          0|       0|              4|Não possui crianç...|   62|\n",
            "| 13|8180|          1952|    Mestrado|  Divorciado|  59354.0|              1|                  1|  2013-11-15|      53|      233|        2|              53|               3|               5|             14|                 3|            6|                 1|               5|               6|         0|         0|         0|         0|         0|          0|       0|              3|Possui criança em...|   69|\n",
            "| 14|2569|          1987|   Graduação|      Casado|  17323.0|              0|                  0|  2012-10-10|      38|        3|       14|              17|               6|               1|              5|                 1|            1|                 0|               3|               8|         0|         0|         0|         0|         0|          0|       0|              3|Não possui crianç...|   34|\n",
            "| 15|2114|          1946|         PhD|    Solteiro|  82800.0|              0|                  0|  2012-11-24|      23|     1006|       22|             115|              59|              68|             45|                 1|            7|                 6|              12|               3|         0|         0|         1|         1|         0|          0|       1|              5|Não possui crianç...|   75|\n",
            "| 16|9736|          1980|   Graduação|      Casado|  41850.0|              1|                  1|  2012-12-24|      51|       53|        5|              19|               2|              13|              4|                 3|            3|                 0|               3|               8|         0|         0|         0|         0|         0|          0|       0|              3|Possui criança em...|   41|\n",
            "| 17|4939|          1946|   Graduação|       Junto|  37760.0|              0|                  0|  2012-08-31|      20|       84|        5|              38|             150|              12|             28|                 2|            4|                 1|               6|               7|         0|         0|         0|         0|         0|          0|       0|              5|Não possui crianç...|   75|\n",
            "| 18|6565|          1949|    Mestrado|      Casado|  76995.0|              0|                  1|  2013-03-28|      91|     1012|       80|             498|               0|              16|            176|                 2|           11|                 4|               9|               5|         0|         0|         0|         1|         0|          0|       0|              4|Não possui crianç...|   72|\n",
            "| 19|2278|          1985|   2nd Ciclo|    Solteiro|  33812.0|              1|                  0|  2012-11-03|      86|        4|       17|              19|              30|              24|             39|                 2|            2|                 1|               3|               6|         0|         0|         0|         0|         0|          0|       0|              4|Possui criança em...|   36|\n",
            "+---+----+--------------+------------+------------+---------+---------------+-------------------+------------+--------+---------+---------+----------------+----------------+----------------+---------------+------------------+-------------+------------------+----------------+----------------+----------+----------+----------+----------+----------+-----------+--------+---------------+--------------------+-----+\n",
            "only showing top 20 rows\n",
            "\n"
          ]
        }
      ]
    },
    {
      "cell_type": "markdown",
      "metadata": {
        "id": "k3Jspr7DCnRW"
      },
      "source": [
        "# Filtros ordenação e agrupamento"
      ]
    },
    {
      "cell_type": "code",
      "metadata": {
        "colab": {
          "base_uri": "https://localhost:8080/"
        },
        "id": "nE7KKoq32ubZ",
        "outputId": "a912014c-8547-47eb-e4fb-f07f6c274c80"
      },
      "source": [
        "df_with_schema.select(F.col(\"Idade\"), F.col(\"Escolaridade\"), F.col(\"Estado_civil\"), F.col(\"Renda\"))\\\n",
        "                .filter(F.col(\"Escolaridade\") == \"Graduação\")\\\n",
        "                .show(50)"
      ],
      "execution_count": 104,
      "outputs": [
        {
          "output_type": "stream",
          "name": "stdout",
          "text": [
            "+-----+------------+------------+---------+\n",
            "|Idade|Escolaridade|Estado_civil|    Renda|\n",
            "+-----+------------+------------+---------+\n",
            "|   64|   Graduação|    Solteiro|  58138.0|\n",
            "|   67|   Graduação|    Solteiro|  46344.0|\n",
            "|   56|   Graduação|       Junto|  71613.0|\n",
            "|   37|   Graduação|       Junto|  26646.0|\n",
            "|   50|   Graduação|  Divorciado|  55635.0|\n",
            "|   38|   Graduação|      Casado|30399.266|\n",
            "|   62|   Graduação|  Divorciado|  63033.0|\n",
            "|   34|   Graduação|      Casado|  17323.0|\n",
            "|   41|   Graduação|      Casado|  41850.0|\n",
            "|   75|   Graduação|       Junto|  37760.0|\n",
            "|   39|   Graduação|      Casado|  37040.0|\n",
            "|   42|   Graduação|      Casado|   2447.0|\n",
            "|   70|   Graduação|       Junto|  40689.0|\n",
            "|   52|   Graduação|    Solteiro|  18589.0|\n",
            "|   45|   Graduação|      Casado|  53359.0|\n",
            "|   35|   Graduação|    Solteiro| 32993.14|\n",
            "|   32|   Graduação|      Casado|  38360.0|\n",
            "|   51|   Graduação|       Junto|  40548.0|\n",
            "|   48|   Graduação|       Viuva|  42429.0|\n",
            "|   41|   Graduação|      Casado|  80011.0|\n",
            "|   64|   Graduação|       Junto|  21994.0|\n",
            "|   45|   Graduação|    Solteiro|  79941.0|\n",
            "|   53|   Graduação|       Junto|  41728.0|\n",
            "|   70|   Graduação|    Solteiro|40840.973|\n",
            "|   64|   Graduação|       Viuva|  65486.0|\n",
            "|   44|   Graduação|    Solteiro|  35790.0|\n",
            "|   44|   Graduação|  Divorciado|  82582.0|\n",
            "|   43|   Graduação|      Casado|  66373.0|\n",
            "|   55|   Graduação|  Divorciado|  70287.0|\n",
            "|   33|   Graduação|    Solteiro|  27938.0|\n",
            "|   39|   Graduação|    Solteiro|34814.918|\n",
            "|   46|   Graduação|       Junto|  66653.0|\n",
            "|   69|   Graduação|    Solteiro|  61823.0|\n",
            "|   73|   Graduação|       Junto|  70666.0|\n",
            "|   50|   Graduação|      Casado|  25721.0|\n",
            "|   54|   Graduação|       Junto|  32474.0|\n",
            "|   63|   Graduação|       Junto|  69096.0|\n",
            "|   51|   Graduação|       Junto|  74854.0|\n",
            "|   62|   Graduação|      Casado|  65031.0|\n",
            "|   69|   Graduação|      Casado|  28332.0|\n",
            "|   44|   Graduação|  Divorciado|  40246.0|\n",
            "|   45|   Graduação|    Solteiro|  75825.0|\n",
            "|   56|   Graduação|       Junto|  56046.0|\n",
            "|   36|   Graduação|    Solteiro|  29760.0|\n",
            "|   52|   Graduação|      Casado|  26304.0|\n",
            "|   34|   Graduação|  Divorciado|  81361.0|\n",
            "|   61|   Graduação|      Casado|  29440.0|\n",
            "|   64|   Graduação|    Solteiro|  50388.0|\n",
            "|   48|   Graduação|      Casado|  79593.0|\n",
            "|   54|   Graduação|       Junto|  54178.0|\n",
            "+-----+------------+------------+---------+\n",
            "only showing top 50 rows\n",
            "\n"
          ]
        }
      ]
    },
    {
      "cell_type": "code",
      "metadata": {
        "colab": {
          "base_uri": "https://localhost:8080/"
        },
        "id": "R0g92mAJD0ro",
        "outputId": "aab72356-ef4b-450c-b84a-beb811b0bca1"
      },
      "source": [
        "df_with_schema.select(F.col(\"Escolaridade\"), F.col('Renda')).filter(F.col('Renda') < 5000).show()"
      ],
      "execution_count": 105,
      "outputs": [
        {
          "output_type": "stream",
          "name": "stdout",
          "text": [
            "+------------+------+\n",
            "|Escolaridade| Renda|\n",
            "+------------+------+\n",
            "|   Graduação|2447.0|\n",
            "|   Graduação|4861.0|\n",
            "|   Graduação|1730.0|\n",
            "|   Graduação|3502.0|\n",
            "|         PhD|4023.0|\n",
            "|   Graduação|4428.0|\n",
            "+------------+------+\n",
            "\n"
          ]
        }
      ]
    },
    {
      "cell_type": "code",
      "metadata": {
        "colab": {
          "base_uri": "https://localhost:8080/"
        },
        "id": "UhkfJTOVEpye",
        "outputId": "ecb5154d-de31-4a88-f5ee-7e89470f3e40"
      },
      "source": [
        "df_with_schema.select(F.col('Escolaridade'), F.col('Renda')).orderBy('Renda').show()"
      ],
      "execution_count": 106,
      "outputs": [
        {
          "output_type": "stream",
          "name": "stdout",
          "text": [
            "+------------+------+\n",
            "|Escolaridade| Renda|\n",
            "+------------+------+\n",
            "|   Graduação|1730.0|\n",
            "|   Graduação|2447.0|\n",
            "|   Graduação|3502.0|\n",
            "|         PhD|4023.0|\n",
            "|   Graduação|4428.0|\n",
            "|   Graduação|4861.0|\n",
            "|   Graduação|5305.0|\n",
            "|         PhD|5648.0|\n",
            "|    Mestrado|6560.0|\n",
            "|         PhD|6835.0|\n",
            "|         PhD|7144.0|\n",
            "|   Graduação|7500.0|\n",
            "|   2nd Ciclo|7500.0|\n",
            "|   Graduação|7500.0|\n",
            "|      Basico|7500.0|\n",
            "|   Graduação|7500.0|\n",
            "|      Basico|7500.0|\n",
            "|   Graduação|7500.0|\n",
            "|    Mestrado|7500.0|\n",
            "|   Graduação|7500.0|\n",
            "+------------+------+\n",
            "only showing top 20 rows\n",
            "\n"
          ]
        }
      ]
    },
    {
      "cell_type": "code",
      "metadata": {
        "colab": {
          "base_uri": "https://localhost:8080/"
        },
        "id": "d7gcvguaFamP",
        "outputId": "89f81fa7-f52e-451a-89e8-dca10c1bf38c"
      },
      "source": [
        "df_with_schema.select(F.col(\"Idade\"), F.col('Escolaridade'), F.col('Renda')).orderBy('Idade').show()"
      ],
      "execution_count": 108,
      "outputs": [
        {
          "output_type": "stream",
          "name": "stdout",
          "text": [
            "+-----+------------+-------+\n",
            "|Idade|Escolaridade|  Renda|\n",
            "+-----+------------+-------+\n",
            "|   25|   2nd Ciclo| 7500.0|\n",
            "|   25|      Basico|14421.0|\n",
            "|   26|   2nd Ciclo|83257.0|\n",
            "|   26|   2nd Ciclo|80617.0|\n",
            "|   26|   Graduação|34824.0|\n",
            "|   26|   Graduação|71163.0|\n",
            "|   26|   Graduação|34824.0|\n",
            "|   27|   Graduação|80134.0|\n",
            "|   27|   Graduação|80685.0|\n",
            "|   27|   Graduação|95529.0|\n",
            "|   28|   Graduação|72354.0|\n",
            "|   28|   Graduação|74293.0|\n",
            "|   28|   Graduação|70515.0|\n",
            "|   28|   Graduação|79244.0|\n",
            "|   28|   Graduação|74293.0|\n",
            "|   29|    Mestrado|42670.0|\n",
            "|   29|   Graduação|34935.0|\n",
            "|   29|    Mestrado|92859.0|\n",
            "|   29|   Graduação|75114.0|\n",
            "|   29|   Graduação|48789.0|\n",
            "+-----+------------+-------+\n",
            "only showing top 20 rows\n",
            "\n"
          ]
        }
      ]
    },
    {
      "cell_type": "code",
      "metadata": {
        "colab": {
          "base_uri": "https://localhost:8080/"
        },
        "id": "_14_Ih4-GKtz",
        "outputId": "ba38c069-ad4d-4f87-fca1-94a5c25f1071"
      },
      "source": [
        "df_with_schema.groupBy(\"Data_Cliente\").min(\"Recencia_medida\").show(truncate=False)"
      ],
      "execution_count": 112,
      "outputs": [
        {
          "output_type": "stream",
          "name": "stdout",
          "text": [
            "+------------+--------------------+\n",
            "|Data_Cliente|min(Recencia_medida)|\n",
            "+------------+--------------------+\n",
            "|2014-05-27  |3                   |\n",
            "|2014-02-16  |3                   |\n",
            "|2013-03-14  |3                   |\n",
            "|2014-02-22  |5                   |\n",
            "|2012-10-21  |3                   |\n",
            "|2013-08-20  |3                   |\n",
            "|2013-12-28  |3                   |\n",
            "|2014-03-20  |3                   |\n",
            "|2014-03-17  |3                   |\n",
            "|2013-11-08  |4                   |\n",
            "|2013-09-27  |4                   |\n",
            "|2012-08-17  |3                   |\n",
            "|2012-09-05  |5                   |\n",
            "|2012-11-08  |3                   |\n",
            "|2014-05-23  |3                   |\n",
            "|2013-02-17  |3                   |\n",
            "|2014-02-08  |5                   |\n",
            "|2013-05-24  |4                   |\n",
            "|2013-11-05  |4                   |\n",
            "|2013-02-12  |3                   |\n",
            "+------------+--------------------+\n",
            "only showing top 20 rows\n",
            "\n"
          ]
        }
      ]
    },
    {
      "cell_type": "code",
      "metadata": {
        "colab": {
          "base_uri": "https://localhost:8080/"
        },
        "id": "a7zNYNl4GrBp",
        "outputId": "22019645-f073-4f36-94aa-3204460bd8b0"
      },
      "source": [
        "df_with_schema.groupBy(\"Data_Cliente\").max(\"Recencia_medida\").show(truncate=False)"
      ],
      "execution_count": 113,
      "outputs": [
        {
          "output_type": "stream",
          "name": "stdout",
          "text": [
            "+------------+--------------------+\n",
            "|Data_Cliente|max(Recencia_medida)|\n",
            "+------------+--------------------+\n",
            "|2014-05-27  |3                   |\n",
            "|2014-02-16  |4                   |\n",
            "|2013-03-14  |5                   |\n",
            "|2014-02-22  |5                   |\n",
            "|2012-10-21  |3                   |\n",
            "|2013-08-20  |5                   |\n",
            "|2013-12-28  |3                   |\n",
            "|2014-03-20  |5                   |\n",
            "|2014-03-17  |5                   |\n",
            "|2013-11-08  |4                   |\n",
            "|2013-09-27  |5                   |\n",
            "|2012-08-17  |5                   |\n",
            "|2012-09-05  |5                   |\n",
            "|2012-11-08  |5                   |\n",
            "|2014-05-23  |5                   |\n",
            "|2013-02-17  |4                   |\n",
            "|2014-02-08  |5                   |\n",
            "|2013-05-24  |4                   |\n",
            "|2013-11-05  |5                   |\n",
            "|2013-02-12  |5                   |\n",
            "+------------+--------------------+\n",
            "only showing top 20 rows\n",
            "\n"
          ]
        }
      ]
    },
    {
      "cell_type": "code",
      "metadata": {
        "colab": {
          "base_uri": "https://localhost:8080/"
        },
        "id": "2cAYID2_G-2Y",
        "outputId": "dc386cb9-a276-4dc7-af79-6caf8fb83b65"
      },
      "source": [
        "df_with_schema.groupBy(\"Idade\").mean(\"Renda\").show()"
      ],
      "execution_count": 117,
      "outputs": [
        {
          "output_type": "stream",
          "name": "stdout",
          "text": [
            "+-----+------------------+\n",
            "|Idade|        avg(Renda)|\n",
            "+-----+------------------+\n",
            "|   31| 40919.27777777778|\n",
            "|   65|           56706.6|\n",
            "|   53|48597.450980392154|\n",
            "|   78| 64249.06696428572|\n",
            "|   34|46888.666666666664|\n",
            "|   81|           51141.0|\n",
            "|   28|           74139.8|\n",
            "|   76|         70375.375|\n",
            "|   27| 85449.33333333333|\n",
            "|   26|           60937.0|\n",
            "|   44| 62653.03846153846|\n",
            "|  128|           60182.0|\n",
            "|  122|           83532.0|\n",
            "|   47| 48338.89855072464|\n",
            "|   52| 51358.53818221831|\n",
            "|   40|46640.247996794875|\n",
            "|   57| 55737.74865141369|\n",
            "|   54|53782.431818181816|\n",
            "|   48| 47521.59702280405|\n",
            "|   64|53725.355014534885|\n",
            "+-----+------------------+\n",
            "only showing top 20 rows\n",
            "\n"
          ]
        }
      ]
    },
    {
      "cell_type": "markdown",
      "metadata": {
        "id": "Fpx0fjlmHeEc"
      },
      "source": [
        "# Window Functions"
      ]
    },
    {
      "cell_type": "code",
      "metadata": {
        "colab": {
          "base_uri": "https://localhost:8080/"
        },
        "id": "VECtWbTxHOCm",
        "outputId": "da5594a3-1eb8-41aa-b423-6605fce73408"
      },
      "source": [
        "w1 = W.orderBy(F.col('Idade').desc())\n",
        "df_with_schema.withColumn(\"rank_Idade\", F.rank().over(w1)).show()"
      ],
      "execution_count": 118,
      "outputs": [
        {
          "output_type": "stream",
          "name": "stdout",
          "text": [
            "+----+-----+--------------+------------+------------+--------+---------------+-------------------+------------+--------+---------+---------+----------------+----------------+----------------+---------------+------------------+-------------+------------------+----------------+----------------+----------+----------+----------+----------+----------+-----------+--------+---------------+--------------------+-----+----------+\n",
            "| _c0|   ID|Ano_nascimento|Escolaridade|Estado_civil|   Renda|Crianca_em_casa|Adolescente_em_casa|Data_Cliente|Recencia|QtdVinhos|QtdFrutas|QtdProdutosCarne|QtdProdutosPeixe|QtdProdutosDoces|QtdProdutosGold|NumOfertasDeCompra|NumOfertasWeb|NumOfertasCatalogo|NumComprasNaLoja|NumVisitasWebMes|Cmp3Aceito|Cmp4Aceito|Cmp5Aceito|Cmp1Aceito|Cmp2Aceito|Reclamacoes|Resposta|Recencia_medida|         Tem_Crianca|Idade|rank_Idade|\n",
            "+----+-----+--------------+------------+------------+--------+---------------+-------------------+------------+--------+---------+---------+----------------+----------------+----------------+---------------+------------------+-------------+------------------+----------------+----------------+----------+----------+----------+----------+----------+-----------+--------+---------------+--------------------+-----+----------+\n",
            "| 239|11004|          1893|   2nd Ciclo|    Solteiro| 60182.0|              0|                  1|  2014-05-17|      23|        8|        0|               5|               7|               0|              2|                 1|            1|                 0|               2|               4|         0|         0|         0|         0|         0|          0|       0|              5|Não possui crianç...|  128|         1|\n",
            "| 339| 1150|          1899|         PhD|       Junto| 83532.0|              0|                  0|  2013-09-26|      36|      755|      144|             562|             104|              64|            224|                 1|            4|                 6|               4|               1|         0|         0|         1|         0|         0|          0|       0|              3|Não possui crianç...|  122|         2|\n",
            "| 192| 7829|          1900|   2nd Ciclo|  Divorciado| 36640.0|              1|                  0|  2013-09-26|      99|       15|        6|               8|               7|               4|             25|                 1|            2|                 1|               2|               5|         0|         0|         0|         0|         0|          1|       0|              4|Possui criança em...|  121|         3|\n",
            "|1950| 6663|          1940|         PhD|    Solteiro| 51141.0|              0|                  0|  2013-07-08|      96|      144|        0|               7|               0|               0|              6|                 1|            3|                 1|               4|               5|         0|         0|         0|         0|         0|          0|       0|              4|Não possui crianç...|   81|         4|\n",
            "| 424| 6932|          1941|         PhD|      Casado| 93027.0|              0|                  0|  2013-04-13|      77|     1285|       42|             716|              55|               0|             21|                 0|            7|                10|               5|               2|         0|         0|         1|         0|         0|          0|       0|              4|Não possui crianç...|   80|         5|\n",
            "|  39| 2968|          1943|         PhD|  Divorciado| 48948.0|              0|                  0|  2013-02-01|      53|      437|        8|             206|             160|              49|             42|                 2|            7|                10|               5|               6|         1|         0|         0|         0|         0|          0|       1|              3|Não possui crianç...|   78|         6|\n",
            "| 358| 6142|          1943|    Mestrado|      Casado| 65073.0|              0|                  0|  2013-08-20|      65|      629|       17|             177|              69|               0|              8|                 1|            5|                 3|               5|               2|         0|         0|         0|         0|         0|          1|       0|              4|Não possui crianç...|   78|         6|\n",
            "| 415| 7106|          1943|         PhD|      Casado| 75865.0|              0|                  0|  2014-03-31|      73|      483|        0|             591|             156|               0|             12|                 1|            3|                 5|              10|               1|         0|         0|         0|         0|         0|          0|       0|              4|Não possui crianç...|   78|         6|\n",
            "| 894| 8800|          1943|         PhD|  Divorciado| 48948.0|              0|                  0|  2013-02-01|      53|      437|        8|             206|             160|              49|             42|                 2|            7|                10|               5|               6|         1|         0|         0|         0|         0|          0|       1|              3|Não possui crianç...|   78|         6|\n",
            "|1150| 1453|          1943|         PhD|       Viuva| 57513.0|              0|                  0|  2013-07-06|      59|      735|       40|             183|              52|              20|             30|                 2|            9|                 3|              13|               6|         0|         0|         0|         0|         0|          0|       0|              3|Não possui crianç...|   78|         6|\n",
            "|1923| 4994|          1943|    Mestrado|    Solteiro| 77598.0|              0|                  0|  2013-10-01|      53|     1193|       33|             281|             129|              66|             33|                 1|            7|                 5|              13|               3|         0|         0|         1|         0|         0|          0|       0|              3|Não possui crianç...|   78|         6|\n",
            "|2084| 5250|          1943|    Mestrado|       Viuva|75798.47|              0|                  0|  2013-10-30|      75|      532|      126|             490|             164|             126|            126|                 1|            5|                 5|              11|               1|         0|         0|         1|         0|         0|          0|       1|              4|Não possui crianç...|   78|         6|\n",
            "| 519| 3711|          1944|    Mestrado|      Casado| 80184.0|              0|                  0|  2014-03-01|      19|     1035|      134|             670|              25|              38|              0|                 1|            6|                 3|              10|               3|         0|         0|         1|         1|         0|          0|       0|              5|Não possui crianç...|   77|        13|\n",
            "| 499|  466|          1944|   Graduação|      Casado| 65275.0|              0|                  0|  2013-04-03|       9|      388|       14|             218|              91|              14|             21|                 1|            4|                 3|              13|               2|         0|         0|         0|         0|         0|          0|       0|              5|Não possui crianç...|   77|        13|\n",
            "| 611| 4587|          1944|    Mestrado|       Viuva| 45006.0|              0|                  0|  2013-07-18|      90|      162|       25|              53|              16|               0|             10|                 1|            3|                 1|               7|               3|         0|         0|         0|         0|         0|          0|       0|              4|Não possui crianç...|   77|        13|\n",
            "| 494| 6605|          1944|         PhD|  Divorciado| 55614.0|              0|                  0|  2013-11-27|      85|      504|       13|             131|               8|               0|             26|                 1|            9|                 4|               6|               7|         0|         1|         0|         0|         0|          0|       0|              4|Não possui crianç...|   77|        13|\n",
            "| 803| 9930|          1944|         PhD|    Solteiro| 82716.0|              0|                  0|  2013-11-05|       8|      606|      148|             228|              15|             148|             22|                 1|            6|                 8|              13|               2|         0|         0|         0|         0|         0|          0|       0|              5|Não possui crianç...|   77|        13|\n",
            "|1270| 1740|          1944|   Graduação|      Casado| 55956.0|              0|                  0|  2014-04-07|      22|      760|       38|             104|              50|               9|             38|                 2|            7|                 3|               4|               4|         0|         1|         0|         0|         0|          0|       0|              5|Não possui crianç...|   77|        13|\n",
            "|1413| 4310|          1944|   Graduação|      Casado| 80589.0|              0|                  0|  2014-01-22|      25|      507|       93|             520|             242|              40|             26|                 1|            5|                10|               5|               1|         0|         0|         0|         1|         0|          0|       1|              5|Não possui crianç...|   77|        13|\n",
            "| 161| 9260|          1945|         PhD|      Casado| 70356.0|              0|                  0|  2012-11-05|      20|     1349|       16|             249|              43|              16|             33|                 2|           10|                 6|               9|               6|         0|         0|         0|         0|         0|          0|       0|              5|Não possui crianç...|   76|        20|\n",
            "+----+-----+--------------+------------+------------+--------+---------------+-------------------+------------+--------+---------+---------+----------------+----------------+----------------+---------------+------------------+-------------+------------------+----------------+----------------+----------+----------+----------+----------+----------+-----------+--------+---------------+--------------------+-----+----------+\n",
            "only showing top 20 rows\n",
            "\n"
          ]
        }
      ]
    },
    {
      "cell_type": "code",
      "metadata": {
        "colab": {
          "base_uri": "https://localhost:8080/"
        },
        "id": "hZ_WFKQtH4Jy",
        "outputId": "6b7363a4-23cc-4d08-c7f0-28297496aa75"
      },
      "source": [
        "w2 = W.partitionBy(F.col(\"Recencia_medida\")).orderBy(\"Renda\")\n",
        "df_with_schema.withColumn(\"row_number\", F.row_number().over(w2)).show()"
      ],
      "execution_count": 120,
      "outputs": [
        {
          "output_type": "stream",
          "name": "stdout",
          "text": [
            "+----+-----+--------------+------------+------------+-------+---------------+-------------------+------------+--------+---------+---------+----------------+----------------+----------------+---------------+------------------+-------------+------------------+----------------+----------------+----------+----------+----------+----------+----------+-----------+--------+---------------+--------------------+-----+----------+\n",
            "| _c0|   ID|Ano_nascimento|Escolaridade|Estado_civil|  Renda|Crianca_em_casa|Adolescente_em_casa|Data_Cliente|Recencia|QtdVinhos|QtdFrutas|QtdProdutosCarne|QtdProdutosPeixe|QtdProdutosDoces|QtdProdutosGold|NumOfertasDeCompra|NumOfertasWeb|NumOfertasCatalogo|NumComprasNaLoja|NumVisitasWebMes|Cmp3Aceito|Cmp4Aceito|Cmp5Aceito|Cmp1Aceito|Cmp2Aceito|Reclamacoes|Resposta|Recencia_medida|         Tem_Crianca|Idade|row_number|\n",
            "+----+-----+--------------+------------+------------+-------+---------------+-------------------+------------+--------+---------+---------+----------------+----------------+----------------+---------------+------------------+-------------+------------------+----------------+----------------+----------+----------+----------+----------+----------+-----------+--------+---------------+--------------------+-----+----------+\n",
            "|  21| 5376|          1979|   Graduação|      Casado| 2447.0|              1|                  0|  2013-01-06|      42|        1|        1|            1725|               1|               1|              1|                15|            0|                28|               0|               1|         0|         0|         0|         0|         0|          0|       0|              3|Possui criança em...|   42|         1|\n",
            "|1524|11110|          1973|   Graduação|    Solteiro| 3502.0|              1|                  0|  2013-04-13|      56|        2|        1|               1|               0|               0|              1|                 0|            0|                 0|               0|              14|         0|         0|         0|         0|         0|          0|       0|              3|Possui criança em...|   48|         2|\n",
            "|  11|  387|          1976|      Basico|      Casado| 7500.0|              0|                  0|  2012-11-13|      59|        6|       16|              11|              11|               1|             16|                 1|            2|                 0|               3|               8|         0|         0|         0|         0|         0|          0|       0|              3|Não possui crianç...|   45|         3|\n",
            "| 238| 7297|          1973|   Graduação|    Solteiro| 7500.0|              1|                  0|  2013-12-26|      54|        5|        3|              10|              12|               7|             20|                 4|            3|                 1|               3|               7|         0|         0|         0|         0|         0|          0|       0|              3|Possui criança em...|   48|         4|\n",
            "|2195| 2980|          1952|    Mestrado|    Solteiro| 8820.0|              1|                  1|  2013-03-22|      52|       12|        0|              13|               4|               2|              4|                 4|            3|                 0|               3|               8|         0|         0|         0|         0|         0|          0|       0|              3|Possui criança em...|   69|         5|\n",
            "| 385|  948|          1971|   Graduação|    Solteiro|10245.0|              1|                  0|  2013-05-15|      32|        4|        7|               7|               6|               4|             13|                 3|            1|                 2|               2|               5|         0|         0|         0|         0|         0|          0|       0|              3|Possui criança em...|   50|         6|\n",
            "| 428| 5987|          1989|   2nd Ciclo|       Junto|10404.0|              1|                  0|  2014-05-04|      52|        2|        2|              11|              10|               6|             12|                 2|            1|                 0|               4|               5|         0|         0|         0|         0|         0|          0|       0|              3|Possui criança em...|   32|         7|\n",
            "|  30| 6864|          1989|    Mestrado|  Divorciado|10979.0|              0|                  0|  2014-05-22|      34|        8|        4|              10|               2|               2|              4|                 2|            3|                 0|               3|               5|         0|         0|         0|         0|         0|          0|       0|              3|Não possui crianç...|   32|         8|\n",
            "|1138|10617|          1989|    Mestrado|  Divorciado|10979.0|              0|                  0|  2014-05-22|      34|        8|        4|              10|               2|               2|              4|                 2|            3|                 0|               3|               5|         0|         0|         0|         0|         0|          0|       0|              3|Não possui crianç...|   32|         9|\n",
            "|1611| 1773|          1978|   2nd Ciclo|      Casado|12393.0|              0|                  0|  2012-12-04|      38|        5|        6|              15|              11|               7|             13|                 1|            2|                 0|               3|               9|         0|         0|         0|         0|         0|          0|       0|              3|Não possui crianç...|   43|        10|\n",
            "| 577| 1160|          1970|   Graduação|      Casado|13260.0|              1|                  1|  2013-08-23|      48|        9|        4|              17|              10|               2|              7|                 4|            3|                 0|               3|               8|         0|         0|         0|         0|         0|          0|       0|              3|Possui criança em...|   51|        11|\n",
            "|1761| 8812|          1979|   2nd Ciclo|  Divorciado|13533.0|              1|                  0|  2013-03-10|      45|       12|        3|               8|               8|               0|             17|                 2|            2|                 0|               3|               7|         0|         0|         0|         0|         0|          0|       0|              3|Possui criança em...|   42|        12|\n",
            "|1592|10069|          1988|      Basico|       Junto|13724.0|              1|                  0|  2012-08-31|      43|        2|        7|               5|               2|              15|             27|                 1|            2|                 0|               2|               9|         1|         0|         0|         0|         0|          0|       0|              3|Possui criança em...|   33|        13|\n",
            "|2104| 5802|          1972|      Basico|      Casado|14188.0|              0|                  0|  2013-02-28|      40|        2|        7|              11|              16|              12|             27|                 1|            2|                 0|               4|               6|         0|         0|         0|         0|         0|          0|       0|              3|Não possui crianç...|   49|        14|\n",
            "| 326| 5835|          1976|         PhD|  Divorciado|14849.0|              1|                  0|  2013-07-02|      39|       21|        2|              28|               3|               2|              9|                 3|            2|                 0|               4|               8|         0|         0|         0|         0|         0|          0|       0|              3|Possui criança em...|   45|        15|\n",
            "|2208| 3850|          1963|      Basico|       Junto|14918.0|              0|                  1|  2012-12-07|      52|        3|        3|               3|              15|               4|             15|                 1|            1|                 0|               3|               6|         0|         0|         0|         0|         0|          0|       0|              3|Não possui crianç...|   58|        16|\n",
            "| 233| 9617|          1951|   Graduação|    Solteiro|15033.0|              0|                  0|  2014-04-16|      37|        0|        4|               5|               6|               0|              4|                 1|            1|                 0|               3|               3|         0|         0|         0|         0|         0|          0|       0|              3|Não possui crianç...|   70|        17|\n",
            "| 397| 6354|          1984|   Graduação|       Junto|15345.0|              1|                  0|  2012-08-31|      51|        5|        2|              16|               3|               2|             19|                 2|            1|                 1|               2|               8|         0|         0|         0|         0|         0|          0|       1|              3|Possui criança em...|   37|        18|\n",
            "|1755| 5394|          1979|      Basico|    Solteiro|16014.0|              1|                  1|  2013-03-17|      42|        3|        9|               4|               7|               8|              7|                 4|            1|                 1|               4|               3|         0|         0|         0|         0|         0|          0|       0|              3|Possui criança em...|   42|        19|\n",
            "|1463|10403|          1978|   Graduação|       Junto|16531.0|              1|                  0|  2014-06-18|      43|        2|       13|               6|               7|               5|             11|                 3|            3|                 0|               3|               7|         0|         0|         0|         0|         0|          0|       0|              3|Possui criança em...|   43|        20|\n",
            "+----+-----+--------------+------------+------------+-------+---------------+-------------------+------------+--------+---------+---------+----------------+----------------+----------------+---------------+------------------+-------------+------------------+----------------+----------------+----------+----------+----------+----------+----------+-----------+--------+---------------+--------------------+-----+----------+\n",
            "only showing top 20 rows\n",
            "\n"
          ]
        }
      ]
    },
    {
      "cell_type": "code",
      "metadata": {
        "colab": {
          "base_uri": "https://localhost:8080/"
        },
        "id": "sXn8AsBDInyY",
        "outputId": "d0e5555e-cb6a-4a14-e71b-15429f97e85b"
      },
      "source": [
        "w3 = W.partitionBy(F.col(\"Renda\")).orderBy(\"Recencia_medida\")\n",
        "df_with_schema.withColumn(\"row_number\", F.row_number().over(w3)).show()"
      ],
      "execution_count": 121,
      "outputs": [
        {
          "output_type": "stream",
          "name": "stdout",
          "text": [
            "+----+-----+--------------+------------+------------+------+---------------+-------------------+------------+--------+---------+---------+----------------+----------------+----------------+---------------+------------------+-------------+------------------+----------------+----------------+----------+----------+----------+----------+----------+-----------+--------+---------------+--------------------+-----+----------+\n",
            "| _c0|   ID|Ano_nascimento|Escolaridade|Estado_civil| Renda|Crianca_em_casa|Adolescente_em_casa|Data_Cliente|Recencia|QtdVinhos|QtdFrutas|QtdProdutosCarne|QtdProdutosPeixe|QtdProdutosDoces|QtdProdutosGold|NumOfertasDeCompra|NumOfertasWeb|NumOfertasCatalogo|NumComprasNaLoja|NumVisitasWebMes|Cmp3Aceito|Cmp4Aceito|Cmp5Aceito|Cmp1Aceito|Cmp2Aceito|Reclamacoes|Resposta|Recencia_medida|         Tem_Crianca|Idade|row_number|\n",
            "+----+-----+--------------+------------+------------+------+---------------+-------------------+------------+--------+---------+---------+----------------+----------------+----------------+---------------+------------------+-------------+------------------+----------------+----------------+----------+----------+----------+----------+----------+-----------+--------+---------------+--------------------+-----+----------+\n",
            "|1245| 6862|          1971|   Graduação|  Divorciado|1730.0|              0|                  0|  2014-05-18|      65|        1|        1|               3|               1|               1|              1|                15|            0|                 0|               0|              20|         0|         0|         0|         0|         0|          0|       0|              4|Não possui crianç...|   50|         1|\n",
            "|  21| 5376|          1979|   Graduação|      Casado|2447.0|              1|                  0|  2013-01-06|      42|        1|        1|            1725|               1|               1|              1|                15|            0|                28|               0|               1|         0|         0|         0|         0|         0|          0|       0|              3|Possui criança em...|   42|         1|\n",
            "|1524|11110|          1973|   Graduação|    Solteiro|3502.0|              1|                  0|  2013-04-13|      56|        2|        1|               1|               0|               0|              1|                 0|            0|                 0|               0|              14|         0|         0|         0|         0|         0|          0|       0|              3|Possui criança em...|   48|         1|\n",
            "|1846| 9931|          1963|         PhD|      Casado|4023.0|              1|                  1|  2014-06-23|      29|        5|        0|               1|               1|               1|              1|                15|            0|                 0|               0|              19|         0|         0|         0|         0|         0|          0|       0|              5|Possui criança em...|   58|         1|\n",
            "|1975|10311|          1969|   Graduação|      Casado|4428.0|              0|                  1|  2013-10-05|       0|       16|        4|              12|               2|               4|            321|                 0|           25|                 0|               0|               1|         0|         0|         0|         0|         0|          0|       0|              5|Não possui crianç...|   52|         1|\n",
            "| 981| 3955|          1965|   Graduação|  Divorciado|4861.0|              0|                  0|  2014-06-22|      20|        2|        1|               1|               1|               0|              1|                 0|            0|                 0|               0|              14|         0|         0|         0|         0|         0|          0|       0|              5|Não possui crianç...|   56|         1|\n",
            "|2214| 9303|          1976|   Graduação|      Casado|5305.0|              0|                  1|  2013-07-30|      12|       12|        4|               7|               1|               3|              5|                 0|            1|                 0|               0|              13|         0|         0|         0|         0|         0|          0|       0|              5|Não possui crianç...|   45|         1|\n",
            "|   9| 5899|          1950|         PhD|       Junto|5648.0|              1|                  1|  2014-03-13|      68|       28|        0|               6|               1|               1|             13|                 1|            1|                 0|               0|              20|         1|         0|         0|         0|         0|          0|       0|              4|Possui criança em...|   71|         1|\n",
            "|1328| 4246|          1982|    Mestrado|    Solteiro|6560.0|              0|                  0|  2013-12-12|       2|       67|       11|              26|               4|               3|            262|                 0|            1|                 0|               1|              17|         0|         0|         0|         0|         0|          0|       0|              5|Não possui crianç...|   39|         1|\n",
            "| 774| 4303|          1957|         PhD|       Junto|6835.0|              0|                  1|  2012-12-08|      76|      107|        2|              12|               2|               2|             12|                 0|            0|                 0|               1|              20|         0|         0|         0|         0|         0|          0|       0|              4|Não possui crianç...|   64|         1|\n",
            "|1806| 6237|          1966|         PhD|    Solteiro|7144.0|              0|                  2|  2013-12-07|      92|       81|        4|              33|               5|               2|            291|                 0|           23|                 1|               1|               0|         0|         0|         0|         0|         0|          0|       0|              4|Não possui crianç...|   55|         1|\n",
            "|  11|  387|          1976|      Basico|      Casado|7500.0|              0|                  0|  2012-11-13|      59|        6|       16|              11|              11|               1|             16|                 1|            2|                 0|               3|               8|         0|         0|         0|         0|         0|          0|       0|              3|Não possui crianç...|   45|         1|\n",
            "| 238| 7297|          1973|   Graduação|    Solteiro|7500.0|              1|                  0|  2013-12-26|      54|        5|        3|              10|              12|               7|             20|                 4|            3|                 1|               3|               7|         0|         0|         0|         0|         0|          0|       0|              3|Possui criança em...|   48|         2|\n",
            "| 439|  456|          1986|   2nd Ciclo|      Casado|7500.0|              1|                  0|  2013-02-07|      96|        1|       11|               5|               4|               6|              9|                 2|            2|                 0|               3|               8|         0|         0|         0|         0|         0|          0|       0|              4|Possui criança em...|   35|         3|\n",
            "| 862| 9553|          1987|   Graduação|      Casado|7500.0|              0|                  0|  2013-01-09|      94|        0|        2|               3|               4|               1|              5|                 1|            0|                 0|               3|               6|         0|         0|         0|         0|         0|          0|       0|              4|Não possui crianç...|   34|         4|\n",
            "|1152|10710|          1979|   Graduação|      Casado|7500.0|              0|                  1|  2012-08-29|      61|        5|        2|               3|               3|               0|              5|                 1|            1|                 0|               2|               8|         0|         0|         0|         0|         0|          0|       0|              4|Não possui crianç...|   42|         5|\n",
            "|1246| 4136|          1992|      Basico|    Solteiro|7500.0|              1|                  0|  2012-12-03|      63|       10|       17|              18|               8|              26|             40|                 4|            3|                 2|               2|               9|         0|         0|         0|         0|         0|          0|       0|              4|Possui criança em...|   29|         6|\n",
            "|2029|10001|          1985|   2nd Ciclo|       Junto|7500.0|              1|                  0|  2012-08-01|      98|        5|       17|              17|              13|              14|             34|                 4|            2|                 1|               3|               9|         0|         0|         0|         0|         0|          0|       0|              4|Possui criança em...|   36|         7|\n",
            "|  44| 2139|          1975|    Mestrado|      Casado|7500.0|              1|                  0|  2013-10-02|      19|        3|        1|              10|               3|               2|             12|                 3|            2|                 0|               3|               5|         0|         0|         0|         0|         0|          0|       0|              5|Possui criança em...|   46|         8|\n",
            "|  46| 9909|          1996|   2nd Ciclo|      Casado|7500.0|              0|                  0|  2012-11-09|      24|        3|       18|              14|              15|              22|             50|                 3|            3|                 1|               3|               9|         0|         0|         0|         0|         0|          0|       1|              5|Não possui crianç...|   25|         9|\n",
            "+----+-----+--------------+------------+------------+------+---------------+-------------------+------------+--------+---------+---------+----------------+----------------+----------------+---------------+------------------+-------------+------------------+----------------+----------------+----------+----------+----------+----------+----------+-----------+--------+---------------+--------------------+-----+----------+\n",
            "only showing top 20 rows\n",
            "\n"
          ]
        }
      ]
    },
    {
      "cell_type": "code",
      "metadata": {
        "id": "yfmQg_6aIy2I"
      },
      "source": [
        ""
      ],
      "execution_count": null,
      "outputs": []
    }
  ]
}